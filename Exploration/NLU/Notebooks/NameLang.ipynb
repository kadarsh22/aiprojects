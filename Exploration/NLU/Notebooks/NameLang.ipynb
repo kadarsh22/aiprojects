{
 "cells": [
  {
   "cell_type": "markdown",
   "metadata": {},
   "source": [
    "# Setup"
   ]
  },
  {
   "cell_type": "markdown",
   "metadata": {},
   "source": [
    "## Imports"
   ]
  },
  {
   "cell_type": "code",
   "execution_count": 1,
   "metadata": {
    "collapsed": true
   },
   "outputs": [],
   "source": [
    "import os.path\n",
    "\n",
    "from glob import glob\n",
    "from tqdm import tqdm_notebook\n",
    "from sklearn.metrics import confusion_matrix"
   ]
  },
  {
   "cell_type": "code",
   "execution_count": 2,
   "metadata": {
    "collapsed": true
   },
   "outputs": [],
   "source": [
    "from vaiutils import path_consts, smooth_plot, plot_images\n",
    "from vaidata import pickle_load, pickle_dump"
   ]
  },
  {
   "cell_type": "code",
   "execution_count": 3,
   "metadata": {},
   "outputs": [
    {
     "name": "stderr",
     "output_type": "stream",
     "text": [
      "Using TensorFlow backend.\n"
     ]
    }
   ],
   "source": [
    "from keras.preprocessing.text import Tokenizer\n",
    "from keras.utils.np_utils import to_categorical"
   ]
  },
  {
   "cell_type": "code",
   "execution_count": 4,
   "metadata": {
    "collapsed": true
   },
   "outputs": [],
   "source": [
    "import torch\n",
    "\n",
    "import torch.nn as nn\n",
    "import torch.nn.functional as F\n",
    "import torch.optim as optim\n",
    "\n",
    "from torch.autograd import Variable"
   ]
  },
  {
   "cell_type": "markdown",
   "metadata": {},
   "source": [
    "## Define Useful Variables and Functions"
   ]
  },
  {
   "cell_type": "code",
   "execution_count": 5,
   "metadata": {
    "collapsed": true
   },
   "outputs": [],
   "source": [
    "for k, v in path_consts('NameLang', 'NameLang'):\n",
    "    exec(k + '=v')"
   ]
  },
  {
   "cell_type": "code",
   "execution_count": 6,
   "metadata": {
    "collapsed": true
   },
   "outputs": [],
   "source": [
    "def get_name(name_idx):\n",
    "    if type(name_idx[0]) is list:\n",
    "        return [get_name(n) for n in name_idx]\n",
    "\n",
    "    return ''.join([idx_char[i] for i in name_idx])"
   ]
  },
  {
   "cell_type": "code",
   "execution_count": 7,
   "metadata": {
    "collapsed": true
   },
   "outputs": [],
   "source": [
    "def save_model():\n",
    "    torch.save(model.state_dict(), os.path.join(DIR_CHECKPOINTS, 'model.dat'))\n",
    "    pickle_dump(os.path.join(DIR_CHECKPOINTS, 'history.p'), history)"
   ]
  },
  {
   "cell_type": "code",
   "execution_count": 8,
   "metadata": {
    "collapsed": true
   },
   "outputs": [],
   "source": [
    "def load_model():\n",
    "    global history\n",
    "    if not os.path.exists(os.path.join(DIR_CHECKPOINTS, 'model.dat')):\n",
    "        return\n",
    "    model.load_state_dict(torch.load(os.path.join(DIR_CHECKPOINTS, 'model.dat')))\n",
    "    history = pickle_load(os.path.join(DIR_CHECKPOINTS, 'history.p'))"
   ]
  },
  {
   "cell_type": "markdown",
   "metadata": {},
   "source": [
    "## Load Data"
   ]
  },
  {
   "cell_type": "code",
   "execution_count": 9,
   "metadata": {
    "collapsed": true
   },
   "outputs": [],
   "source": [
    "languages = []\n",
    "names = []\n",
    "for filename in glob(os.path.join(DIR_DATA, '*.txt')):\n",
    "    languages.append(os.path.split(filename)[1][:-4])\n",
    "    with open(filename) as f:\n",
    "        names.append(f.readlines())\n",
    "\n",
    "    for i in range(len(names[-1])):\n",
    "        names[-1][i] = names[-1][i].split()[0]\n"
   ]
  },
  {
   "cell_type": "code",
   "execution_count": 10,
   "metadata": {},
   "outputs": [
    {
     "data": {
      "image/png": "[encoded data removed]",
      "text/plain": [
       "<matplotlib.figure.Figure at 0x7f00b14aada0>"
      ]
     },
     "metadata": {},
     "output_type": "display_data"
    }
   ],
   "source": [
    "name_lengths = np.array([len(name) for name in names])\n",
    "plt.bar(np.arange(len(languages)), name_lengths)\n",
    "plt.xticks(np.arange(len(languages)), languages, rotation='vertical')\n",
    "plt.show()"
   ]
  },
  {
   "cell_type": "code",
   "execution_count": 11,
   "metadata": {
    "collapsed": true
   },
   "outputs": [],
   "source": [
    "for i in [3, 7, 14, 16]:\n",
    "    names[i] = list(np.array(names[i])[randint(0, len(names[i]), 1000)])"
   ]
  },
  {
   "cell_type": "code",
   "execution_count": 12,
   "metadata": {
    "collapsed": true
   },
   "outputs": [],
   "source": [
    "name_freq = 1 / name_lengths\n",
    "name_freq = name_freq / name_freq.sum()"
   ]
  },
  {
   "cell_type": "code",
   "execution_count": 13,
   "metadata": {},
   "outputs": [
    {
     "name": "stdout",
     "output_type": "stream",
     "text": [
      "Dutch ['Roggeveen' 'Hautem' 'Maas' 'Schoonenburg' 'Romeijnders']\n",
      "Vietnamese ['Thuy' 'Doan' 'Vo' 'Lam' 'An']\n",
      "Scottish ['Boyle' 'Grant' 'Cameron' 'Crawford' 'Jamieson']\n",
      "Arabic ['Kassis' 'Naifeh' 'Maalouf' 'Deeb' 'Hadad']\n",
      "French ['Hébert' 'Charbonneau' 'Paul' 'Salvage' 'Gage']\n",
      "Italian ['Pagano' 'Di' 'Pesce' 'Capello' 'Amadori']\n",
      "Chinese ['Chi' 'Fei' 'Kwei' 'Hui' 'Gai']\n",
      "Russian ['Agrest' 'Piruev' 'Lohmatikov' 'Vaindrah' 'Kachalovsky']\n",
      "German ['Vogel' 'Hausler' 'Werner' 'Böttcher' 'Dittmar']\n",
      "Irish [\"O'Toole\" 'Eoghan' 'Cuidightheach' 'Nuallan' 'Maciomhair']\n",
      "Greek ['Fotopoulos' 'Kaglantge' 'Dritsas' 'Missiakos' 'Katsourinis']\n",
      "Japanese ['Shimura' 'Seo' 'Terajima' 'Omura' 'Sada']\n",
      "Spanish ['Gonzales' 'Ibarra' 'Etxebarria' 'Montero' 'Vivas']\n",
      "Korean ['Ryom' 'Son' 'Lim' 'So' 'Hong']\n",
      "Indian ['Aabid' 'Panwar' 'Yatin' 'Sushmita' 'Idrish']\n",
      "Portuguese ['Magalhães' 'Albuquerque' 'Maria' 'Soares' 'Palmeiro']\n",
      "English ['Deverell' 'Elmes' 'Pillay' 'Milner' 'Roebuck']\n",
      "Polish ['Zawisza' 'Róg' 'Serafin' 'Wojewódka' 'Szczepanski']\n",
      "Czech ['Pretsch' 'Dinko' 'Buchta' 'Kerner' 'Dolezal']\n"
     ]
    }
   ],
   "source": [
    "all_names = ''\n",
    "\n",
    "for name, language in zip(names, languages):\n",
    "    all_names += ' '.join(name)\n",
    "    print(language, np.array(name)[randint(0, len(name), 5)])"
   ]
  },
  {
   "cell_type": "code",
   "execution_count": 14,
   "metadata": {
    "collapsed": true
   },
   "outputs": [],
   "source": [
    "tokenizer = Tokenizer(char_level=True)\n",
    "tokenizer.fit_on_texts(all_names)"
   ]
  },
  {
   "cell_type": "code",
   "execution_count": 15,
   "metadata": {
    "collapsed": true
   },
   "outputs": [],
   "source": [
    "char_idx = tokenizer.word_index\n",
    "idx_char = {v: k for k, v in char_idx.items()}"
   ]
  },
  {
   "cell_type": "code",
   "execution_count": 16,
   "metadata": {
    "collapsed": true
   },
   "outputs": [],
   "source": [
    "vocab_size = len(char_idx)"
   ]
  },
  {
   "cell_type": "code",
   "execution_count": 17,
   "metadata": {
    "collapsed": true
   },
   "outputs": [],
   "source": [
    "names = [tokenizer.texts_to_sequences(name) for name in names]\n",
    "names = [[np.array(n) for n in name] for name in names]"
   ]
  },
  {
   "cell_type": "code",
   "execution_count": 18,
   "metadata": {
    "collapsed": true
   },
   "outputs": [],
   "source": [
    "data = []\n",
    "for i, name in enumerate(names):\n",
    "    data += [(n, i) for n in name]"
   ]
  },
  {
   "cell_type": "code",
   "execution_count": 19,
   "metadata": {
    "collapsed": true
   },
   "outputs": [],
   "source": [
    "FRAC_TEST = 0.2"
   ]
  },
  {
   "cell_type": "code",
   "execution_count": 20,
   "metadata": {
    "collapsed": true
   },
   "outputs": [],
   "source": [
    "test_idx = sorted(randint(0, len(data), int(FRAC_TEST * len(data))))\n",
    "train_idx = sorted(np.array(list(set(list(range(len(data)))) - set(test_idx))))"
   ]
  },
  {
   "cell_type": "code",
   "execution_count": 21,
   "metadata": {
    "collapsed": true
   },
   "outputs": [],
   "source": [
    "data_test = np.array(data)[test_idx]\n",
    "data = np.array(data)[train_idx]"
   ]
  },
  {
   "cell_type": "code",
   "execution_count": 22,
   "metadata": {
    "collapsed": true
   },
   "outputs": [],
   "source": [
    "if os.path.exists(os.path.join(DIR_CHECKPOINTS, 'tokenizer.p')):\n",
    "    tokenizer = pickle_load(os.path.join(DIR_CHECKPOINTS, 'tokenizer.p'))\n",
    "    data = pickle_load(os.path.join(DIR_CHECKPOINTS, 'data.p'))\n",
    "    data_test = pickle_load(os.path.join(DIR_CHECKPOINTS, 'data_test.p'))\n",
    "else:\n",
    "    pickle_dump(os.path.join(DIR_CHECKPOINTS, 'tokenizer.p'), tokenizer)\n",
    "    pickle_dump(os.path.join(DIR_CHECKPOINTS, 'data.p'), data)\n",
    "    pickle_dump(os.path.join(DIR_CHECKPOINTS, 'data_test.p'), data_test)"
   ]
  },
  {
   "cell_type": "markdown",
   "metadata": {},
   "source": [
    "# Create Network"
   ]
  },
  {
   "cell_type": "code",
   "execution_count": 23,
   "metadata": {
    "collapsed": true
   },
   "outputs": [],
   "source": [
    "class SimpleRNN(nn.Module):\n",
    "    def __init__(self, input_size, hidden_size, initial_hidden=None, return_sequences=False):\n",
    "        super().__init__()\n",
    "        if initial_hidden is None:\n",
    "            self.initial_hidden = Variable(torch.zeros(hidden_size)).cuda()\n",
    "        else:\n",
    "            self.initial_hidden = Variable(initial_hidden).cuda()\n",
    "\n",
    "        self.ih = nn.Linear(input_size, hidden_size)\n",
    "        self.hh = nn.Linear(hidden_size, hidden_size)\n",
    "        self.return_sequences = return_sequences\n",
    "\n",
    "    def forward(self, x):\n",
    "        if not self.return_sequences:\n",
    "            h = self.initial_hidden\n",
    "            for x_t in x:\n",
    "                h = F.tanh(self.ih(x_t) + self.hh(h))\n",
    "            return torch.unsqueeze(h, 0)\n",
    "\n",
    "        h_t = [self.initial_hidden]\n",
    "        for x_t in x:\n",
    "            h_t.append(F.tanh(self.ih(x_t) + self.hh(h_t[-1])))\n",
    "        return torch.stack(h_t[1:])"
   ]
  },
  {
   "cell_type": "code",
   "execution_count": 24,
   "metadata": {
    "collapsed": true
   },
   "outputs": [],
   "source": [
    "class LangFinder(nn.Module):\n",
    "    def __init__(self, embedding_size, hidden_size, output_size):\n",
    "        super().__init__()\n",
    "        self.embedding = nn.Embedding(vocab_size + 1, embedding_size)\n",
    "        self.rnn = nn.RNN(embedding_size, hidden_size, batch_first=True)\n",
    "        self.fc = nn.Linear(hidden_size, output_size)\n",
    "\n",
    "    def forward(self, x):\n",
    "        x = self.embedding(torch.unsqueeze(x, 0))\n",
    "        x = self.rnn(x)[1].squeeze(0)\n",
    "        return self.fc(x)"
   ]
  },
  {
   "cell_type": "markdown",
   "metadata": {},
   "source": [
    "# Train Model"
   ]
  },
  {
   "cell_type": "code",
   "execution_count": 25,
   "metadata": {
    "collapsed": true
   },
   "outputs": [],
   "source": [
    "model = LangFinder(32, 128, len(languages)).cuda()"
   ]
  },
  {
   "cell_type": "code",
   "execution_count": 26,
   "metadata": {
    "collapsed": true
   },
   "outputs": [],
   "source": [
    "optimizer = optim.Adam(model.parameters(), lr=1e-4)"
   ]
  },
  {
   "cell_type": "code",
   "execution_count": 27,
   "metadata": {
    "collapsed": true
   },
   "outputs": [],
   "source": [
    "criterion = nn.CrossEntropyLoss(weight=torch.FloatTensor(name_freq).cuda())"
   ]
  },
  {
   "cell_type": "code",
   "execution_count": 28,
   "metadata": {
    "collapsed": true
   },
   "outputs": [],
   "source": [
    "def get_loss(data):\n",
    "    total_loss = 0\n",
    "    total_correct = 0\n",
    "    for name, language in data:\n",
    "        y_true = Variable(torch.LongTensor(np.array([language]))).cuda()\n",
    "        y_pred = model(Variable(torch.LongTensor(name)).cuda())\n",
    "        loss = criterion(y_pred, y_true)\n",
    "        \n",
    "        total_loss += loss.data.cpu().numpy()[0]\n",
    "        total_correct += int(y_pred.max(0)[1].data.cpu().numpy()[0] == language)\n",
    "        \n",
    "    return total_loss / len(data), total_correct / len(data)"
   ]
  },
  {
   "cell_type": "code",
   "execution_count": 29,
   "metadata": {
    "collapsed": true
   },
   "outputs": [],
   "source": [
    "history = {'loss': [], 'acc': [], 'test_loss':[], 'test_acc': []}\n",
    "batches_per_epoch = len(data)\n",
    "\n",
    "def optimize(epochs=1, writes_per_epoch=10):\n",
    "    running_history = {'loss': [], 'acc': []}\n",
    "    \n",
    "    load_model()\n",
    "    for epoch in tqdm_notebook(range(epochs)):\n",
    "        prog_bar = tqdm_notebook(data[np.random.permutation(len(data))])\n",
    "        for batch, (name, language) in enumerate(prog_bar):\n",
    "            y_true = Variable(torch.LongTensor(np.array([language]))).cuda()\n",
    "            y_pred = model(Variable(torch.LongTensor(name)).cuda())\n",
    "            loss = criterion(y_pred, y_true)\n",
    "\n",
    "            optimizer.zero_grad()\n",
    "            loss.backward()\n",
    "            optimizer.step()\n",
    "\n",
    "            running_history['loss'].append(loss.data.cpu().numpy()[0])\n",
    "            running_history['acc'].append(int(y_pred.max(0)[1].data.cpu().numpy()[0] == language))\n",
    "            if batch % int(batches_per_epoch / (writes_per_epoch - 1)) == 0:\n",
    "                for k in history.keys():\n",
    "                    if k not in running_history.keys():\n",
    "                        continue\n",
    "                    history[k].append(mean(running_history[k]))\n",
    "                    running_history[k] = []\n",
    "                    prog_bar.set_description('{:.2f}'.format(history['loss'][-1]))\n",
    "                    \n",
    "        test_loss, test_acc = get_loss(data_test)\n",
    "        history['test_loss'].append(test_loss)\n",
    "        history['test_acc'].append(test_acc)\n",
    "        if argmin(history['test_loss']) == len(history['test_loss']) - 1:\n",
    "            save_model()"
   ]
  },
  {
   "cell_type": "code",
   "execution_count": 30,
   "metadata": {
    "scrolled": true
   },
   "outputs": [
    {
     "data": {
      "application/vnd.jupyter.widget-view+json": {
       "model_id": "b50f28a8e219459684bebb397ace4154"
      }
     },
     "metadata": {},
     "output_type": "display_data"
    },
    {
     "data": {
      "application/vnd.jupyter.widget-view+json": {
       "model_id": "81a568fa992645bcaf7becb418137935"
      }
     },
     "metadata": {},
     "output_type": "display_data"
    },
    {
     "data": {
      "application/vnd.jupyter.widget-view+json": {
       "model_id": "beb6fd78fafa4b3195f01094d0765ca8"
      }
     },
     "metadata": {},
     "output_type": "display_data"
    },
    {
     "data": {
      "application/vnd.jupyter.widget-view+json": {
       "model_id": "f32d28bcdf12461a871bf796739d7a95"
      }
     },
     "metadata": {},
     "output_type": "display_data"
    },
    {
     "data": {
      "application/vnd.jupyter.widget-view+json": {
       "model_id": "b42aca9b7d2f449fb0ce43a8fe2b1afc"
      }
     },
     "metadata": {},
     "output_type": "display_data"
    },
    {
     "data": {
      "application/vnd.jupyter.widget-view+json": {
       "model_id": "c9c3123629ec4597acb14daa266c595a"
      }
     },
     "metadata": {},
     "output_type": "display_data"
    },
    {
     "data": {
      "application/vnd.jupyter.widget-view+json": {
       "model_id": "5a82649741214a51911d2572de276723"
      }
     },
     "metadata": {},
     "output_type": "display_data"
    },
    {
     "data": {
      "application/vnd.jupyter.widget-view+json": {
       "model_id": "cfcb7bca67e0475cbd1075464e62dc25"
      }
     },
     "metadata": {},
     "output_type": "display_data"
    },
    {
     "data": {
      "application/vnd.jupyter.widget-view+json": {
       "model_id": "32b608e5049349cd830c54452cedee58"
      }
     },
     "metadata": {},
     "output_type": "display_data"
    },
    {
     "data": {
      "application/vnd.jupyter.widget-view+json": {
       "model_id": "48e859fdb42c4c0d992a10920a6a3b56"
      }
     },
     "metadata": {},
     "output_type": "display_data"
    },
    {
     "data": {
      "application/vnd.jupyter.widget-view+json": {
       "model_id": "004c1f49d10e45d5b3e76c834da4041b"
      }
     },
     "metadata": {},
     "output_type": "display_data"
    },
    {
     "data": {
      "application/vnd.jupyter.widget-view+json": {
       "model_id": "89e631fe66b74664bd89f1bb630d3f0b"
      }
     },
     "metadata": {},
     "output_type": "display_data"
    },
    {
     "data": {
      "application/vnd.jupyter.widget-view+json": {
       "model_id": "240fba392e834377bcd0137a6dab41b7"
      }
     },
     "metadata": {},
     "output_type": "display_data"
    },
    {
     "data": {
      "application/vnd.jupyter.widget-view+json": {
       "model_id": "dec743d479d44e82a8c2f37d8d84a14c"
      }
     },
     "metadata": {},
     "output_type": "display_data"
    },
    {
     "data": {
      "application/vnd.jupyter.widget-view+json": {
       "model_id": "cba53fdc19ba4a93b68488d5778d19d1"
      }
     },
     "metadata": {},
     "output_type": "display_data"
    },
    {
     "data": {
      "application/vnd.jupyter.widget-view+json": {
       "model_id": "56111b80d3914ce6b361dd72ed11df74"
      }
     },
     "metadata": {},
     "output_type": "display_data"
    },
    {
     "data": {
      "application/vnd.jupyter.widget-view+json": {
       "model_id": "98148eb3446442be893a9f58e01d0456"
      }
     },
     "metadata": {},
     "output_type": "display_data"
    },
    {
     "data": {
      "application/vnd.jupyter.widget-view+json": {
       "model_id": "2664975039b843f1af605654cea5f462"
      }
     },
     "metadata": {},
     "output_type": "display_data"
    },
    {
     "data": {
      "application/vnd.jupyter.widget-view+json": {
       "model_id": "0d0d119058b3440e9d92688be266a52b"
      }
     },
     "metadata": {},
     "output_type": "display_data"
    },
    {
     "data": {
      "application/vnd.jupyter.widget-view+json": {
       "model_id": "3ce90808b7c346fba2f96b16560214e3"
      }
     },
     "metadata": {},
     "output_type": "display_data"
    },
    {
     "data": {
      "application/vnd.jupyter.widget-view+json": {
       "model_id": "67d5c298c3834c51941269b6661ea915"
      }
     },
     "metadata": {},
     "output_type": "display_data"
    },
    {
     "data": {
      "application/vnd.jupyter.widget-view+json": {
       "model_id": "2df4d7d2799c4221a4924da6aba80039"
      }
     },
     "metadata": {},
     "output_type": "display_data"
    },
    {
     "data": {
      "application/vnd.jupyter.widget-view+json": {
       "model_id": "b67134ee26214d5190f8db0845e12781"
      }
     },
     "metadata": {},
     "output_type": "display_data"
    },
    {
     "data": {
      "application/vnd.jupyter.widget-view+json": {
       "model_id": "f7786862720443afa60ba834a9686da4"
      }
     },
     "metadata": {},
     "output_type": "display_data"
    },
    {
     "data": {
      "application/vnd.jupyter.widget-view+json": {
       "model_id": "b2570825855941edadab674dd2282158"
      }
     },
     "metadata": {},
     "output_type": "display_data"
    },
    {
     "data": {
      "application/vnd.jupyter.widget-view+json": {
       "model_id": "35e1a308779747f09e5eaa7f825cb682"
      }
     },
     "metadata": {},
     "output_type": "display_data"
    },
    {
     "data": {
      "application/vnd.jupyter.widget-view+json": {
       "model_id": "b07239044bef4b95a488923416b06bcd"
      }
     },
     "metadata": {},
     "output_type": "display_data"
    },
    {
     "data": {
      "application/vnd.jupyter.widget-view+json": {
       "model_id": "1da81a615e5f4b10a58e1d11e59b1424"
      }
     },
     "metadata": {},
     "output_type": "display_data"
    },
    {
     "data": {
      "application/vnd.jupyter.widget-view+json": {
       "model_id": "b0e0b75be1414cb89225defaa51199b7"
      }
     },
     "metadata": {},
     "output_type": "display_data"
    },
    {
     "data": {
      "application/vnd.jupyter.widget-view+json": {
       "model_id": "ad3c347a09e247da8d528834a7746cd6"
      }
     },
     "metadata": {},
     "output_type": "display_data"
    },
    {
     "data": {
      "application/vnd.jupyter.widget-view+json": {
       "model_id": "86efa33bf4f44a068841630e6fec7ddd"
      }
     },
     "metadata": {},
     "output_type": "display_data"
    },
    {
     "data": {
      "application/vnd.jupyter.widget-view+json": {
       "model_id": "b22d1da7e73c4a65a938348f91a4d1cf"
      }
     },
     "metadata": {},
     "output_type": "display_data"
    },
    {
     "data": {
      "application/vnd.jupyter.widget-view+json": {
       "model_id": "3486436487b04e8d87b0283c784ef3e3"
      }
     },
     "metadata": {},
     "output_type": "display_data"
    },
    {
     "data": {
      "application/vnd.jupyter.widget-view+json": {
       "model_id": "c34d94af74bc4ecb8e0a806672c6e196"
      }
     },
     "metadata": {},
     "output_type": "display_data"
    },
    {
     "data": {
      "application/vnd.jupyter.widget-view+json": {
       "model_id": "dfe1ecc761604c5ba0ff9ceaf5c7db0f"
      }
     },
     "metadata": {},
     "output_type": "display_data"
    },
    {
     "data": {
      "application/vnd.jupyter.widget-view+json": {
       "model_id": "2cb95219e7184f44941d832be3989597"
      }
     },
     "metadata": {},
     "output_type": "display_data"
    },
    {
     "data": {
      "application/vnd.jupyter.widget-view+json": {
       "model_id": "7faa291dd50c49c6a552e70e117683e2"
      }
     },
     "metadata": {},
     "output_type": "display_data"
    },
    {
     "data": {
      "application/vnd.jupyter.widget-view+json": {
       "model_id": "a478a700abe649fca17c778ae61244fd"
      }
     },
     "metadata": {},
     "output_type": "display_data"
    },
    {
     "data": {
      "application/vnd.jupyter.widget-view+json": {
       "model_id": "ede19df256404e39bc427cc560b8b113"
      }
     },
     "metadata": {},
     "output_type": "display_data"
    },
    {
     "data": {
      "application/vnd.jupyter.widget-view+json": {
       "model_id": "e201b59150934deb9d221385fb36eb18"
      }
     },
     "metadata": {},
     "output_type": "display_data"
    },
    {
     "data": {
      "application/vnd.jupyter.widget-view+json": {
       "model_id": "ddb925b3caad43f8b271f8d6f9c56420"
      }
     },
     "metadata": {},
     "output_type": "display_data"
    },
    {
     "data": {
      "application/vnd.jupyter.widget-view+json": {
       "model_id": "7383c2f9bb0b45068a3977af8e769a7c"
      }
     },
     "metadata": {},
     "output_type": "display_data"
    },
    {
     "data": {
      "application/vnd.jupyter.widget-view+json": {
       "model_id": "f3abc9c902db485a8c0d1a7705087140"
      }
     },
     "metadata": {},
     "output_type": "display_data"
    },
    {
     "data": {
      "application/vnd.jupyter.widget-view+json": {
       "model_id": "7a670f56c41a4139b955d59ab8f13917"
      }
     },
     "metadata": {},
     "output_type": "display_data"
    },
    {
     "data": {
      "application/vnd.jupyter.widget-view+json": {
       "model_id": "fcc66420e0b34764abdd882259c44ce9"
      }
     },
     "metadata": {},
     "output_type": "display_data"
    },
    {
     "data": {
      "application/vnd.jupyter.widget-view+json": {
       "model_id": "04c751d3b6aa4c9abfbeeaf06debbc80"
      }
     },
     "metadata": {},
     "output_type": "display_data"
    },
    {
     "data": {
      "application/vnd.jupyter.widget-view+json": {
       "model_id": "02913eccefdd4282905c8a7f1e648657"
      }
     },
     "metadata": {},
     "output_type": "display_data"
    },
    {
     "data": {
      "application/vnd.jupyter.widget-view+json": {
       "model_id": "1c06e904841f42bfb1386aae0b6d2172"
      }
     },
     "metadata": {},
     "output_type": "display_data"
    },
    {
     "data": {
      "application/vnd.jupyter.widget-view+json": {
       "model_id": "8107734ff192498c967b901e7f7780db"
      }
     },
     "metadata": {},
     "output_type": "display_data"
    },
    {
     "data": {
      "application/vnd.jupyter.widget-view+json": {
       "model_id": "cda9de9e295545de8a580d29b1eb96c5"
      }
     },
     "metadata": {},
     "output_type": "display_data"
    },
    {
     "data": {
      "application/vnd.jupyter.widget-view+json": {
       "model_id": "fae06921804b4067b92a6293c1ff56ab"
      }
     },
     "metadata": {},
     "output_type": "display_data"
    },
    {
     "name": "stdout",
     "output_type": "stream",
     "text": [
      "\n"
     ]
    }
   ],
   "source": [
    "optimize(50)"
   ]
  },
  {
   "cell_type": "code",
   "execution_count": 40,
   "metadata": {
    "scrolled": false
   },
   "outputs": [
    {
     "data": {
      "image/png": "[encoded data removed]",
      "text/plain": [
       "<matplotlib.figure.Figure at 0x7f0043273400>"
      ]
     },
     "metadata": {},
     "output_type": "display_data"
    }
   ],
   "source": [
    "smooth_plot(history, keys=['loss', 'test_loss'], remove_outlier=False)"
   ]
  },
  {
   "cell_type": "code",
   "execution_count": null,
   "metadata": {},
   "outputs": [],
   "source": [
    "smooth_plot(history, keys=['acc', 'test_acc'], remove_outlier=True)"
   ]
  },
  {
   "cell_type": "markdown",
   "metadata": {},
   "source": [
    "## Test Model"
   ]
  },
  {
   "cell_type": "code",
   "execution_count": 39,
   "metadata": {
    "collapsed": true
   },
   "outputs": [],
   "source": [
    "load_model()"
   ]
  },
  {
   "cell_type": "code",
   "execution_count": 43,
   "metadata": {},
   "outputs": [
    {
     "name": "stdout",
     "output_type": "stream",
     "text": [
      "Jandale (Dutch) Indian-23%\n",
      "Mvsenev (Russian) Russian-99%\n",
      "Bukoski (Polish) Japanese-60%\n",
      "Aanbai (Indian) Indian-67%\n",
      "zeinrigh (German) German-87%\n",
      "Auracughi (Japanese) Japanese-94%\n",
      "Sabbac (Arabic) Arabic-89%\n",
      "Teacue (Irish) French-55%\n",
      "Nonn (Irish) Irish-40%\n",
      "AaalouP (Arabic) Arabic-99%\n"
     ]
    }
   ],
   "source": [
    "for _ in range(10):\n",
    "    sample_name, real_class = data_test[randint(len(data_test))]\n",
    "    sample_class = model(Variable(torch.LongTensor(sample_name).cuda()))\n",
    "\n",
    "    print(\"{} ({}) {}-{}%\".format(get_name(sample_name), languages[real_class],\n",
    "                                  languages[sample_class.max(\n",
    "                                      1)[1].data.cpu().numpy()[0]],\n",
    "                                  int(F.softmax(sample_class).max(1)[0].data.cpu().numpy()[0] * 100)))"
   ]
  },
  {
   "cell_type": "code",
   "execution_count": 45,
   "metadata": {
    "collapsed": true
   },
   "outputs": [],
   "source": [
    "def plot_confusion_matrix(data):\n",
    "    y_true = np.array([d[1] for d in data])\n",
    "    y_pred = np.array([model(Variable(torch.LongTensor(d[0]).cuda(), volatile=True)).data.cpu().numpy()[0].argmax() for d in tqdm_notebook(data)])\n",
    "    \n",
    "    sample_weight = np.array([name_freq[y] for y in y_true])\n",
    "    \n",
    "    cm = confusion_matrix(y_true, y_pred, sample_weight=sample_weight)\n",
    "\n",
    "    plot_images([cm], cmap='gray', flags='retain', pixel_range='auto')\n",
    "    plt.xticks(np.arange(len(languages)), languages, rotation='vertical')\n",
    "    plt.yticks(np.arange(len(languages)), languages, rotation='horizontal')\n",
    "    plt.grid(False)\n",
    "    plt.show()"
   ]
  },
  {
   "cell_type": "code",
   "execution_count": 46,
   "metadata": {},
   "outputs": [
    {
     "data": {
      "application/vnd.jupyter.widget-view+json": {
       "model_id": "78d8b4171ae24217ae54d8a1e0c20e90"
      }
     },
     "metadata": {},
     "output_type": "display_data"
    },
    {
     "name": "stdout",
     "output_type": "stream",
     "text": [
      "\n"
     ]
    },
    {
     "data": {
      "image/png": "[encoded data removed]",
      "text/plain": [
       "<matplotlib.figure.Figure at 0x7f0043211208>"
      ]
     },
     "metadata": {},
     "output_type": "display_data"
    }
   ],
   "source": [
    "plot_confusion_matrix(data_test)"
   ]
  },
  {
   "cell_type": "code",
   "execution_count": 47,
   "metadata": {
    "collapsed": true
   },
   "outputs": [],
   "source": [
    "def predict(name):\n",
    "    name_array = tokenizer.texts_to_sequences(name)\n",
    "    name_array = np.array([n[0] for n in name_array])\n",
    "    return languages[model(Variable(torch.LongTensor(name_array).cuda(), volatile=True)).data.cpu().numpy()[0].argmax()]"
   ]
  },
  {
   "cell_type": "code",
   "execution_count": 48,
   "metadata": {},
   "outputs": [
    {
     "name": "stdout",
     "output_type": "stream",
     "text": [
      "Schmidhuber - Czech\n",
      "Hinton - English\n",
      "Bengio - Italian\n",
      "Srivastava - Indian\n",
      "Vaisakh - Russian\n"
     ]
    }
   ],
   "source": [
    "for name in ['Schmidhuber', 'Hinton', 'Bengio', 'Srivastava', 'Vaisakh']:\n",
    "    print(name, '-', predict(name))"
   ]
  }
 ],
 "metadata": {
  "kernelspec": {
   "display_name": "Python 3",
   "language": "python",
   "name": "python3"
  },
  "language_info": {
   "codemirror_mode": {
    "name": "ipython",
    "version": 3
   },
   "file_extension": ".py",
   "mimetype": "text/x-python",
   "name": "python",
   "nbconvert_exporter": "python",
   "pygments_lexer": "ipython3",
   "version": "3.6.2"
  }
 },
 "nbformat": 4,
 "nbformat_minor": 2
}

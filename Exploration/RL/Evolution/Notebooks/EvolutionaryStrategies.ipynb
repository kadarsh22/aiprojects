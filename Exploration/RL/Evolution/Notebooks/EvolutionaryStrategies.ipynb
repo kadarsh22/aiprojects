{
 "cells": [
  {
   "cell_type": "markdown",
   "metadata": {},
   "source": [
    "# Setup"
   ]
  },
  {
   "cell_type": "markdown",
   "metadata": {},
   "source": [
    "## Imports"
   ]
  },
  {
   "cell_type": "code",
   "execution_count": 1,
   "metadata": {},
   "outputs": [],
   "source": [
    "from tqdm import tqdm_notebook\n",
    "from time import time"
   ]
  },
  {
   "cell_type": "markdown",
   "metadata": {},
   "source": [
    "OpenAI Gym Modules"
   ]
  },
  {
   "cell_type": "code",
   "execution_count": 2,
   "metadata": {},
   "outputs": [],
   "source": [
    "import gym"
   ]
  },
  {
   "cell_type": "markdown",
   "metadata": {},
   "source": [
    "Keras Modules"
   ]
  },
  {
   "cell_type": "code",
   "execution_count": 3,
   "metadata": {},
   "outputs": [],
   "source": [
    "import os\n",
    "os.environ[\"CUDA_DEVICE_ORDER\"] = \"PCI_BUS_ID\"   # see issue #152\n",
    "os.environ[\"CUDA_VISIBLE_DEVICES\"] = \"-1\""
   ]
  },
  {
   "cell_type": "code",
   "execution_count": 4,
   "metadata": {},
   "outputs": [
    {
     "name": "stderr",
     "output_type": "stream",
     "text": [
      "Using TensorFlow backend.\n",
      "/home/vaisakh/anaconda3/lib/python3.6/importlib/_bootstrap.py:219: RuntimeWarning: compiletime version 3.5 of module 'tensorflow.python.framework.fast_tensor_util' does not match runtime version 3.6\n",
      "  return f(*args, **kwds)\n"
     ]
    }
   ],
   "source": [
    "import keras.backend as K\n",
    "\n",
    "from keras.models import Sequential\n",
    "from keras.layers import Dense, Activation"
   ]
  },
  {
   "cell_type": "markdown",
   "metadata": {},
   "source": [
    "TensorFlow Modules"
   ]
  },
  {
   "cell_type": "code",
   "execution_count": 5,
   "metadata": {},
   "outputs": [],
   "source": [
    "import tensorflow as tf"
   ]
  },
  {
   "cell_type": "markdown",
   "metadata": {},
   "source": [
    "## Define Userful Features"
   ]
  },
  {
   "cell_type": "code",
   "execution_count": 6,
   "metadata": {},
   "outputs": [],
   "source": [
    "def get_parameters():\n",
    "    weights = model.get_weights()\n",
    "    params = []\n",
    "    for w in weights:\n",
    "        params.append(w.reshape(-1))\n",
    "    return np.hstack(params)"
   ]
  },
  {
   "cell_type": "code",
   "execution_count": 7,
   "metadata": {},
   "outputs": [],
   "source": [
    "def set_parameters(parameters):\n",
    "    global model\n",
    "    param_idx = 0\n",
    "    weights = []\n",
    "    for s in parameter_shapes:\n",
    "        num_params = np.prod(s)\n",
    "        weights.append(parameters[param_idx:param_idx + num_params].reshape(s))\n",
    "        param_idx += num_params\n",
    "    model.set_weights(weights)"
   ]
  },
  {
   "cell_type": "code",
   "execution_count": 8,
   "metadata": {},
   "outputs": [],
   "source": [
    "def get_action(obs, probabilistic=False):\n",
    "    action = model.predict(np.expand_dims(obs, 0))[0]\n",
    "    if a == 1:\n",
    "        return action[0]\n",
    "    elif a == 2:\n",
    "        if probabilistic:\n",
    "            return np.random.choice(2, p=[action[0], 1-action[0]])\n",
    "        \n",
    "        return (action > 0).astype(int)[0]\n",
    "    elif probabilistic:\n",
    "        return np.random.choice(a, p=action)\n",
    "    \n",
    "    return action.argmax()"
   ]
  },
  {
   "cell_type": "code",
   "execution_count": 9,
   "metadata": {},
   "outputs": [],
   "source": [
    "def sample(episodes=1, observe=False):\n",
    "    epoch_reward = 0\n",
    "    for episode in range(episodes):\n",
    "        env.reset()\n",
    "        done = False\n",
    "        obs = env.observation_space.sample()\n",
    "        episode_reward = 0\n",
    "        while not done:\n",
    "            if observe:  env.render()\n",
    "            obs, r, done, _ = env.step(get_action(obs))\n",
    "            episode_reward += r\n",
    "                \n",
    "        epoch_reward += episode_reward\n",
    "    return epoch_reward"
   ]
  },
  {
   "cell_type": "code",
   "execution_count": 10,
   "metadata": {},
   "outputs": [],
   "source": [
    "env = gym.make('CartPole-v1')"
   ]
  },
  {
   "cell_type": "code",
   "execution_count": 11,
   "metadata": {},
   "outputs": [],
   "source": [
    "n = env.observation_space.shape[0]\n",
    "a = env.action_space.shape\n",
    "a = env.action_space.n if len(a) == 0 else a[0]"
   ]
  },
  {
   "cell_type": "code",
   "execution_count": 12,
   "metadata": {},
   "outputs": [],
   "source": [
    "num_episodes = 100"
   ]
  },
  {
   "cell_type": "markdown",
   "metadata": {},
   "source": [
    "# Create Model"
   ]
  },
  {
   "cell_type": "code",
   "execution_count": 13,
   "metadata": {},
   "outputs": [],
   "source": [
    "def get_model(hidden_features=[], activation='relu', use_gpu=False):\n",
    "    K.clear_session()\n",
    "    '''config = tf.ConfigProto(intra_op_parallelism_threads=4,\n",
    "                            inter_op_parallelism_threads=4, allow_soft_placement=True,\n",
    "                            device_count = {'CPU' : 1, 'GPU' : int(use_gpu)})\n",
    "    session = tf.Session(config=config)\n",
    "    K.set_session(session)'''\n",
    "    K.set_learning_phase(False)\n",
    "    \n",
    "    if len(hidden_features) == 0:\n",
    "        if a == 2:\n",
    "            layers = [Dense(1, activation='sigmoid', input_dim=n, name='fc')]\n",
    "        else:\n",
    "            layers = [Dense(a, input_dim=n, name='fc')]\n",
    "    else:\n",
    "        layers = [Dense(hidden_features[0], activation=activation, input_dim=n, name='fc1')]\n",
    "        for i, h in enumerate(hidden_features[1:]):\n",
    "            layers.append(Dense(h, activation=activation, name='fc' + str(i + 2)))\n",
    "        if a == 2:\n",
    "            layers.append(Dense(1, name='fc' + str(len(hidden_features) + 1)))\n",
    "        else:\n",
    "            layers.append(Dense(a, name='fc' + str(len(hidden_features) + 1)))\n",
    "        \n",
    "    if a > 2:\n",
    "        layers.append(Activation('softmax', name='softmax'))\n",
    "    return Sequential(layers)"
   ]
  },
  {
   "cell_type": "code",
   "execution_count": 14,
   "metadata": {},
   "outputs": [
    {
     "name": "stdout",
     "output_type": "stream",
     "text": [
      "_________________________________________________________________\n",
      "Layer (type)                 Output Shape              Param #   \n",
      "=================================================================\n",
      "fc (Dense)                   (None, 1)                 5         \n",
      "=================================================================\n",
      "Total params: 5\n",
      "Trainable params: 5\n",
      "Non-trainable params: 0\n",
      "_________________________________________________________________\n"
     ]
    }
   ],
   "source": [
    "model = get_model()\n",
    "model.summary()"
   ]
  },
  {
   "cell_type": "code",
   "execution_count": 15,
   "metadata": {},
   "outputs": [],
   "source": [
    "parameter_shapes = [p.shape for p in model.get_weights()]\n",
    "num_parameters = sum([np.prod(s) for s in parameter_shapes])"
   ]
  },
  {
   "cell_type": "markdown",
   "metadata": {},
   "source": [
    "# Evolutionary Algorithms"
   ]
  },
  {
   "cell_type": "markdown",
   "metadata": {},
   "source": [
    "## Define Base Features"
   ]
  },
  {
   "cell_type": "code",
   "execution_count": 16,
   "metadata": {},
   "outputs": [],
   "source": [
    "def evaluate(parameters):\n",
    "    start_time = time()\n",
    "    set_parameters(parameters)\n",
    "    epoch_reward = sample(num_episodes)\n",
    "    print('Time for evaluation:', time() - start_time, 's')\n",
    "    return epoch_reward"
   ]
  },
  {
   "cell_type": "markdown",
   "metadata": {},
   "source": [
    "## Random Search"
   ]
  },
  {
   "cell_type": "markdown",
   "metadata": {},
   "source": [
    "Searches randomly and selects the best performing model"
   ]
  },
  {
   "cell_type": "code",
   "execution_count": 17,
   "metadata": {},
   "outputs": [],
   "source": [
    "class RandomSearch():\n",
    "    def __init__(self, param_generator=None, show_progress=False):\n",
    "        if param_generator is None:\n",
    "            param_generator = lambda: np.random.randn(num_parameters)\n",
    "        self.param_generator = param_generator\n",
    "        self.best_parameters = param_generator()\n",
    "        self.best_reward = -np.inf\n",
    "        self.epochs_run = 0\n",
    "        self.show_progress = show_progress\n",
    "        self.progress = []\n",
    "        \n",
    "    def search(self, num_epochs=-1, max_episode_reward=None, verbose=False, timeout=600):\n",
    "        start_time = time()\n",
    "        if num_epochs == -1:\n",
    "            while self.best_reward / num_episodes < max_episode_reward:\n",
    "                self.__search(verbose)\n",
    "                if time() - start_time > timeout: break\n",
    "        else:\n",
    "            for epoch in tqdm_notebook(range(num_epochs)):\n",
    "                self.__search()\n",
    "                if time() - start_time > timeout: break\n",
    "        set_parameters(self.best_parameters)\n",
    "                \n",
    "    def __search(self, verbose=False):\n",
    "        parameters = self.param_generator()\n",
    "        reward = evaluate(parameters)\n",
    "        self.epochs_run += 1\n",
    "        \n",
    "        if reward > self.best_reward:\n",
    "            self.best_reward = reward\n",
    "            self.best_parameters = parameters\n",
    "            \n",
    "            if verbose: print('Average reward:', int(reward / num_episodes))\n",
    "            self.progress.append((self.epochs_run, reward))\n",
    "            if self.show_progress: sample(observe=True)"
   ]
  },
  {
   "cell_type": "code",
   "execution_count": 18,
   "metadata": {},
   "outputs": [],
   "source": [
    "optimizer = RandomSearch(show_progress=False)"
   ]
  },
  {
   "cell_type": "code",
   "execution_count": 19,
   "metadata": {},
   "outputs": [
    {
     "data": {
      "application/vnd.jupyter.widget-view+json": {
       "model_id": "06134c342d664b9491dcaa332d85d729",
       "version_major": 2,
       "version_minor": 0
      },
      "text/html": [
       "<p>Failed to display Jupyter Widget of type <code>HBox</code>.</p>\n",
       "<p>\n",
       "  If you're reading this message in Jupyter Notebook or JupyterLab, it may mean\n",
       "  that the widgets JavaScript is still loading. If this message persists, it\n",
       "  likely means that the widgets JavaScript library is either not installed or\n",
       "  not enabled. See the <a href=\"https://ipywidgets.readthedocs.io/en/stable/user_install.html\">Jupyter\n",
       "  Widgets Documentation</a> for setup instructions.\n",
       "</p>\n",
       "<p>\n",
       "  If you're reading this message in another notebook frontend (for example, a static\n",
       "  rendering on GitHub or <a href=\"https://nbviewer.jupyter.org/\">NBViewer</a>),\n",
       "  it may mean that your frontend doesn't currently support widgets.\n",
       "</p>\n"
      ],
      "text/plain": [
       "HBox(children=(IntProgress(value=0, max=10), HTML(value='')))"
      ]
     },
     "metadata": {},
     "output_type": "display_data"
    },
    {
     "name": "stdout",
     "output_type": "stream",
     "text": [
      "Time for evaluation: 0.013402223587036133 s\n",
      "Time for evaluation: 0.008942365646362305 s\n",
      "Time for evaluation: 0.011004209518432617 s\n",
      "Time for evaluation: 0.010904073715209961 s\n",
      "Time for evaluation: 0.009038686752319336 s\n",
      "Time for evaluation: 0.008856534957885742 s\n",
      "Time for evaluation: 0.009875059127807617 s\n",
      "Time for evaluation: 0.008667707443237305 s\n",
      "Time for evaluation: 0.01014852523803711 s\n",
      "Time for evaluation: 0.009482145309448242 s\n",
      "\n"
     ]
    }
   ],
   "source": [
    "optimizer.search(num_epochs=10)"
   ]
  },
  {
   "cell_type": "code",
   "execution_count": 20,
   "metadata": {},
   "outputs": [],
   "source": [
    "#plt.plot(np.array(optimizer.progress)[:, 0], np.array(optimizer.progress)[:, 1] / num_episodes)"
   ]
  },
  {
   "cell_type": "code",
   "execution_count": 21,
   "metadata": {},
   "outputs": [],
   "source": [
    "#sample(observe=True)\n",
    "#env.render(close=True)"
   ]
  }
 ],
 "metadata": {
  "kernelspec": {
   "display_name": "Python 3",
   "language": "python",
   "name": "python3"
  },
  "language_info": {
   "codemirror_mode": {
    "name": "ipython",
    "version": 3
   },
   "file_extension": ".py",
   "mimetype": "text/x-python",
   "name": "python",
   "nbconvert_exporter": "python",
   "pygments_lexer": "ipython3",
   "version": "3.6.3"
  },
  "varInspector": {
   "cols": {
    "lenName": 16,
    "lenType": 16,
    "lenVar": 40
   },
   "kernels_config": {
    "python": {
     "delete_cmd_postfix": "",
     "delete_cmd_prefix": "del ",
     "library": "var_list.py",
     "varRefreshCmd": "print(var_dic_list())"
    },
    "r": {
     "delete_cmd_postfix": ") ",
     "delete_cmd_prefix": "rm(",
     "library": "var_list.r",
     "varRefreshCmd": "cat(var_dic_list()) "
    }
   },
   "types_to_exclude": [
    "module",
    "function",
    "builtin_function_or_method",
    "instance",
    "_Feature"
   ],
   "window_display": false
  }
 },
 "nbformat": 4,
 "nbformat_minor": 2
}

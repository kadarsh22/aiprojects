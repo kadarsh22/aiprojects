{
 "cells": [
  {
   "cell_type": "markdown",
   "metadata": {
    "heading_collapsed": true
   },
   "source": [
    "# Setup"
   ]
  },
  {
   "cell_type": "markdown",
   "metadata": {
    "heading_collapsed": true,
    "hidden": true
   },
   "source": [
    "## Imports"
   ]
  },
  {
   "cell_type": "code",
   "execution_count": 30,
   "metadata": {
    "hidden": true
   },
   "outputs": [],
   "source": [
    "import os.path\n",
    "\n",
    "from tqdm import tqdm_notebook\n",
    "from time import time"
   ]
  },
  {
   "cell_type": "markdown",
   "metadata": {
    "hidden": true
   },
   "source": [
    "OpenAI Gym Modules"
   ]
  },
  {
   "cell_type": "code",
   "execution_count": 31,
   "metadata": {
    "hidden": true
   },
   "outputs": [],
   "source": [
    "import gym"
   ]
  },
  {
   "cell_type": "markdown",
   "metadata": {
    "hidden": true
   },
   "source": [
    "vai Modules"
   ]
  },
  {
   "cell_type": "code",
   "execution_count": 32,
   "metadata": {
    "hidden": true
   },
   "outputs": [],
   "source": [
    "from vai.vaidata import pickle_load, pickle_dump\n",
    "from vai.utils.utils import path_consts"
   ]
  },
  {
   "cell_type": "markdown",
   "metadata": {
    "heading_collapsed": true,
    "hidden": true
   },
   "source": [
    "## Define Userful Features"
   ]
  },
  {
   "cell_type": "code",
   "execution_count": 33,
   "metadata": {
    "hidden": true
   },
   "outputs": [
    {
     "data": {
      "text/plain": [
       "{'divide': 'warn', 'invalid': 'warn', 'over': 'ignore', 'under': 'ignore'}"
      ]
     },
     "execution_count": 33,
     "metadata": {},
     "output_type": "execute_result"
    }
   ],
   "source": [
    "np.seterr(over='ignore')"
   ]
  },
  {
   "cell_type": "code",
   "execution_count": 34,
   "metadata": {
    "hidden": true
   },
   "outputs": [],
   "source": [
    "for k, v in path_consts():\n",
    "    exec(k + ' = v')"
   ]
  },
  {
   "cell_type": "code",
   "execution_count": 35,
   "metadata": {
    "hidden": true
   },
   "outputs": [],
   "source": [
    "probabilistic = False"
   ]
  },
  {
   "cell_type": "code",
   "execution_count": 36,
   "metadata": {
    "hidden": true
   },
   "outputs": [],
   "source": [
    "def get_parameters():\n",
    "    return model.params"
   ]
  },
  {
   "cell_type": "code",
   "execution_count": 37,
   "metadata": {
    "hidden": true
   },
   "outputs": [],
   "source": [
    "def set_parameters(parameters=None):\n",
    "    if parameters is None: return\n",
    "    global model\n",
    "    model.params = parameters"
   ]
  },
  {
   "cell_type": "code",
   "execution_count": 81,
   "metadata": {
    "hidden": true
   },
   "outputs": [],
   "source": [
    "def get_action(obs):\n",
    "    l, h = env.observation_space.low, env.observation_space.high\n",
    "    obs = (obs - l) * 2 / (h - l) - 1\n",
    "    action = model(obs)\n",
    "    if env.a == 1:\n",
    "        return action\n",
    "    elif env.a == 2:\n",
    "        if probabilistic:\n",
    "            return np.random.choice(2, p=[action[0], 1-action[0]])\n",
    "        \n",
    "        return (action > 0.5).astype(int)[0]\n",
    "    elif probabilistic:\n",
    "        return np.random.choice(env.a, p=action)\n",
    "    \n",
    "    return action.argmax()"
   ]
  },
  {
   "cell_type": "code",
   "execution_count": 39,
   "metadata": {
    "hidden": true
   },
   "outputs": [],
   "source": [
    "def sample(episodes=1, observe=False):\n",
    "    epoch_reward = 0\n",
    "    for episode in range(episodes):\n",
    "        env.reset()\n",
    "        done = False\n",
    "        obs = env.observation_space.sample()\n",
    "        episode_reward = 0\n",
    "        while not done:\n",
    "            if observe:  env.render()\n",
    "            obs, r, done, _ = env.step(get_action(obs))\n",
    "            episode_reward += r\n",
    "                \n",
    "        epoch_reward += episode_reward\n",
    "    if observe: env.render(close=True)\n",
    "    return epoch_reward"
   ]
  },
  {
   "cell_type": "code",
   "execution_count": 40,
   "metadata": {
    "hidden": true
   },
   "outputs": [],
   "source": [
    "def get_environment(environment='CartPole-v1'):\n",
    "    env = gym.make(environment)\n",
    "\n",
    "    env.n = env.observation_space.shape[0]\n",
    "    env.a = env.action_space.shape\n",
    "    env.a = env.action_space.n if len(env.a) == 0 else env.a[0]\n",
    "    return env"
   ]
  },
  {
   "cell_type": "code",
   "execution_count": 41,
   "metadata": {
    "hidden": true
   },
   "outputs": [],
   "source": [
    "env = get_environment()"
   ]
  },
  {
   "cell_type": "code",
   "execution_count": 42,
   "metadata": {
    "hidden": true
   },
   "outputs": [],
   "source": [
    "num_episodes = 10\n",
    "max_episode_reward = 500"
   ]
  },
  {
   "cell_type": "markdown",
   "metadata": {
    "heading_collapsed": true
   },
   "source": [
    "# Create Model"
   ]
  },
  {
   "cell_type": "code",
   "execution_count": 43,
   "metadata": {
    "hidden": true
   },
   "outputs": [],
   "source": [
    "def activate(x, activation):\n",
    "    if activation == 'relu':\n",
    "        x[x < 0] = 0\n",
    "    elif activation == 'sigmoid':\n",
    "        x = 1 / (1 + np.exp(-x))\n",
    "    elif activation == 'tanh':\n",
    "        x = np.tanh(x)\n",
    "    elif activation == 'softmax':\n",
    "        x -= x.max(-1, keepdims=True)\n",
    "        x = np.exp(x)\n",
    "        x /= x.sum(-1, keepdims=True)\n",
    "    return x"
   ]
  },
  {
   "cell_type": "code",
   "execution_count": 44,
   "metadata": {
    "hidden": true
   },
   "outputs": [],
   "source": [
    "class Linear():\n",
    "    def __init__(self, in_features, out_features, activation=None):\n",
    "        self.W_shape = (in_features, out_features)\n",
    "        self.W_size = in_features * out_features\n",
    "        self.b_size = out_features\n",
    "        self.activation = activation\n",
    "        self.num_parameters = self.W_size + self.b_size\n",
    "        \n",
    "    def __call__(self, x, params):\n",
    "        W = params[:self.W_size].reshape(self.W_shape)\n",
    "        b = params[self.W_size: self.W_size + self.b_size]\n",
    "        \n",
    "        return activate(x.dot(W) + b, self.activation)"
   ]
  },
  {
   "cell_type": "code",
   "execution_count": 45,
   "metadata": {
    "hidden": true
   },
   "outputs": [],
   "source": [
    "class Model():\n",
    "    def __init__(self, hidden_features=[], activation='tanh'):\n",
    "        self.layers = self.__get_layers(hidden_features, activation)\n",
    "        self.num_parameters = sum([layer.num_parameters for layer in self.layers])\n",
    "        self.params = np.random.randn(self.num_parameters)\n",
    "        \n",
    "    def __call__(self, x):\n",
    "        idx = 0\n",
    "        for layer in self.layers:\n",
    "            x = layer(x, self.params[idx:])\n",
    "            idx += layer.num_parameters\n",
    "        return x\n",
    "        \n",
    "    def __get_layers(self, hidden_features, activation):\n",
    "        if len(hidden_features) == 0:\n",
    "            if env.a == 2:\n",
    "                layers = [Linear(env.n, 1, 'sigmoid')]\n",
    "            else:\n",
    "                layers = [Linear(env.n, env.a)]\n",
    "        else:\n",
    "            layers = [Linear(env.n, hidden_features[0], activation)]\n",
    "            for i, h in enumerate(hidden_features[1:]):\n",
    "                layers.append(Linear(hidden_features[i - 1], h, activation))\n",
    "            \n",
    "            if env.a == 1:\n",
    "                layers.append(Linear(hidden_features[-1], 1))\n",
    "            elif env.a == 2:\n",
    "                layers.append(Linear(hidden_features[-1], 1, 'sigmoid'))\n",
    "            else:\n",
    "                layers.append(Linear(hidden_features[-1], env.a, 'softmax'))\n",
    "        \n",
    "        return layers"
   ]
  },
  {
   "cell_type": "code",
   "execution_count": 46,
   "metadata": {
    "hidden": true
   },
   "outputs": [],
   "source": [
    "def get_model(hidden_features=[], activation='tanh'):\n",
    "    return Model(hidden_features, activation)"
   ]
  },
  {
   "cell_type": "code",
   "execution_count": 47,
   "metadata": {
    "hidden": true
   },
   "outputs": [],
   "source": [
    "model = get_model()"
   ]
  },
  {
   "cell_type": "markdown",
   "metadata": {},
   "source": [
    "# Evolutionary Algorithms"
   ]
  },
  {
   "cell_type": "markdown",
   "metadata": {
    "heading_collapsed": true
   },
   "source": [
    "## Define Base Features"
   ]
  },
  {
   "cell_type": "code",
   "execution_count": 48,
   "metadata": {
    "hidden": true
   },
   "outputs": [],
   "source": [
    "def evaluate(parameters=None):\n",
    "    set_parameters(parameters)\n",
    "    return sample(num_episodes)"
   ]
  },
  {
   "cell_type": "code",
   "execution_count": 49,
   "metadata": {
    "hidden": true
   },
   "outputs": [],
   "source": [
    "class EvolutionSearch():\n",
    "    def __init__(self, show_progress=False):\n",
    "        self.best_parameters = None\n",
    "        self.best_reward = -np.inf\n",
    "        self.epochs_run = 0\n",
    "        self.show_progress = show_progress\n",
    "        self.progress = []\n",
    "        \n",
    "    def search(self, num_epochs=-1, max_episode_reward=None, verbose=True, timeout=100):\n",
    "        if self.epochs_run == 0:\n",
    "            self.best_parameters = get_parameters()\n",
    "            self.best_reward = evaluate()\n",
    "            self.progress.append((0, self.best_reward))\n",
    "            \n",
    "        start_time = time()\n",
    "        if num_epochs == -1:\n",
    "            while self.best_reward / num_episodes < max_episode_reward:\n",
    "                self._search(verbose)\n",
    "                if time() - start_time > timeout: break\n",
    "        else:\n",
    "            epoch_iterator = range(num_epochs)\n",
    "            if verbose: epoch_iterator = tqdm_notebook(epoch_iterator)\n",
    "            for epoch in epoch_iterator:\n",
    "                self._search(verbose)\n",
    "                if time() - start_time > timeout: break\n",
    "        set_parameters(self.best_parameters)\n",
    "                \n",
    "    def _search(self, verbose=True):\n",
    "        pass"
   ]
  },
  {
   "cell_type": "code",
   "execution_count": 50,
   "metadata": {
    "hidden": true
   },
   "outputs": [],
   "source": [
    "def plot_progress(optimizer):\n",
    "    progress = np.array(optimizer.progress).T\n",
    "    plot(progress[0], progress[1] / num_episodes)"
   ]
  },
  {
   "cell_type": "markdown",
   "metadata": {
    "heading_collapsed": true
   },
   "source": [
    "## Random Search"
   ]
  },
  {
   "cell_type": "markdown",
   "metadata": {
    "hidden": true
   },
   "source": [
    "Searches randomly and selects the best performing model"
   ]
  },
  {
   "cell_type": "code",
   "execution_count": 51,
   "metadata": {
    "hidden": true
   },
   "outputs": [],
   "source": [
    "class RandomSearch(EvolutionSearch):\n",
    "    def __init__(self, param_generator=lambda: np.random.randn(model.num_parameters).astype(np.float32),\n",
    "                 show_progress=False):\n",
    "        super().__init__(show_progress)\n",
    "        self.param_generator = param_generator\n",
    "        \n",
    "    def _search(self, verbose=True):\n",
    "        parameters = self.param_generator()\n",
    "        reward = evaluate(parameters)\n",
    "        self.epochs_run += 1\n",
    "        \n",
    "        if reward > self.best_reward:\n",
    "            self.best_reward = reward\n",
    "            self.best_parameters = parameters\n",
    "            \n",
    "            if verbose: print('Average reward:', int(reward / num_episodes), end='\\r')\n",
    "            self.progress.append((self.epochs_run, reward))\n",
    "            if self.show_progress: sample(observe=True)"
   ]
  },
  {
   "cell_type": "code",
   "execution_count": 52,
   "metadata": {
    "hidden": true
   },
   "outputs": [],
   "source": [
    "%%script false\n",
    "optimizer = RandomSearch(show_progress=True)\n",
    "optimizer.search(max_episode_reward=max_episode_reward)\n",
    "\n",
    "plot_progress(optimizer)"
   ]
  },
  {
   "cell_type": "markdown",
   "metadata": {
    "heading_collapsed": true
   },
   "source": [
    "## Spiral Search"
   ]
  },
  {
   "cell_type": "markdown",
   "metadata": {
    "hidden": true
   },
   "source": [
    "Starts the search at a random point close to the best point and subsequently scans outwards. Although random, the pattern of searched points reminds one of a spiral."
   ]
  },
  {
   "cell_type": "code",
   "execution_count": 53,
   "metadata": {
    "hidden": true
   },
   "outputs": [
    {
     "data": {
      "image/png": "[encoded data removed]",
      "text/plain": [
       "<matplotlib.figure.Figure at 0x7fa29aee5710>"
      ]
     },
     "metadata": {},
     "output_type": "display_data"
    }
   ],
   "source": [
    "x = np.stack([np.random.randn(2) * 1e-3 * (1 + 1e-2) ** i for i in range(1000)]).T; plot(x[0], x[1], '.'); del x"
   ]
  },
  {
   "cell_type": "code",
   "execution_count": 106,
   "metadata": {
    "hidden": true
   },
   "outputs": [],
   "source": [
    "class SpiralSearch(EvolutionSearch):\n",
    "    def __init__(self, learning_rate=1e-3, spiral_rate=1e-2, show_progress=False, max_lr=np.inf):\n",
    "        super().__init__(show_progress)\n",
    "        self.initial_learning_rate = self.learning_rate = learning_rate\n",
    "        self.spiral_rate = spiral_rate\n",
    "        self.backward = False\n",
    "        self.max_lr = max_lr\n",
    "        \n",
    "    def _search(self, verbose=True):\n",
    "        noise = np.random.randn(model.num_parameters).astype(np.float32) * self.learning_rate\n",
    "        parameters = self.best_parameters + noise\n",
    "        reward = evaluate(parameters)\n",
    "        self.epochs_run += 1\n",
    "        self.__control_lr()\n",
    "        \n",
    "        if reward > self.best_reward:\n",
    "            self.best_reward = reward\n",
    "            self.best_parameters = parameters\n",
    "            \n",
    "            self.learning_rate = self.initial_learning_rate\n",
    "            \n",
    "            if verbose: print('Average reward:', int(reward / num_episodes), end='\\r')\n",
    "            self.progress.append((self.epochs_run, reward))\n",
    "            if self.show_progress: sample(observe=True)\n",
    "                \n",
    "    def __control_lr(self):\n",
    "        if self.backward:\n",
    "            self.learning_rate *= (1 - self.spiral_rate)\n",
    "        else:\n",
    "            self.learning_rate *= (1 + self.spiral_rate)\n",
    "            \n",
    "        if self.learning_rate >= self.max_lr:\n",
    "            self.backward = True\n",
    "        elif self.learning_rate <= self.initial_learning_rate:\n",
    "            self.backward = False"
   ]
  },
  {
   "cell_type": "code",
   "execution_count": 55,
   "metadata": {
    "hidden": true
   },
   "outputs": [],
   "source": [
    "%%script false\n",
    "model = get_model()\n",
    "\n",
    "optimizer = SpiralSearch(show_progress=True)\n",
    "optimizer.search(max_episode_reward=max_episode_reward)\n",
    "\n",
    "plot_progress(optimizer)"
   ]
  },
  {
   "cell_type": "markdown",
   "metadata": {
    "heading_collapsed": true
   },
   "source": [
    "## Evolutionary Strategy"
   ]
  },
  {
   "cell_type": "markdown",
   "metadata": {
    "hidden": true
   },
   "source": [
    "Simple Evolutionary Strategy as proposed by OpenAI"
   ]
  },
  {
   "cell_type": "code",
   "execution_count": 104,
   "metadata": {
    "hidden": true
   },
   "outputs": [],
   "source": [
    "class ESSearch(EvolutionSearch):\n",
    "    def __init__(self, pop_size=50, learning_rate=1e-3, std=1e-1, spiral_rate=1e-2, show_progress=False, max_std=np.inf):\n",
    "        super().__init__(show_progress)\n",
    "        self.pop_size = pop_size\n",
    "        self.learning_rate = learning_rate\n",
    "        self.initial_std = self.std = std\n",
    "        self.spiral_rate = spiral_rate\n",
    "        self.max_std = max_std\n",
    "        self.backward = False\n",
    "        \n",
    "    def _search(self, verbose=True):\n",
    "        noises = np.random.randn(self.pop_size, model.num_parameters).astype(np.float32) * self.std\n",
    "        rewards = np.stack([evaluate(self.best_parameters + noise) for noise in noises])\n",
    "        self.epochs_run += 1\n",
    "        \n",
    "        if rewards.std == 0:\n",
    "            self.__control_std()\n",
    "            return\n",
    "\n",
    "        rewards = (rewards - rewards.mean()) / rewards.std()\n",
    "        self.best_parameters = self.best_parameters + self.learning_rate * noises.T.dot(rewards) / (self.pop_size * self.std)\n",
    "        self.best_reward = evaluate(self.best_parameters)\n",
    "        if verbose: print('Average reward:', int(self.best_reward / num_episodes), end='\\r')\n",
    "        self.progress.append((self.epochs_run, self.best_reward))\n",
    "        \n",
    "        if self.show_progress: sample(observe=True)\n",
    "        \n",
    "        self.std = self.initial_std\n",
    "        self.backward = False\n",
    "        \n",
    "    def __control_std(self):\n",
    "        if self.backward:\n",
    "            self.std *= (1 - self.spiral_rate)\n",
    "        else:\n",
    "            self.std *= (1 + self.spiral_rate)\n",
    "            \n",
    "        if self.std >= self.max_std:\n",
    "            self.backward = True\n",
    "        elif self.std <= self.initial_std:\n",
    "            self.backward = False"
   ]
  },
  {
   "cell_type": "markdown",
   "metadata": {},
   "source": [
    "# Test Model"
   ]
  },
  {
   "cell_type": "code",
   "execution_count": 56,
   "metadata": {},
   "outputs": [],
   "source": [
    "def optimize(environment='CartPole-v1', max_episode_reward=500, hidden_features=[],\n",
    "             activation='relu', deterministic=True, optimizer=None, num_epochs=-1,\n",
    "             verbose=True, timeout=100, episodes_per_epoch=10):\n",
    "    global model, num_episodes, probabilistic, env\n",
    "    env = get_environment(environment)\n",
    "    model = get_model(hidden_features, activation)\n",
    "    num_episodes = episodes_per_epoch\n",
    "    probabilistic = not deterministic\n",
    "    \n",
    "    if optimizer is None: optimizer = RandomSearch()\n",
    "    if type(optimizer) is str:\n",
    "        optimizer = pickle_load(os.path.join(DIR_CHECKPOINTS, environment + '-' + optimizer + '.p'), has_lambda=True)\n",
    "\n",
    "    optimizer.search(num_epochs, max_episode_reward, verbose, timeout)\n",
    "    \n",
    "    plot_progress(optimizer)\n",
    "    \n",
    "    pickle_dump(os.path.join(DIR_CHECKPOINTS, environment + '-optimizer.p'), optimizer, has_lambda=True)"
   ]
  },
  {
   "cell_type": "code",
   "execution_count": 112,
   "metadata": {},
   "outputs": [
    {
     "ename": "AttributeError",
     "evalue": "module 'Box2D._Box2D' has no attribute 'RAND_LIMIT'",
     "output_type": "error",
     "traceback": [
      "\u001b[0;31m---------------------------------------------------------------------------\u001b[0m",
      "\u001b[0;31mAttributeError\u001b[0m                            Traceback (most recent call last)",
      "\u001b[0;32m<ipython-input-112-25442ab09f73>\u001b[0m in \u001b[0;36m<module>\u001b[0;34m()\u001b[0m\n\u001b[0;32m----> 1\u001b[0;31m \u001b[0moptimize\u001b[0m\u001b[0;34m(\u001b[0m\u001b[0;34m'LunarLander-v2'\u001b[0m\u001b[0;34m,\u001b[0m \u001b[0mtimeout\u001b[0m\u001b[0;34m=\u001b[0m\u001b[0;36m1\u001b[0m\u001b[0;34m,\u001b[0m \u001b[0moptimizer\u001b[0m\u001b[0;34m=\u001b[0m\u001b[0mSpiralSearch\u001b[0m\u001b[0;34m(\u001b[0m\u001b[0mshow_progress\u001b[0m\u001b[0;34m=\u001b[0m\u001b[0;32mTrue\u001b[0m\u001b[0;34m)\u001b[0m\u001b[0;34m,\u001b[0m \u001b[0mhidden_features\u001b[0m\u001b[0;34m=\u001b[0m\u001b[0;34m[\u001b[0m\u001b[0;36m10\u001b[0m\u001b[0;34m]\u001b[0m\u001b[0;34m)\u001b[0m\u001b[0;34m\u001b[0m\u001b[0m\n\u001b[0m",
      "\u001b[0;32m<ipython-input-56-ec29c0d868f6>\u001b[0m in \u001b[0;36moptimize\u001b[0;34m(environment, max_episode_reward, hidden_features, activation, deterministic, optimizer, num_epochs, verbose, timeout, episodes_per_epoch)\u001b[0m\n\u001b[1;32m      3\u001b[0m              verbose=True, timeout=100, episodes_per_epoch=10):\n\u001b[1;32m      4\u001b[0m     \u001b[0;32mglobal\u001b[0m \u001b[0mmodel\u001b[0m\u001b[0;34m,\u001b[0m \u001b[0mnum_episodes\u001b[0m\u001b[0;34m,\u001b[0m \u001b[0mprobabilistic\u001b[0m\u001b[0;34m,\u001b[0m \u001b[0menv\u001b[0m\u001b[0;34m\u001b[0m\u001b[0m\n\u001b[0;32m----> 5\u001b[0;31m     \u001b[0menv\u001b[0m \u001b[0;34m=\u001b[0m \u001b[0mget_environment\u001b[0m\u001b[0;34m(\u001b[0m\u001b[0menvironment\u001b[0m\u001b[0;34m)\u001b[0m\u001b[0;34m\u001b[0m\u001b[0m\n\u001b[0m\u001b[1;32m      6\u001b[0m     \u001b[0mmodel\u001b[0m \u001b[0;34m=\u001b[0m \u001b[0mget_model\u001b[0m\u001b[0;34m(\u001b[0m\u001b[0mhidden_features\u001b[0m\u001b[0;34m,\u001b[0m \u001b[0mactivation\u001b[0m\u001b[0;34m)\u001b[0m\u001b[0;34m\u001b[0m\u001b[0m\n\u001b[1;32m      7\u001b[0m     \u001b[0mnum_episodes\u001b[0m \u001b[0;34m=\u001b[0m \u001b[0mepisodes_per_epoch\u001b[0m\u001b[0;34m\u001b[0m\u001b[0m\n",
      "\u001b[0;32m<ipython-input-40-552131796ebd>\u001b[0m in \u001b[0;36mget_environment\u001b[0;34m(environment)\u001b[0m\n\u001b[1;32m      1\u001b[0m \u001b[0;32mdef\u001b[0m \u001b[0mget_environment\u001b[0m\u001b[0;34m(\u001b[0m\u001b[0menvironment\u001b[0m\u001b[0;34m=\u001b[0m\u001b[0;34m'CartPole-v1'\u001b[0m\u001b[0;34m)\u001b[0m\u001b[0;34m:\u001b[0m\u001b[0;34m\u001b[0m\u001b[0m\n\u001b[0;32m----> 2\u001b[0;31m     \u001b[0menv\u001b[0m \u001b[0;34m=\u001b[0m \u001b[0mgym\u001b[0m\u001b[0;34m.\u001b[0m\u001b[0mmake\u001b[0m\u001b[0;34m(\u001b[0m\u001b[0menvironment\u001b[0m\u001b[0;34m)\u001b[0m\u001b[0;34m\u001b[0m\u001b[0m\n\u001b[0m\u001b[1;32m      3\u001b[0m \u001b[0;34m\u001b[0m\u001b[0m\n\u001b[1;32m      4\u001b[0m     \u001b[0menv\u001b[0m\u001b[0;34m.\u001b[0m\u001b[0mn\u001b[0m \u001b[0;34m=\u001b[0m \u001b[0menv\u001b[0m\u001b[0;34m.\u001b[0m\u001b[0mobservation_space\u001b[0m\u001b[0;34m.\u001b[0m\u001b[0mshape\u001b[0m\u001b[0;34m[\u001b[0m\u001b[0;36m0\u001b[0m\u001b[0;34m]\u001b[0m\u001b[0;34m\u001b[0m\u001b[0m\n\u001b[1;32m      5\u001b[0m     \u001b[0menv\u001b[0m\u001b[0;34m.\u001b[0m\u001b[0ma\u001b[0m \u001b[0;34m=\u001b[0m \u001b[0menv\u001b[0m\u001b[0;34m.\u001b[0m\u001b[0maction_space\u001b[0m\u001b[0;34m.\u001b[0m\u001b[0mshape\u001b[0m\u001b[0;34m\u001b[0m\u001b[0m\n",
      "\u001b[0;32m~/anaconda3/lib/python3.6/site-packages/gym/envs/registration.py\u001b[0m in \u001b[0;36mmake\u001b[0;34m(id)\u001b[0m\n\u001b[1;32m    162\u001b[0m \u001b[0;34m\u001b[0m\u001b[0m\n\u001b[1;32m    163\u001b[0m \u001b[0;32mdef\u001b[0m \u001b[0mmake\u001b[0m\u001b[0;34m(\u001b[0m\u001b[0mid\u001b[0m\u001b[0;34m)\u001b[0m\u001b[0;34m:\u001b[0m\u001b[0;34m\u001b[0m\u001b[0m\n\u001b[0;32m--> 164\u001b[0;31m     \u001b[0;32mreturn\u001b[0m \u001b[0mregistry\u001b[0m\u001b[0;34m.\u001b[0m\u001b[0mmake\u001b[0m\u001b[0;34m(\u001b[0m\u001b[0mid\u001b[0m\u001b[0;34m)\u001b[0m\u001b[0;34m\u001b[0m\u001b[0m\n\u001b[0m\u001b[1;32m    165\u001b[0m \u001b[0;34m\u001b[0m\u001b[0m\n\u001b[1;32m    166\u001b[0m \u001b[0;32mdef\u001b[0m \u001b[0mspec\u001b[0m\u001b[0;34m(\u001b[0m\u001b[0mid\u001b[0m\u001b[0;34m)\u001b[0m\u001b[0;34m:\u001b[0m\u001b[0;34m\u001b[0m\u001b[0m\n",
      "\u001b[0;32m~/anaconda3/lib/python3.6/site-packages/gym/envs/registration.py\u001b[0m in \u001b[0;36mmake\u001b[0;34m(self, id)\u001b[0m\n\u001b[1;32m    120\u001b[0m         \u001b[0mlogger\u001b[0m\u001b[0;34m.\u001b[0m\u001b[0minfo\u001b[0m\u001b[0;34m(\u001b[0m\u001b[0;34m'Making new env: %s'\u001b[0m\u001b[0;34m,\u001b[0m \u001b[0mid\u001b[0m\u001b[0;34m)\u001b[0m\u001b[0;34m\u001b[0m\u001b[0m\n\u001b[1;32m    121\u001b[0m         \u001b[0mspec\u001b[0m \u001b[0;34m=\u001b[0m \u001b[0mself\u001b[0m\u001b[0;34m.\u001b[0m\u001b[0mspec\u001b[0m\u001b[0;34m(\u001b[0m\u001b[0mid\u001b[0m\u001b[0;34m)\u001b[0m\u001b[0;34m\u001b[0m\u001b[0m\n\u001b[0;32m--> 122\u001b[0;31m         \u001b[0menv\u001b[0m \u001b[0;34m=\u001b[0m \u001b[0mspec\u001b[0m\u001b[0;34m.\u001b[0m\u001b[0mmake\u001b[0m\u001b[0;34m(\u001b[0m\u001b[0;34m)\u001b[0m\u001b[0;34m\u001b[0m\u001b[0m\n\u001b[0m\u001b[1;32m    123\u001b[0m         \u001b[0;32mif\u001b[0m \u001b[0;34m(\u001b[0m\u001b[0menv\u001b[0m\u001b[0;34m.\u001b[0m\u001b[0mspec\u001b[0m\u001b[0;34m.\u001b[0m\u001b[0mtimestep_limit\u001b[0m \u001b[0;32mis\u001b[0m \u001b[0;32mnot\u001b[0m \u001b[0;32mNone\u001b[0m\u001b[0;34m)\u001b[0m \u001b[0;32mand\u001b[0m \u001b[0;32mnot\u001b[0m \u001b[0mspec\u001b[0m\u001b[0;34m.\u001b[0m\u001b[0mtags\u001b[0m\u001b[0;34m.\u001b[0m\u001b[0mget\u001b[0m\u001b[0;34m(\u001b[0m\u001b[0;34m'vnc'\u001b[0m\u001b[0;34m)\u001b[0m\u001b[0;34m:\u001b[0m\u001b[0;34m\u001b[0m\u001b[0m\n\u001b[1;32m    124\u001b[0m             \u001b[0;32mfrom\u001b[0m \u001b[0mgym\u001b[0m\u001b[0;34m.\u001b[0m\u001b[0mwrappers\u001b[0m\u001b[0;34m.\u001b[0m\u001b[0mtime_limit\u001b[0m \u001b[0;32mimport\u001b[0m \u001b[0mTimeLimit\u001b[0m\u001b[0;34m\u001b[0m\u001b[0m\n",
      "\u001b[0;32m~/anaconda3/lib/python3.6/site-packages/gym/envs/registration.py\u001b[0m in \u001b[0;36mmake\u001b[0;34m(self)\u001b[0m\n\u001b[1;32m     86\u001b[0m             \u001b[0menv\u001b[0m \u001b[0;34m=\u001b[0m \u001b[0mself\u001b[0m\u001b[0;34m.\u001b[0m\u001b[0m_entry_point\u001b[0m\u001b[0;34m(\u001b[0m\u001b[0;34m)\u001b[0m\u001b[0;34m\u001b[0m\u001b[0m\n\u001b[1;32m     87\u001b[0m         \u001b[0;32melse\u001b[0m\u001b[0;34m:\u001b[0m\u001b[0;34m\u001b[0m\u001b[0m\n\u001b[0;32m---> 88\u001b[0;31m             \u001b[0mcls\u001b[0m \u001b[0;34m=\u001b[0m \u001b[0mload\u001b[0m\u001b[0;34m(\u001b[0m\u001b[0mself\u001b[0m\u001b[0;34m.\u001b[0m\u001b[0m_entry_point\u001b[0m\u001b[0;34m)\u001b[0m\u001b[0;34m\u001b[0m\u001b[0m\n\u001b[0m\u001b[1;32m     89\u001b[0m             \u001b[0menv\u001b[0m \u001b[0;34m=\u001b[0m \u001b[0mcls\u001b[0m\u001b[0;34m(\u001b[0m\u001b[0;34m**\u001b[0m\u001b[0mself\u001b[0m\u001b[0;34m.\u001b[0m\u001b[0m_kwargs\u001b[0m\u001b[0;34m)\u001b[0m\u001b[0;34m\u001b[0m\u001b[0m\n\u001b[1;32m     90\u001b[0m \u001b[0;34m\u001b[0m\u001b[0m\n",
      "\u001b[0;32m~/anaconda3/lib/python3.6/site-packages/gym/envs/registration.py\u001b[0m in \u001b[0;36mload\u001b[0;34m(name)\u001b[0m\n\u001b[1;32m     15\u001b[0m \u001b[0;32mdef\u001b[0m \u001b[0mload\u001b[0m\u001b[0;34m(\u001b[0m\u001b[0mname\u001b[0m\u001b[0;34m)\u001b[0m\u001b[0;34m:\u001b[0m\u001b[0;34m\u001b[0m\u001b[0m\n\u001b[1;32m     16\u001b[0m     \u001b[0mentry_point\u001b[0m \u001b[0;34m=\u001b[0m \u001b[0mpkg_resources\u001b[0m\u001b[0;34m.\u001b[0m\u001b[0mEntryPoint\u001b[0m\u001b[0;34m.\u001b[0m\u001b[0mparse\u001b[0m\u001b[0;34m(\u001b[0m\u001b[0;34m'x={}'\u001b[0m\u001b[0;34m.\u001b[0m\u001b[0mformat\u001b[0m\u001b[0;34m(\u001b[0m\u001b[0mname\u001b[0m\u001b[0;34m)\u001b[0m\u001b[0;34m)\u001b[0m\u001b[0;34m\u001b[0m\u001b[0m\n\u001b[0;32m---> 17\u001b[0;31m     \u001b[0mresult\u001b[0m \u001b[0;34m=\u001b[0m \u001b[0mentry_point\u001b[0m\u001b[0;34m.\u001b[0m\u001b[0mload\u001b[0m\u001b[0;34m(\u001b[0m\u001b[0;32mFalse\u001b[0m\u001b[0;34m)\u001b[0m\u001b[0;34m\u001b[0m\u001b[0m\n\u001b[0m\u001b[1;32m     18\u001b[0m     \u001b[0;32mreturn\u001b[0m \u001b[0mresult\u001b[0m\u001b[0;34m\u001b[0m\u001b[0m\n\u001b[1;32m     19\u001b[0m \u001b[0;34m\u001b[0m\u001b[0m\n",
      "\u001b[0;32m~/anaconda3/lib/python3.6/site-packages/pkg_resources/__init__.py\u001b[0m in \u001b[0;36mload\u001b[0;34m(self, require, *args, **kwargs)\u001b[0m\n\u001b[1;32m   2407\u001b[0m         \u001b[0;32mif\u001b[0m \u001b[0mrequire\u001b[0m\u001b[0;34m:\u001b[0m\u001b[0;34m\u001b[0m\u001b[0m\n\u001b[1;32m   2408\u001b[0m             \u001b[0mself\u001b[0m\u001b[0;34m.\u001b[0m\u001b[0mrequire\u001b[0m\u001b[0;34m(\u001b[0m\u001b[0;34m*\u001b[0m\u001b[0margs\u001b[0m\u001b[0;34m,\u001b[0m \u001b[0;34m**\u001b[0m\u001b[0mkwargs\u001b[0m\u001b[0;34m)\u001b[0m\u001b[0;34m\u001b[0m\u001b[0m\n\u001b[0;32m-> 2409\u001b[0;31m         \u001b[0;32mreturn\u001b[0m \u001b[0mself\u001b[0m\u001b[0;34m.\u001b[0m\u001b[0mresolve\u001b[0m\u001b[0;34m(\u001b[0m\u001b[0;34m)\u001b[0m\u001b[0;34m\u001b[0m\u001b[0m\n\u001b[0m\u001b[1;32m   2410\u001b[0m \u001b[0;34m\u001b[0m\u001b[0m\n\u001b[1;32m   2411\u001b[0m     \u001b[0;32mdef\u001b[0m \u001b[0mresolve\u001b[0m\u001b[0;34m(\u001b[0m\u001b[0mself\u001b[0m\u001b[0;34m)\u001b[0m\u001b[0;34m:\u001b[0m\u001b[0;34m\u001b[0m\u001b[0m\n",
      "\u001b[0;32m~/anaconda3/lib/python3.6/site-packages/pkg_resources/__init__.py\u001b[0m in \u001b[0;36mresolve\u001b[0;34m(self)\u001b[0m\n\u001b[1;32m   2413\u001b[0m         \u001b[0mResolve\u001b[0m \u001b[0mthe\u001b[0m \u001b[0mentry\u001b[0m \u001b[0mpoint\u001b[0m \u001b[0;32mfrom\u001b[0m \u001b[0mits\u001b[0m \u001b[0mmodule\u001b[0m \u001b[0;32mand\u001b[0m \u001b[0mattrs\u001b[0m\u001b[0;34m.\u001b[0m\u001b[0;34m\u001b[0m\u001b[0m\n\u001b[1;32m   2414\u001b[0m         \"\"\"\n\u001b[0;32m-> 2415\u001b[0;31m         \u001b[0mmodule\u001b[0m \u001b[0;34m=\u001b[0m \u001b[0m__import__\u001b[0m\u001b[0;34m(\u001b[0m\u001b[0mself\u001b[0m\u001b[0;34m.\u001b[0m\u001b[0mmodule_name\u001b[0m\u001b[0;34m,\u001b[0m \u001b[0mfromlist\u001b[0m\u001b[0;34m=\u001b[0m\u001b[0;34m[\u001b[0m\u001b[0;34m'__name__'\u001b[0m\u001b[0;34m]\u001b[0m\u001b[0;34m,\u001b[0m \u001b[0mlevel\u001b[0m\u001b[0;34m=\u001b[0m\u001b[0;36m0\u001b[0m\u001b[0;34m)\u001b[0m\u001b[0;34m\u001b[0m\u001b[0m\n\u001b[0m\u001b[1;32m   2416\u001b[0m         \u001b[0;32mtry\u001b[0m\u001b[0;34m:\u001b[0m\u001b[0;34m\u001b[0m\u001b[0m\n\u001b[1;32m   2417\u001b[0m             \u001b[0;32mreturn\u001b[0m \u001b[0mfunctools\u001b[0m\u001b[0;34m.\u001b[0m\u001b[0mreduce\u001b[0m\u001b[0;34m(\u001b[0m\u001b[0mgetattr\u001b[0m\u001b[0;34m,\u001b[0m \u001b[0mself\u001b[0m\u001b[0;34m.\u001b[0m\u001b[0mattrs\u001b[0m\u001b[0;34m,\u001b[0m \u001b[0mmodule\u001b[0m\u001b[0;34m)\u001b[0m\u001b[0;34m\u001b[0m\u001b[0m\n",
      "\u001b[0;32m~/anaconda3/lib/python3.6/site-packages/gym/envs/box2d/__init__.py\u001b[0m in \u001b[0;36m<module>\u001b[0;34m()\u001b[0m\n\u001b[0;32m----> 1\u001b[0;31m \u001b[0;32mfrom\u001b[0m \u001b[0mgym\u001b[0m\u001b[0;34m.\u001b[0m\u001b[0menvs\u001b[0m\u001b[0;34m.\u001b[0m\u001b[0mbox2d\u001b[0m\u001b[0;34m.\u001b[0m\u001b[0mlunar_lander\u001b[0m \u001b[0;32mimport\u001b[0m \u001b[0mLunarLander\u001b[0m\u001b[0;34m\u001b[0m\u001b[0m\n\u001b[0m\u001b[1;32m      2\u001b[0m \u001b[0;32mfrom\u001b[0m \u001b[0mgym\u001b[0m\u001b[0;34m.\u001b[0m\u001b[0menvs\u001b[0m\u001b[0;34m.\u001b[0m\u001b[0mbox2d\u001b[0m\u001b[0;34m.\u001b[0m\u001b[0mlunar_lander\u001b[0m \u001b[0;32mimport\u001b[0m \u001b[0mLunarLanderContinuous\u001b[0m\u001b[0;34m\u001b[0m\u001b[0m\n\u001b[1;32m      3\u001b[0m \u001b[0;32mfrom\u001b[0m \u001b[0mgym\u001b[0m\u001b[0;34m.\u001b[0m\u001b[0menvs\u001b[0m\u001b[0;34m.\u001b[0m\u001b[0mbox2d\u001b[0m\u001b[0;34m.\u001b[0m\u001b[0mbipedal_walker\u001b[0m \u001b[0;32mimport\u001b[0m \u001b[0mBipedalWalker\u001b[0m\u001b[0;34m,\u001b[0m \u001b[0mBipedalWalkerHardcore\u001b[0m\u001b[0;34m\u001b[0m\u001b[0m\n\u001b[1;32m      4\u001b[0m \u001b[0;32mfrom\u001b[0m \u001b[0mgym\u001b[0m\u001b[0;34m.\u001b[0m\u001b[0menvs\u001b[0m\u001b[0;34m.\u001b[0m\u001b[0mbox2d\u001b[0m\u001b[0;34m.\u001b[0m\u001b[0mcar_racing\u001b[0m \u001b[0;32mimport\u001b[0m \u001b[0mCarRacing\u001b[0m\u001b[0;34m\u001b[0m\u001b[0m\n",
      "\u001b[0;32m~/anaconda3/lib/python3.6/site-packages/gym/envs/box2d/lunar_lander.py\u001b[0m in \u001b[0;36m<module>\u001b[0;34m()\u001b[0m\n\u001b[1;32m      2\u001b[0m \u001b[0;32mimport\u001b[0m \u001b[0mnumpy\u001b[0m \u001b[0;32mas\u001b[0m \u001b[0mnp\u001b[0m\u001b[0;34m\u001b[0m\u001b[0m\n\u001b[1;32m      3\u001b[0m \u001b[0;34m\u001b[0m\u001b[0m\n\u001b[0;32m----> 4\u001b[0;31m \u001b[0;32mimport\u001b[0m \u001b[0mBox2D\u001b[0m\u001b[0;34m\u001b[0m\u001b[0m\n\u001b[0m\u001b[1;32m      5\u001b[0m \u001b[0;32mfrom\u001b[0m \u001b[0mBox2D\u001b[0m\u001b[0;34m.\u001b[0m\u001b[0mb2\u001b[0m \u001b[0;32mimport\u001b[0m \u001b[0;34m(\u001b[0m\u001b[0medgeShape\u001b[0m\u001b[0;34m,\u001b[0m \u001b[0mcircleShape\u001b[0m\u001b[0;34m,\u001b[0m \u001b[0mfixtureDef\u001b[0m\u001b[0;34m,\u001b[0m \u001b[0mpolygonShape\u001b[0m\u001b[0;34m,\u001b[0m \u001b[0mrevoluteJointDef\u001b[0m\u001b[0;34m,\u001b[0m \u001b[0mcontactListener\u001b[0m\u001b[0;34m)\u001b[0m\u001b[0;34m\u001b[0m\u001b[0m\n\u001b[1;32m      6\u001b[0m \u001b[0;34m\u001b[0m\u001b[0m\n",
      "\u001b[0;32m~/anaconda3/lib/python3.6/site-packages/Box2D/__init__.py\u001b[0m in \u001b[0;36m<module>\u001b[0;34m()\u001b[0m\n\u001b[1;32m     18\u001b[0m \u001b[0;31m# 3. This notice may not be removed or altered from any source distribution.\u001b[0m\u001b[0;34m\u001b[0m\u001b[0;34m\u001b[0m\u001b[0m\n\u001b[1;32m     19\u001b[0m \u001b[0;31m#\u001b[0m\u001b[0;34m\u001b[0m\u001b[0;34m\u001b[0m\u001b[0m\n\u001b[0;32m---> 20\u001b[0;31m \u001b[0;32mfrom\u001b[0m \u001b[0;34m.\u001b[0m\u001b[0mBox2D\u001b[0m \u001b[0;32mimport\u001b[0m \u001b[0;34m*\u001b[0m\u001b[0;34m\u001b[0m\u001b[0m\n\u001b[0m\u001b[1;32m     21\u001b[0m \u001b[0m__author__\u001b[0m \u001b[0;34m=\u001b[0m \u001b[0;34m'$Date$'\u001b[0m\u001b[0;34m\u001b[0m\u001b[0m\n\u001b[1;32m     22\u001b[0m \u001b[0m__version__\u001b[0m \u001b[0;34m=\u001b[0m \u001b[0;34m'2.3.3'\u001b[0m\u001b[0;34m\u001b[0m\u001b[0m\n",
      "\u001b[0;32m~/anaconda3/lib/python3.6/site-packages/Box2D/Box2D.py\u001b[0m in \u001b[0;36m<module>\u001b[0;34m()\u001b[0m\n\u001b[1;32m    432\u001b[0m     \u001b[0;34m\"\"\"b2CheckPolygon(b2PolygonShape shape, bool additional_checks=True) -> bool\"\"\"\u001b[0m\u001b[0;34m\u001b[0m\u001b[0m\n\u001b[1;32m    433\u001b[0m     \u001b[0;32mreturn\u001b[0m \u001b[0m_Box2D\u001b[0m\u001b[0;34m.\u001b[0m\u001b[0mb2CheckPolygon\u001b[0m\u001b[0;34m(\u001b[0m\u001b[0mshape\u001b[0m\u001b[0;34m,\u001b[0m \u001b[0madditional_checks\u001b[0m\u001b[0;34m)\u001b[0m\u001b[0;34m\u001b[0m\u001b[0m\n\u001b[0;32m--> 434\u001b[0;31m \u001b[0mRAND_LIMIT\u001b[0m \u001b[0;34m=\u001b[0m \u001b[0m_Box2D\u001b[0m\u001b[0;34m.\u001b[0m\u001b[0mRAND_LIMIT\u001b[0m\u001b[0;34m\u001b[0m\u001b[0m\n\u001b[0m\u001b[1;32m    435\u001b[0m \u001b[0;34m\u001b[0m\u001b[0m\n\u001b[1;32m    436\u001b[0m \u001b[0;32mdef\u001b[0m \u001b[0mb2Random\u001b[0m\u001b[0;34m(\u001b[0m\u001b[0;34m*\u001b[0m\u001b[0margs\u001b[0m\u001b[0;34m)\u001b[0m\u001b[0;34m:\u001b[0m\u001b[0;34m\u001b[0m\u001b[0m\n",
      "\u001b[0;31mAttributeError\u001b[0m: module 'Box2D._Box2D' has no attribute 'RAND_LIMIT'"
     ]
    }
   ],
   "source": [
    "optimize('LunarLander-v2', timeout=1, optimizer=SpiralSearch(show_progress=True), hidden_features=[10])"
   ]
  },
  {
   "cell_type": "code",
   "execution_count": 111,
   "metadata": {},
   "outputs": [
    {
     "data": {
      "text/plain": [
       "-1388.7166729305618"
      ]
     },
     "execution_count": 111,
     "metadata": {},
     "output_type": "execute_result"
    }
   ],
   "source": [
    "sample(observe=True)"
   ]
  }
 ],
 "metadata": {
  "kernelspec": {
   "display_name": "Python 3",
   "language": "python",
   "name": "python3"
  },
  "language_info": {
   "codemirror_mode": {
    "name": "ipython",
    "version": 3
   },
   "file_extension": ".py",
   "mimetype": "text/x-python",
   "name": "python",
   "nbconvert_exporter": "python",
   "pygments_lexer": "ipython3",
   "version": "3.6.3"
  },
  "varInspector": {
   "cols": {
    "lenName": 16,
    "lenType": 16,
    "lenVar": 40
   },
   "kernels_config": {
    "python": {
     "delete_cmd_postfix": "",
     "delete_cmd_prefix": "del ",
     "library": "var_list.py",
     "varRefreshCmd": "print(var_dic_list())"
    },
    "r": {
     "delete_cmd_postfix": ") ",
     "delete_cmd_prefix": "rm(",
     "library": "var_list.r",
     "varRefreshCmd": "cat(var_dic_list()) "
    }
   },
   "types_to_exclude": [
    "module",
    "function",
    "builtin_function_or_method",
    "instance",
    "_Feature"
   ],
   "window_display": false
  }
 },
 "nbformat": 4,
 "nbformat_minor": 2
}

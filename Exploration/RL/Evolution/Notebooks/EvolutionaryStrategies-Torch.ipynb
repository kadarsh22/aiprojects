{
 "cells": [
  {
   "cell_type": "markdown",
   "metadata": {
    "heading_collapsed": true
   },
   "source": [
    "# Setup"
   ]
  },
  {
   "cell_type": "markdown",
   "metadata": {
    "heading_collapsed": true,
    "hidden": true
   },
   "source": [
    "## Imports"
   ]
  },
  {
   "cell_type": "code",
   "execution_count": 1,
   "metadata": {
    "hidden": true
   },
   "outputs": [],
   "source": [
    "import os.path\n",
    "\n",
    "from tqdm import tqdm_notebook\n",
    "from time import time"
   ]
  },
  {
   "cell_type": "markdown",
   "metadata": {
    "hidden": true
   },
   "source": [
    "OpenAI Gym Modules"
   ]
  },
  {
   "cell_type": "code",
   "execution_count": 2,
   "metadata": {
    "hidden": true
   },
   "outputs": [],
   "source": [
    "import gym"
   ]
  },
  {
   "cell_type": "markdown",
   "metadata": {
    "hidden": true
   },
   "source": [
    "PyTorch Modules"
   ]
  },
  {
   "cell_type": "code",
   "execution_count": 3,
   "metadata": {
    "hidden": true
   },
   "outputs": [],
   "source": [
    "import torch\n",
    "import torch.nn as nn\n",
    "import torch.nn.functional as F\n",
    "\n",
    "from torch.autograd import Variable"
   ]
  },
  {
   "cell_type": "markdown",
   "metadata": {
    "hidden": true
   },
   "source": [
    "vai Modules"
   ]
  },
  {
   "cell_type": "code",
   "execution_count": 4,
   "metadata": {
    "hidden": true
   },
   "outputs": [],
   "source": [
    "from vai.vaidata import pickle_load, pickle_dump\n",
    "from vai.utils.utils import path_consts"
   ]
  },
  {
   "cell_type": "markdown",
   "metadata": {
    "heading_collapsed": true,
    "hidden": true
   },
   "source": [
    "## Define Userful Features"
   ]
  },
  {
   "cell_type": "code",
   "execution_count": 5,
   "metadata": {
    "hidden": true
   },
   "outputs": [],
   "source": [
    "for k, v in path_consts():\n",
    "    exec(k + ' = v')"
   ]
  },
  {
   "cell_type": "code",
   "execution_count": 6,
   "metadata": {
    "hidden": true
   },
   "outputs": [],
   "source": [
    "use_gpu = False"
   ]
  },
  {
   "cell_type": "code",
   "execution_count": 7,
   "metadata": {
    "hidden": true
   },
   "outputs": [],
   "source": [
    "probabilistic = False"
   ]
  },
  {
   "cell_type": "code",
   "execution_count": 8,
   "metadata": {
    "hidden": true
   },
   "outputs": [],
   "source": [
    "cuda = lambda x: x.cuda() if use_gpu and torch.cuda.is_available() else x"
   ]
  },
  {
   "cell_type": "code",
   "execution_count": 9,
   "metadata": {
    "hidden": true
   },
   "outputs": [],
   "source": [
    "def get_parameters():\n",
    "    weights = list(model.parameters())\n",
    "    params = []\n",
    "    for w in weights:\n",
    "        params.append(w.data.cpu().numpy().reshape(-1))\n",
    "    return np.hstack(params)"
   ]
  },
  {
   "cell_type": "code",
   "execution_count": 10,
   "metadata": {
    "hidden": true
   },
   "outputs": [],
   "source": [
    "def set_parameters(parameters=None):\n",
    "    if parameters is None: return\n",
    "    global model\n",
    "    param_idx = 0\n",
    "    for s, param in zip(model.parameter_shapes, model.parameters()):\n",
    "        num_params = np.prod(s)\n",
    "        param.data = cuda(torch.from_numpy(parameters[param_idx:param_idx + num_params].reshape(s)))\n",
    "        param_idx += num_params"
   ]
  },
  {
   "cell_type": "code",
   "execution_count": 11,
   "metadata": {
    "hidden": true
   },
   "outputs": [],
   "source": [
    "def get_action(obs):\n",
    "    action = model(Variable(cuda(torch.from_numpy(np.expand_dims(obs.astype(np.float32), 0))), volatile=True)).cpu().data.numpy()[0]\n",
    "    if env.a == 1:\n",
    "        return action\n",
    "    elif env.a == 2:\n",
    "        if probabilistic:\n",
    "            return np.random.choice(2, p=[action[0], 1-action[0]])\n",
    "        \n",
    "        return (action > 0.5).astype(int)[0]\n",
    "    elif probabilistic:\n",
    "        return np.random.choice(env.a, p=action)\n",
    "    \n",
    "    return action.argmax()"
   ]
  },
  {
   "cell_type": "code",
   "execution_count": 12,
   "metadata": {
    "hidden": true
   },
   "outputs": [],
   "source": [
    "def sample(episodes=1, observe=False):\n",
    "    epoch_reward = 0\n",
    "    for episode in range(episodes):\n",
    "        env.reset()\n",
    "        done = False\n",
    "        obs = env.observation_space.sample()\n",
    "        episode_reward = 0\n",
    "        while not done:\n",
    "            if observe:  env.render()\n",
    "            obs, r, done, _ = env.step(get_action(obs))\n",
    "            episode_reward += r\n",
    "                \n",
    "        epoch_reward += episode_reward\n",
    "    if observe: env.render(close=True)\n",
    "    return epoch_reward"
   ]
  },
  {
   "cell_type": "code",
   "execution_count": 13,
   "metadata": {
    "hidden": true
   },
   "outputs": [],
   "source": [
    "def get_environment(environment='CartPole-v1'):\n",
    "    env = gym.make(environment)\n",
    "\n",
    "    env.n = env.observation_space.shape[0]\n",
    "    env.a = env.action_space.shape\n",
    "    env.a = env.action_space.n if len(env.a) == 0 else env.a[0]\n",
    "    return env"
   ]
  },
  {
   "cell_type": "code",
   "execution_count": 14,
   "metadata": {
    "hidden": true
   },
   "outputs": [],
   "source": [
    "env = get_environment()"
   ]
  },
  {
   "cell_type": "code",
   "execution_count": 15,
   "metadata": {
    "hidden": true
   },
   "outputs": [],
   "source": [
    "num_episodes = 10\n",
    "max_episode_reward = 500"
   ]
  },
  {
   "cell_type": "markdown",
   "metadata": {
    "heading_collapsed": true
   },
   "source": [
    "# Create Model"
   ]
  },
  {
   "cell_type": "code",
   "execution_count": 16,
   "metadata": {
    "hidden": true
   },
   "outputs": [],
   "source": [
    "def get_activation(activation):\n",
    "    if activation == 'relu':\n",
    "        return nn.ReLU(inplace=True)\n",
    "    elif activation == 'sigmoid':\n",
    "        return nn.Sigmoid()\n",
    "    elif activation == 'tanh':\n",
    "        return nn.Tanh()\n",
    "    elif activation == 'softmax':\n",
    "        return nn.Softmax()"
   ]
  },
  {
   "cell_type": "code",
   "execution_count": 17,
   "metadata": {
    "hidden": true
   },
   "outputs": [],
   "source": [
    "def get_model(hidden_features=[], activation='tanh', use_gpu=False):\n",
    "    Activation = get_activation(activation)\n",
    "    \n",
    "    if len(hidden_features) == 0:\n",
    "        if env.a == 2:\n",
    "            layers = [nn.Linear(env.n, 1), get_activation('sigmoid')]\n",
    "        else:\n",
    "            layers = [nn.Linear(env.n, env.a)]\n",
    "    else:\n",
    "        layers = [nn.Linear(env.n, hidden_features[0]), Activation]\n",
    "        for i, h in enumerate(hidden_features[1:]):\n",
    "            layers += [nn.Linear(hidden_features[i-1], h), Activation]\n",
    "        if env.a == 2:\n",
    "            layers.append(nn.Linear(hidden_features[-1], 1), get_activation('sigmoid'))\n",
    "        else:\n",
    "            layers.append(nn.Linear(hidden_features[-1], env.a))\n",
    "        \n",
    "    if env.a > 2:\n",
    "        layers.append(get_activation('softmax'))\n",
    "        \n",
    "    model = cuda(nn.Sequential(*layers))\n",
    "    model.parameter_shapes = [np.array(p.size()) for p in list(model.parameters())]\n",
    "    model.num_parameters = sum([np.prod(s) for s in model.parameter_shapes])\n",
    "    return model"
   ]
  },
  {
   "cell_type": "code",
   "execution_count": 18,
   "metadata": {
    "hidden": true
   },
   "outputs": [
    {
     "data": {
      "text/plain": [
       "Sequential (\n",
       "  (0): Linear (4 -> 1)\n",
       "  (1): Sigmoid ()\n",
       ")"
      ]
     },
     "execution_count": 18,
     "metadata": {},
     "output_type": "execute_result"
    }
   ],
   "source": [
    "model = get_model()\n",
    "model"
   ]
  },
  {
   "cell_type": "markdown",
   "metadata": {},
   "source": [
    "# Evolutionary Algorithms"
   ]
  },
  {
   "cell_type": "markdown",
   "metadata": {},
   "source": [
    "## Define Base Features"
   ]
  },
  {
   "cell_type": "code",
   "execution_count": 19,
   "metadata": {},
   "outputs": [],
   "source": [
    "def evaluate(parameters=None):\n",
    "    set_parameters(parameters)\n",
    "    return sample(num_episodes)"
   ]
  },
  {
   "cell_type": "code",
   "execution_count": 20,
   "metadata": {},
   "outputs": [],
   "source": [
    "class EvolutionSearch():\n",
    "    def __init__(self, show_progress=False):\n",
    "        self.best_parameters = None\n",
    "        self.best_reward = -np.inf\n",
    "        self.epochs_run = 0\n",
    "        self.show_progress = show_progress\n",
    "        self.progress = []\n",
    "        \n",
    "    def search(self, num_epochs=-1, max_episode_reward=None, verbose=True, timeout=100):\n",
    "        if self.epochs_run == 0:\n",
    "            self.best_parameters = get_parameters()\n",
    "            self.best_reward = evaluate()\n",
    "            self.progress.append((0, self.best_reward))\n",
    "            \n",
    "        start_time = time()\n",
    "        if num_epochs == -1:\n",
    "            while self.best_reward / num_episodes < max_episode_reward:\n",
    "                self._search(verbose)\n",
    "                if time() - start_time > timeout: break\n",
    "        else:\n",
    "            epoch_iterator = range(num_epochs)\n",
    "            if verbose: epoch_iterator = tqdm_notebook(epoch_iterator)\n",
    "            for epoch in epoch_iterator:\n",
    "                self._search(verbose)\n",
    "                if time() - start_time > timeout: break\n",
    "            print(time() - start_time)\n",
    "        set_parameters(self.best_parameters)\n",
    "        print(time() - start_time)\n",
    "                \n",
    "    def _search(self, verbose=True):\n",
    "        pass"
   ]
  },
  {
   "cell_type": "code",
   "execution_count": 21,
   "metadata": {},
   "outputs": [],
   "source": [
    "def plot_progress(optimizer):\n",
    "    progress = np.array(optimizer.progress).T\n",
    "    plot(progress[0], progress[1] / num_episodes)"
   ]
  },
  {
   "cell_type": "markdown",
   "metadata": {
    "heading_collapsed": true
   },
   "source": [
    "## Random Search"
   ]
  },
  {
   "cell_type": "markdown",
   "metadata": {
    "hidden": true
   },
   "source": [
    "Searches randomly and selects the best performing model"
   ]
  },
  {
   "cell_type": "code",
   "execution_count": 22,
   "metadata": {
    "hidden": true
   },
   "outputs": [],
   "source": [
    "class RandomSearch(EvolutionSearch):\n",
    "    def __init__(self, param_generator=lambda: np.random.randn(model.num_parameters).astype(np.float32),\n",
    "                 show_progress=False):\n",
    "        super().__init__(show_progress)\n",
    "        self.param_generator = param_generator\n",
    "        \n",
    "    def _search(self, verbose=True):\n",
    "        parameters = self.param_generator()\n",
    "        reward = evaluate(parameters)\n",
    "        self.epochs_run += 1\n",
    "        \n",
    "        if reward > self.best_reward:\n",
    "            self.best_reward = reward\n",
    "            self.best_parameters = parameters\n",
    "            \n",
    "            if verbose: print('Average reward:', int(reward / num_episodes), end='\\r')\n",
    "            self.progress.append((self.epochs_run, reward))\n",
    "            if self.show_progress: sample(observe=True)"
   ]
  },
  {
   "cell_type": "code",
   "execution_count": 23,
   "metadata": {
    "hidden": true
   },
   "outputs": [],
   "source": [
    "#optimizer = RandomSearch(show_progress=True)\n",
    "#optimizer.search(max_episode_reward=max_episode_reward)\n",
    "\n",
    "#plot_progress(optimizer)"
   ]
  },
  {
   "cell_type": "markdown",
   "metadata": {
    "heading_collapsed": true
   },
   "source": [
    "## Spiral Search"
   ]
  },
  {
   "cell_type": "markdown",
   "metadata": {
    "hidden": true
   },
   "source": [
    "Starts the search at a random point close to the best point and subsequently scans outwards. Although random, the pattern of searched points reminds one of a spiral."
   ]
  },
  {
   "cell_type": "code",
   "execution_count": 24,
   "metadata": {
    "hidden": true
   },
   "outputs": [
    {
     "data": {
      "image/png": "[encoded data removed]",
      "text/plain": [
       "<matplotlib.figure.Figure at 0x7f6e95bca198>"
      ]
     },
     "metadata": {},
     "output_type": "display_data"
    }
   ],
   "source": [
    "x = np.stack([np.random.randn(2) * 1e-3 * (1 + 1e-2) ** i for i in range(1000)]).T; plot(x[0], x[1], '.'); del x"
   ]
  },
  {
   "cell_type": "code",
   "execution_count": 25,
   "metadata": {
    "hidden": true
   },
   "outputs": [],
   "source": [
    "class SpiralSearch(EvolutionSearch):\n",
    "    def __init__(self, learning_rate=1e-3, spiral_rate=1e-2, show_progress=False):\n",
    "        super().__init__(show_progress)\n",
    "        self.initial_learning_rate = self.learning_rate = learning_rate\n",
    "        self.spiral_rate = spiral_rate\n",
    "        \n",
    "    def _search(self, verbose=True):\n",
    "        noise = np.random.randn(model.num_parameters).astype(np.float32) * self.learning_rate\n",
    "        parameters = self.best_parameters + noise\n",
    "        reward = evaluate(parameters)\n",
    "        self.epochs_run += 1\n",
    "        self.learning_rate *= (1 + self.spiral_rate)\n",
    "        \n",
    "        if reward > self.best_reward:\n",
    "            self.best_reward = reward\n",
    "            self.best_parameters = parameters\n",
    "            \n",
    "            self.learning_rate = self.initial_learning_rate\n",
    "            \n",
    "            if verbose: print('Average reward:', int(reward / num_episodes), end='\\r')\n",
    "            self.progress.append((self.epochs_run, reward))\n",
    "            if self.show_progress: sample(observe=True)"
   ]
  },
  {
   "cell_type": "code",
   "execution_count": 26,
   "metadata": {
    "hidden": true
   },
   "outputs": [],
   "source": [
    "#model = get_model()\n",
    "\n",
    "#optimizer = SpiralSearch(show_progress=True)\n",
    "#optimizer.search(max_episode_reward=max_episode_reward)\n",
    "\n",
    "#plot_progress(optimizer)"
   ]
  },
  {
   "cell_type": "markdown",
   "metadata": {},
   "source": [
    "# Test Model"
   ]
  },
  {
   "cell_type": "code",
   "execution_count": 27,
   "metadata": {},
   "outputs": [],
   "source": [
    "def optimize(environment='CartPole-v1', max_episode_reward=500, hidden_features=[],\n",
    "             activation='relu', GPU=False, deterministic=True, optimizer=None, num_epochs=-1,\n",
    "             verbose=True, timeout=100, episodes_per_epoch=10):\n",
    "    global model, num_episodes, probabilistic, env, use_gpu\n",
    "    use_gpu = GPU\n",
    "    env = get_environment(environment)\n",
    "    model = get_model(hidden_features, activation, use_gpu)\n",
    "    num_episodes = episodes_per_epoch\n",
    "    probabilistic = not deterministic\n",
    "    \n",
    "    if optimizer is None: optimizer = RandomSearch()\n",
    "    if type(optimizer) is str:\n",
    "        optimizer = pickle_load(os.path.join(DIR_CHECKPOINTS, environment + '-' + optimizer + '.p'), has_lambda=True)\n",
    "\n",
    "    optimizer.search(num_epochs, max_episode_reward, verbose, timeout)\n",
    "    \n",
    "    plot_progress(optimizer)\n",
    "    \n",
    "    pickle_dump(os.path.join(DIR_CHECKPOINTS, environment + '-optimizer.p'), optimizer, has_lambda=True)"
   ]
  },
  {
   "cell_type": "code",
   "execution_count": 28,
   "metadata": {},
   "outputs": [
    {
     "data": {
      "application/vnd.jupyter.widget-view+json": {
       "model_id": "f3a5511479844108b9d3e3cfa1ea96fa",
       "version_major": 2,
       "version_minor": 0
      },
      "text/html": [
       "<p>Failed to display Jupyter Widget of type <code>HBox</code>.</p>\n",
       "<p>\n",
       "  If you're reading this message in Jupyter Notebook or JupyterLab, it may mean\n",
       "  that the widgets JavaScript is still loading. If this message persists, it\n",
       "  likely means that the widgets JavaScript library is either not installed or\n",
       "  not enabled. See the <a href=\"https://ipywidgets.readthedocs.io/en/stable/user_install.html\">Jupyter\n",
       "  Widgets Documentation</a> for setup instructions.\n",
       "</p>\n",
       "<p>\n",
       "  If you're reading this message in another notebook frontend (for example, a static\n",
       "  rendering on GitHub or <a href=\"https://nbviewer.jupyter.org/\">NBViewer</a>),\n",
       "  it may mean that your frontend doesn't currently support widgets.\n",
       "</p>\n"
      ],
      "text/plain": [
       "HBox(children=(IntProgress(value=0), HTML(value='')))"
      ]
     },
     "metadata": {},
     "output_type": "display_data"
    },
    {
     "name": "stdout",
     "output_type": "stream",
     "text": [
      "Average reward: -1137\n",
      "17.500171422958374\n",
      "17.500269412994385\n"
     ]
    },
    {
     "data": {
      "image/png": "[encoded data removed]",
      "text/plain": [
       "<matplotlib.figure.Figure at 0x7f6e92529ba8>"
      ]
     },
     "metadata": {},
     "output_type": "display_data"
    }
   ],
   "source": [
    "optimize('Pendulum-v0', num_epochs=100, optimizer=SpiralSearch(), hidden_features=[10])"
   ]
  },
  {
   "cell_type": "code",
   "execution_count": 29,
   "metadata": {},
   "outputs": [],
   "source": [
    "#sample(5, observe=True)"
   ]
  }
 ],
 "metadata": {
  "kernelspec": {
   "display_name": "Python 3",
   "language": "python",
   "name": "python3"
  },
  "language_info": {
   "codemirror_mode": {
    "name": "ipython",
    "version": 3
   },
   "file_extension": ".py",
   "mimetype": "text/x-python",
   "name": "python",
   "nbconvert_exporter": "python",
   "pygments_lexer": "ipython3",
   "version": "3.6.3"
  },
  "varInspector": {
   "cols": {
    "lenName": 16,
    "lenType": 16,
    "lenVar": 40
   },
   "kernels_config": {
    "python": {
     "delete_cmd_postfix": "",
     "delete_cmd_prefix": "del ",
     "library": "var_list.py",
     "varRefreshCmd": "print(var_dic_list())"
    },
    "r": {
     "delete_cmd_postfix": ") ",
     "delete_cmd_prefix": "rm(",
     "library": "var_list.r",
     "varRefreshCmd": "cat(var_dic_list()) "
    }
   },
   "types_to_exclude": [
    "module",
    "function",
    "builtin_function_or_method",
    "instance",
    "_Feature"
   ],
   "window_display": false
  }
 },
 "nbformat": 4,
 "nbformat_minor": 2
}

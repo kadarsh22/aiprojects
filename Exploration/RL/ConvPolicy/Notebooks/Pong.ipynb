{
 "cells": [
  {
   "cell_type": "markdown",
   "metadata": {},
   "source": [
    "# Setup"
   ]
  },
  {
   "cell_type": "markdown",
   "metadata": {},
   "source": [
    "## Imports"
   ]
  },
  {
   "cell_type": "code",
   "execution_count": 1,
   "metadata": {},
   "outputs": [],
   "source": [
    "from tqdm import tqdm_notebook"
   ]
  },
  {
   "cell_type": "code",
   "execution_count": 2,
   "metadata": {},
   "outputs": [],
   "source": [
    "import gym"
   ]
  },
  {
   "cell_type": "markdown",
   "metadata": {},
   "source": [
    "PyTorch modules"
   ]
  },
  {
   "cell_type": "code",
   "execution_count": 3,
   "metadata": {},
   "outputs": [],
   "source": [
    "import torch\n",
    "import torch.nn as nn\n",
    "import torch.nn.functional as F\n",
    "import torch.optim as optim\n",
    "\n",
    "from torch.autograd import Variable\n",
    "from vai.torch.utils import cuda"
   ]
  },
  {
   "cell_type": "markdown",
   "metadata": {},
   "source": [
    "## Define Useful Features"
   ]
  },
  {
   "cell_type": "code",
   "execution_count": 4,
   "metadata": {},
   "outputs": [],
   "source": [
    "env = gym.make('Pong-ram-v0')"
   ]
  },
  {
   "cell_type": "code",
   "execution_count": 5,
   "metadata": {},
   "outputs": [],
   "source": [
    "n = env.observation_space.shape[0]\n",
    "a = 2"
   ]
  },
  {
   "cell_type": "markdown",
   "metadata": {},
   "source": [
    "# Create Model"
   ]
  },
  {
   "cell_type": "code",
   "execution_count": 17,
   "metadata": {},
   "outputs": [],
   "source": [
    "class Policy(nn.Module):\n",
    "    def __init__(self):\n",
    "        super().__init__()\n",
    "        self.fc = nn.Linear(n, 64 * 4)\n",
    "        self.bn1 = nn.BatchNorm1d(64)\n",
    "        self.conv1 = nn.ConvTranspose1d(64, 32, 3, 2, padding=2, output_padding=1)\n",
    "        self.bn2 = nn.BatchNorm1d(32)\n",
    "        self.conv2 = nn.ConvTranspose1d(32, a, 3, 2, padding=2, output_padding=1)\n",
    "        \n",
    "    \n",
    "    def forward(self, x):\n",
    "        x = F.relu(self.bn1(self.fc(x).view(-1, 64, 4)))\n",
    "        x = F.relu(self.bn2(self.conv1(x)))\n",
    "        return self.conv2(x)"
   ]
  },
  {
   "cell_type": "code",
   "execution_count": 41,
   "metadata": {},
   "outputs": [],
   "source": [
    "def get_policy(scores):\n",
    "    return torch.multinomial(F.softmax(torch.transpose(scores, 0, 1)))"
   ]
  },
  {
   "cell_type": "code",
   "execution_count": 8,
   "metadata": {},
   "outputs": [],
   "source": [
    "get_action = lambda x: 2 if x == 1 else 3"
   ]
  },
  {
   "cell_type": "code",
   "execution_count": 49,
   "metadata": {},
   "outputs": [],
   "source": [
    "policy = cuda(Policy())"
   ]
  },
  {
   "cell_type": "code",
   "execution_count": 50,
   "metadata": {},
   "outputs": [],
   "source": [
    "optimizer = optim.Adam(policy.parameters())"
   ]
  },
  {
   "cell_type": "code",
   "execution_count": 44,
   "metadata": {},
   "outputs": [],
   "source": [
    "action_size = 10"
   ]
  },
  {
   "cell_type": "code",
   "execution_count": 53,
   "metadata": {},
   "outputs": [
    {
     "data": {
      "application/vnd.jupyter.widget-view+json": {
       "model_id": "18c175a1ad734d5aa9356dbc63a0934b",
       "version_major": 2,
       "version_minor": 0
      },
      "text/html": [
       "<p>Failed to display Jupyter Widget of type <code>HBox</code>.</p>\n",
       "<p>\n",
       "  If you're reading this message in Jupyter Notebook or JupyterLab, it may mean\n",
       "  that the widgets JavaScript is still loading. If this message persists, it\n",
       "  likely means that the widgets JavaScript library is either not installed or\n",
       "  not enabled. See the <a href=\"https://ipywidgets.readthedocs.io/en/stable/user_install.html\">Jupyter\n",
       "  Widgets Documentation</a> for setup instructions.\n",
       "</p>\n",
       "<p>\n",
       "  If you're reading this message in another notebook frontend (for example, a static\n",
       "  rendering on GitHub or <a href=\"https://nbviewer.jupyter.org/\">NBViewer</a>),\n",
       "  it may mean that your frontend doesn't currently support widgets.\n",
       "</p>\n"
      ],
      "text/plain": [
       "HBox(children=(IntProgress(value=0, max=1000), HTML(value='')))"
      ]
     },
     "metadata": {},
     "output_type": "display_data"
    }
   ],
   "source": [
    "prog_bar = tqdm_notebook(range(1000))\n",
    "for epoch in prog_bar:\n",
    "    env.reset()\n",
    "    done = False\n",
    "\n",
    "    obs = env.observation_space.sample()\n",
    "    last_obs = cuda(torch.from_numpy(obs.astype(np.float32)))\n",
    "    scores = policy(Variable(last_obs).unsqueeze(0)).squeeze(0)\n",
    "    actions = get_policy(scores)\n",
    "    action_roll = actions.data.cpu().numpy()\n",
    "    time_step = 0\n",
    "    total_reward = 0\n",
    "    epoch_reward = 0\n",
    "    while not done:\n",
    "        if time_step == action_size:\n",
    "            grads = np.zeros((a, action_size), np.float32)\n",
    "            grads[action_roll, np.arange(action_size)] = -total_reward\n",
    "            \n",
    "            if total_reward < 0:\n",
    "                new_scores = policy(Variable(last_obs, volatile=True).unsqueeze(0)).squeeze(0)\n",
    "                while (get_policy(new_scores) == actions).data.all():\n",
    "                    optimizer.zero_grad()\n",
    "                    scores.backward(cuda(torch.from_numpy(grads)), retain_graph=True)\n",
    "                    optimizer.step()\n",
    "                    new_scores = policy(Variable(last_obs, volatile=True).unsqueeze(0)).squeeze(0)\n",
    "                grads = np.zeros((a, action_size), np.float32)\n",
    "                optimizer.zero_grad()\n",
    "                scores.backward(cuda(torch.from_numpy(grads)))\n",
    "                optimizer.step()\n",
    "            elif total_reward > 0:\n",
    "                optimizer.zero_grad()\n",
    "                scores.backward(cuda(torch.from_numpy(grads)))\n",
    "                optimizer.step()\n",
    "            \n",
    "            last_obs = cuda(torch.from_numpy(obs.astype(np.float32)))\n",
    "            scores = policy(Variable(last_obs).unsqueeze(0)).squeeze(0)\n",
    "            actions = get_policy(scores)\n",
    "            action_roll = actions.data.cpu().numpy()\n",
    "            time_step = 0\n",
    "            total_reward = 0\n",
    "\n",
    "        #env.render()\n",
    "        obs, r, done, _ = env.step(get_action(action_roll[time_step]))\n",
    "        total_reward += r\n",
    "        epoch_reward += total_reward\n",
    "\n",
    "        time_step += 1\n",
    "        \n",
    "    prog_bar.desc = str(int(epoch_reward))\n",
    "    epoch_reward = 0"
   ]
  },
  {
   "cell_type": "code",
   "execution_count": null,
   "metadata": {},
   "outputs": [],
   "source": [
    "env.reset()\n",
    "done = False\n",
    "\n",
    "obs = env.observation_space.sample()\n",
    "last_obs = cuda(torch.from_numpy(obs.astype(np.float32)))\n",
    "scores = policy(Variable(last_obs, volatile=True).unsqueeze(0)).squeeze(0)\n",
    "actions = get_policy(scores)\n",
    "action_roll = actions.data.cpu().numpy()\n",
    "time_step = 0\n",
    "total_reward = 0\n",
    "epoch_reward = 0\n",
    "while not done:\n",
    "    if time_step == action_size:\n",
    "        last_obs = cuda(torch.from_numpy(obs.astype(np.float32)))\n",
    "        scores = policy(Variable(last_obs, volatile=True).unsqueeze(0)).squeeze(0)\n",
    "        actions = get_policy(scores)\n",
    "        action_roll = actions.data.cpu().numpy()\n",
    "        time_step = 0\n",
    "        total_reward = 0\n",
    "\n",
    "    env.render()\n",
    "    obs, r, done, _ = env.step(get_action(action_roll[time_step]))\n",
    "    total_reward += r\n",
    "    epoch_reward += total_reward\n",
    "\n",
    "    time_step += 1\n",
    "\n",
    "print(epoch_reward)\n",
    "env.render(close=True)"
   ]
  }
 ],
 "metadata": {
  "kernelspec": {
   "display_name": "Python 3",
   "language": "python",
   "name": "python3"
  },
  "language_info": {
   "codemirror_mode": {
    "name": "ipython",
    "version": 3
   },
   "file_extension": ".py",
   "mimetype": "text/x-python",
   "name": "python",
   "nbconvert_exporter": "python",
   "pygments_lexer": "ipython3",
   "version": "3.6.3"
  },
  "varInspector": {
   "cols": {
    "lenName": 16,
    "lenType": 16,
    "lenVar": 40
   },
   "kernels_config": {
    "python": {
     "delete_cmd_postfix": "",
     "delete_cmd_prefix": "del ",
     "library": "var_list.py",
     "varRefreshCmd": "print(var_dic_list())"
    },
    "r": {
     "delete_cmd_postfix": ") ",
     "delete_cmd_prefix": "rm(",
     "library": "var_list.r",
     "varRefreshCmd": "cat(var_dic_list()) "
    }
   },
   "types_to_exclude": [
    "module",
    "function",
    "builtin_function_or_method",
    "instance",
    "_Feature"
   ],
   "window_display": false
  }
 },
 "nbformat": 4,
 "nbformat_minor": 2
}

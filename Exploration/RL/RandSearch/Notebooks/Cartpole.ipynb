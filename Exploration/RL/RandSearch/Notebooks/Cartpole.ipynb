{
 "cells": [
  {
   "cell_type": "markdown",
   "metadata": {},
   "source": [
    "# Setup"
   ]
  },
  {
   "cell_type": "markdown",
   "metadata": {},
   "source": [
    "## Imports"
   ]
  },
  {
   "cell_type": "code",
   "execution_count": 1,
   "metadata": {},
   "outputs": [],
   "source": [
    "from tqdm import tqdm_notebook"
   ]
  },
  {
   "cell_type": "code",
   "execution_count": 2,
   "metadata": {},
   "outputs": [],
   "source": [
    "import gym"
   ]
  },
  {
   "cell_type": "markdown",
   "metadata": {},
   "source": [
    "## Define Useful Features"
   ]
  },
  {
   "cell_type": "code",
   "execution_count": 3,
   "metadata": {},
   "outputs": [],
   "source": [
    "env = gym.make('MountainCar-v0')"
   ]
  },
  {
   "cell_type": "code",
   "execution_count": 4,
   "metadata": {},
   "outputs": [],
   "source": [
    "n = env.observation_space.shape[0] + 1\n",
    "max_reward = -110"
   ]
  },
  {
   "cell_type": "code",
   "execution_count": 5,
   "metadata": {},
   "outputs": [],
   "source": [
    "params = np.random.randn(n) * 100"
   ]
  },
  {
   "cell_type": "code",
   "execution_count": 6,
   "metadata": {},
   "outputs": [],
   "source": [
    "best_params = params\n",
    "best_reward = -np.inf"
   ]
  },
  {
   "cell_type": "code",
   "execution_count": 7,
   "metadata": {},
   "outputs": [],
   "source": [
    "def get_action(obs):\n",
    "    return 0 if obs.dot(params[1:].T) < params[0] else 1"
   ]
  },
  {
   "cell_type": "code",
   "execution_count": 8,
   "metadata": {},
   "outputs": [],
   "source": [
    "def custom_done(obs, r, max_reward=10000):\n",
    "    return np.any(obs > env.observation_space.high) or np.any(obs < env.observation_space.low) or r >= max_reward"
   ]
  },
  {
   "cell_type": "code",
   "execution_count": 9,
   "metadata": {},
   "outputs": [],
   "source": [
    "def sample(episodes=1, observe=True, max_reward=10000):\n",
    "    epoch_reward = 0\n",
    "    for episode in range(episodes):\n",
    "        env.reset()\n",
    "        done = False\n",
    "        obs = env.observation_space.sample()\n",
    "        episode_reward = 0\n",
    "        while not done:\n",
    "            if observe: \n",
    "                env.render()\n",
    "            obs, r, done, _ = env.step(get_action(obs)) # take a random action\n",
    "            episode_reward += r\n",
    "            if observe and max_reward > 0:\n",
    "                done = custom_done(obs, episode_reward, max_reward)\n",
    "                \n",
    "        epoch_reward += episode_reward\n",
    "        if observe and max_reward > 0:\n",
    "            print('Epsiode', episode + 1, '\\tReward: ', int(episode_reward), end='\\r', flush=True)\n",
    "    if observe:\n",
    "        env.render(close=True)\n",
    "        return\n",
    "    return epoch_reward"
   ]
  },
  {
   "cell_type": "code",
   "execution_count": 10,
   "metadata": {},
   "outputs": [],
   "source": [
    "def train(epochs=0, episodes=100, show_improvements=True):\n",
    "    global params, best_params, best_reward\n",
    "    \n",
    "    def train_epoch():\n",
    "        global params, best_params, best_reward\n",
    "        params = np.random.randn(n) * 100\n",
    "        epoch_reward = sample(episodes, False)\n",
    "\n",
    "        if epoch_reward > best_reward:\n",
    "            best_reward = epoch_reward\n",
    "            best_params = params\n",
    "            sample(max_reward=-1)\n",
    "            return True\n",
    "        return False\n",
    "            \n",
    "    if epochs <= 0:\n",
    "        while best_reward / episodes < max_reward:\n",
    "            if train_epoch():\n",
    "                print('Average reward:', int(best_reward / episodes), end='\\r', flush=True)\n",
    "    else:\n",
    "        for _ in tqdm_notebook(range(epochs)):\n",
    "            train_epoch()\n",
    "\n",
    "    params = best_params\n",
    "    print('Average reward:', int(best_reward / episodes), end='\\r', flush=True)"
   ]
  },
  {
   "cell_type": "markdown",
   "metadata": {},
   "source": [
    "# Train"
   ]
  },
  {
   "cell_type": "code",
   "execution_count": 11,
   "metadata": {},
   "outputs": [
    {
     "data": {
      "application/vnd.jupyter.widget-view+json": {
       "model_id": "739df74c4b5544d696f5187171ee3470",
       "version_major": 2,
       "version_minor": 0
      },
      "text/html": [
       "<p>Failed to display Jupyter Widget of type <code>HBox</code>.</p>\n",
       "<p>\n",
       "  If you're reading this message in Jupyter Notebook or JupyterLab, it may mean\n",
       "  that the widgets JavaScript is still loading. If this message persists, it\n",
       "  likely means that the widgets JavaScript library is either not installed or\n",
       "  not enabled. See the <a href=\"https://ipywidgets.readthedocs.io/en/stable/user_install.html\">Jupyter\n",
       "  Widgets Documentation</a> for setup instructions.\n",
       "</p>\n",
       "<p>\n",
       "  If you're reading this message in another notebook frontend (for example, a static\n",
       "  rendering on GitHub or <a href=\"https://nbviewer.jupyter.org/\">NBViewer</a>),\n",
       "  it may mean that your frontend doesn't currently support widgets.\n",
       "</p>\n"
      ],
      "text/plain": [
       "HBox(children=(IntProgress(value=0), HTML(value='')))"
      ]
     },
     "metadata": {},
     "output_type": "display_data"
    },
    {
     "name": "stdout",
     "output_type": "stream",
     "text": [
      "\n",
      "Average reward: -200\r"
     ]
    }
   ],
   "source": [
    "train(100)"
   ]
  },
  {
   "cell_type": "markdown",
   "metadata": {},
   "source": [
    "# Sample"
   ]
  },
  {
   "cell_type": "code",
   "execution_count": 12,
   "metadata": {},
   "outputs": [],
   "source": [
    "sample(max_reward=-1)"
   ]
  }
 ],
 "metadata": {
  "kernelspec": {
   "display_name": "Python 3",
   "language": "python",
   "name": "python3"
  },
  "language_info": {
   "codemirror_mode": {
    "name": "ipython",
    "version": 3
   },
   "file_extension": ".py",
   "mimetype": "text/x-python",
   "name": "python",
   "nbconvert_exporter": "python",
   "pygments_lexer": "ipython3",
   "version": "3.6.3"
  },
  "varInspector": {
   "cols": {
    "lenName": 16,
    "lenType": 16,
    "lenVar": 40
   },
   "kernels_config": {
    "python": {
     "delete_cmd_postfix": "",
     "delete_cmd_prefix": "del ",
     "library": "var_list.py",
     "varRefreshCmd": "print(var_dic_list())"
    },
    "r": {
     "delete_cmd_postfix": ") ",
     "delete_cmd_prefix": "rm(",
     "library": "var_list.r",
     "varRefreshCmd": "cat(var_dic_list()) "
    }
   },
   "types_to_exclude": [
    "module",
    "function",
    "builtin_function_or_method",
    "instance",
    "_Feature"
   ],
   "window_display": false
  }
 },
 "nbformat": 4,
 "nbformat_minor": 2
}

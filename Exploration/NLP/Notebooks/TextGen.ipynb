{
 "cells": [
  {
   "cell_type": "markdown",
   "metadata": {
    "heading_collapsed": true
   },
   "source": [
    "# Setup"
   ]
  },
  {
   "cell_type": "markdown",
   "metadata": {
    "heading_collapsed": true,
    "hidden": true
   },
   "source": [
    "## Imports"
   ]
  },
  {
   "cell_type": "code",
   "execution_count": 1,
   "metadata": {
    "collapsed": true,
    "hidden": true
   },
   "outputs": [],
   "source": [
    "from vaiutils import path_consts"
   ]
  },
  {
   "cell_type": "markdown",
   "metadata": {
    "hidden": true
   },
   "source": [
    "All the Keras functionality"
   ]
  },
  {
   "cell_type": "code",
   "execution_count": 2,
   "metadata": {
    "hidden": true
   },
   "outputs": [
    {
     "name": "stderr",
     "output_type": "stream",
     "text": [
      "Using TensorFlow backend.\n"
     ]
    }
   ],
   "source": [
    "from keras.layers import Input, Embedding, Dense, Flatten, SimpleRNN, TimeDistributed\n",
    "from keras.layers.merge import add\n",
    "from keras.initializers import identity\n",
    "from keras.models import Model, Sequential\n",
    "from keras.backend import clear_session\n",
    "from keras_tqdm import TQDMNotebookCallback"
   ]
  },
  {
   "cell_type": "markdown",
   "metadata": {
    "heading_collapsed": true,
    "hidden": true
   },
   "source": [
    "## Load data and useful variables"
   ]
  },
  {
   "cell_type": "code",
   "execution_count": 3,
   "metadata": {
    "code_folding": [
     0
    ],
    "collapsed": true,
    "hidden": true
   },
   "outputs": [],
   "source": [
    "for k, v in path_consts('TextGen', 'TextGen'):\n",
    "    exec(k + '=v')"
   ]
  },
  {
   "cell_type": "code",
   "execution_count": 134,
   "metadata": {
    "hidden": true,
    "scrolled": true
   },
   "outputs": [
    {
     "name": "stdout",
     "output_type": "stream",
     "text": [
      "Vocabulary size: 63 \n",
      "Characters: \u0000\n",
      " '-.2:ABCDEFGHIJKLMNOPQRSTUVWXYZabcdefghijklmnopqrstuvwxyzé♀♂\n",
      "\n",
      "Corpus length: 6791 \n",
      "Sample:\n",
      " Bulbasaur\n",
      "Ivysaur\n",
      "Venusaur\n",
      "Charmander\n",
      "Charmeleon\n",
      "Charizard\n",
      "Squirtle\n",
      "Wartortle\n",
      "Blastoise\n",
      "Caterpie\n",
      "Metapod\n",
      "Butterfree\n",
      "Weedle\n",
      "Kakuna\n",
      "Beedrill\n",
      "Pidgey\n",
      "Pidgeotto\n",
      "Pidgeot\n",
      "Rattata\n",
      "Raticate\n",
      "Spearow\n",
      "Fearow\n",
      "Ekans\n",
      "Arbok\n",
      "Pikachu\n",
      "Raichu\n",
      "Sandshrew\n",
      "Sandslash\n",
      "Nidoran♀\n",
      "Nidorina\n",
      "Nidoqueen\n",
      "Nidoran♂\n",
      "Nidorino\n",
      "Nidoking\n",
      "Clefairy\n",
      "Clefable\n",
      "Vulpix\n",
      "Ninetales\n",
      "Jigglypuff\n",
      "Wigglytuff\n",
      "Zubat\n",
      "Golbat\n",
      "Oddish\n",
      "Gloom\n",
      "Vileplume\n",
      "Paras\n",
      "Parasect\n",
      "Venonat\n",
      "Venomoth\n",
      "Diglett\n",
      "Dugtrio\n",
      "Meowth\n",
      "Persian\n",
      "Psyduck\n",
      "Golduck\n",
      "Mankey\n",
      "Primeape\n",
      "Growlithe\n",
      "Arcanine\n",
      "Poliwag\n",
      "Poliwhirl\n",
      "Poliwrath\n",
      "Abra\n",
      "Kadabra\n",
      "Alakazam\n",
      "Machop\n",
      "Machoke\n",
      "Machamp\n",
      "Bellsprout\n",
      "Weepinbell\n",
      "Victreebel\n",
      "Tentacool\n",
      "Tentacruel\n",
      "Geodude\n",
      "Graveler\n",
      "Golem\n",
      "Ponyta\n",
      "Rapidash\n",
      "Slowpoke\n",
      "Slowbro\n",
      "Magnemite\n",
      "Magneton\n",
      "Farfetch'd\n",
      "Doduo\n",
      "Dodrio\n",
      "Seel\n",
      "Dewgong\n",
      "Grimer\n",
      "Muk\n",
      "Shellder\n",
      "Cloyster\n",
      "Gastly\n",
      "Haunter\n",
      "Gengar\n",
      "Onix\n",
      "Drowzee\n",
      "Hypno\n",
      "Krabby\n",
      "Kingler\n",
      "Voltorb\n",
      "Electrode\n",
      "Exeggcute\n",
      "Exeggutor\n",
      "Cubone\n",
      "Marowak\n",
      "Hitmonlee\n",
      "Hitmonchan\n",
      "Lickitung\n",
      "Koffing\n",
      "Weezing\n",
      "Rhyhorn\n",
      "Rhydon\n",
      "Chansey\n",
      "Tangela\n",
      "Kangaskhan\n",
      "Horsea\n",
      "Seadra\n",
      "Goldeen\n",
      "Seaking\n"
     ]
    }
   ],
   "source": [
    "data = open(DIR_DATA + '/pokemon.txt').read()\n",
    "\n",
    "chars = sorted(list(set(data)))\n",
    "chars.insert(0, '\\0')\n",
    "\n",
    "vocab_size = len(chars)\n",
    "\n",
    "print(\"Vocabulary size:\", vocab_size, \"\\nCharacters:\", ''.join(chars))\n",
    "print(\"\\nCorpus length:\", len(data), \"\\nSample:\\n\", data[:1000])"
   ]
  },
  {
   "cell_type": "code",
   "execution_count": 135,
   "metadata": {
    "collapsed": true,
    "hidden": true
   },
   "outputs": [],
   "source": [
    "char_idx = {c: i for i, c in enumerate(chars)}"
   ]
  },
  {
   "cell_type": "code",
   "execution_count": 136,
   "metadata": {
    "collapsed": true,
    "hidden": true
   },
   "outputs": [],
   "source": [
    "data = [char_idx[c] for c in data]"
   ]
  },
  {
   "cell_type": "markdown",
   "metadata": {
    "heading_collapsed": true
   },
   "source": [
    "# 3 Character Model"
   ]
  },
  {
   "cell_type": "markdown",
   "metadata": {
    "heading_collapsed": true,
    "hidden": true
   },
   "source": [
    "## Create inputs"
   ]
  },
  {
   "cell_type": "markdown",
   "metadata": {
    "hidden": true
   },
   "source": [
    "Create a list of every fourth character"
   ]
  },
  {
   "cell_type": "code",
   "execution_count": 137,
   "metadata": {
    "collapsed": true,
    "hidden": true
   },
   "outputs": [],
   "source": [
    "cs = 3\n",
    "x1 = np.stack([data[i] for i in range(0, len(data) - cs - 1, cs)])\n",
    "x2 = np.stack([data[i + 1] for i in range(0, len(data) - cs - 1, cs)])\n",
    "x3 = np.stack([data[i + 2] for i in range(0, len(data) - cs - 1, cs)])\n",
    "y = np.stack([data[i + 3] for i in range(0, len(data) - cs - 1, cs)])"
   ]
  },
  {
   "cell_type": "markdown",
   "metadata": {
    "heading_collapsed": true,
    "hidden": true
   },
   "source": [
    "## Create Model"
   ]
  },
  {
   "cell_type": "markdown",
   "metadata": {
    "hidden": true
   },
   "source": [
    "Embedding function that creates inputs and embeddings"
   ]
  },
  {
   "cell_type": "code",
   "execution_count": 138,
   "metadata": {
    "code_folding": [],
    "collapsed": true,
    "hidden": true
   },
   "outputs": [],
   "source": [
    "def create_embedding(name, n_in, n_out):\n",
    "    inp = Input(name=name + '_in', dtype='int64', shape=[1])\n",
    "    return inp, Flatten()(Embedding(n_in, n_out, input_length=1, name=name)(inp))"
   ]
  },
  {
   "cell_type": "code",
   "execution_count": 139,
   "metadata": {
    "hidden": true
   },
   "outputs": [],
   "source": [
    "clear_session()\n",
    "\n",
    "n_factors = 32\n",
    "c1_in, c1 = create_embedding('c1', vocab_size, n_factors)\n",
    "c2_in, c2 = create_embedding('c2', vocab_size, n_factors)\n",
    "c3_in, c3 = create_embedding('c3', vocab_size, n_factors)\n",
    "\n",
    "n_hidden = 256\n",
    "\n",
    "dense_in = Dense(n_hidden, activation='relu')\n",
    "c1_hidden = dense_in(c1)\n",
    "\n",
    "dense_hidden = Dense(n_hidden, activation='tanh')\n",
    "\n",
    "c2_dense = dense_in(c2)\n",
    "hidden_2 = dense_hidden(c1_hidden)\n",
    "c2_hidden = add([c2_dense, hidden_2])\n",
    "\n",
    "c3_dense = dense_in(c3)\n",
    "hidden_3 = dense_hidden(c2_hidden)\n",
    "c3_hidden = add([c3_dense, hidden_3])\n",
    "\n",
    "dense_out = Dense(vocab_size, activation='softmax')\n",
    "c4_out = dense_out(c3_hidden)"
   ]
  },
  {
   "cell_type": "code",
   "execution_count": 140,
   "metadata": {
    "collapsed": true,
    "hidden": true
   },
   "outputs": [
    {
     "name": "stdout",
     "output_type": "stream",
     "text": [
      "____________________________________________________________________________________________________\n",
      "Layer (type)                     Output Shape          Param #     Connected to                     \n",
      "====================================================================================================\n",
      "c3_in (InputLayer)               (None, 1)             0                                            \n",
      "____________________________________________________________________________________________________\n",
      "c2_in (InputLayer)               (None, 1)             0                                            \n",
      "____________________________________________________________________________________________________\n",
      "c1_in (InputLayer)               (None, 1)             0                                            \n",
      "____________________________________________________________________________________________________\n",
      "c3 (Embedding)                   (None, 1, 32)         2016        c3_in[0][0]                      \n",
      "____________________________________________________________________________________________________\n",
      "c2 (Embedding)                   (None, 1, 32)         2016        c2_in[0][0]                      \n",
      "____________________________________________________________________________________________________\n",
      "c1 (Embedding)                   (None, 1, 32)         2016        c1_in[0][0]                      \n",
      "____________________________________________________________________________________________________\n",
      "flatten_3 (Flatten)              (None, 32)            0           c3[0][0]                         \n",
      "____________________________________________________________________________________________________\n",
      "flatten_2 (Flatten)              (None, 32)            0           c2[0][0]                         \n",
      "____________________________________________________________________________________________________\n",
      "flatten_1 (Flatten)              (None, 32)            0           c1[0][0]                         \n",
      "____________________________________________________________________________________________________\n",
      "dense_1 (Dense)                  (None, 256)           8448        flatten_1[0][0]                  \n",
      "                                                                   flatten_2[0][0]                  \n",
      "                                                                   flatten_3[0][0]                  \n",
      "____________________________________________________________________________________________________\n",
      "dense_2 (Dense)                  (None, 256)           65792       dense_1[0][0]                    \n",
      "                                                                   add_1[0][0]                      \n",
      "____________________________________________________________________________________________________\n",
      "add_1 (Add)                      (None, 256)           0           dense_1[1][0]                    \n",
      "                                                                   dense_2[0][0]                    \n",
      "____________________________________________________________________________________________________\n",
      "add_2 (Add)                      (None, 256)           0           dense_1[2][0]                    \n",
      "                                                                   dense_2[1][0]                    \n",
      "____________________________________________________________________________________________________\n",
      "dense_3 (Dense)                  (None, 63)            16191       add_2[0][0]                      \n",
      "====================================================================================================\n",
      "Total params: 96,479\n",
      "Trainable params: 96,479\n",
      "Non-trainable params: 0\n",
      "____________________________________________________________________________________________________\n"
     ]
    }
   ],
   "source": [
    "model = Model([c1_in, c2_in, c3_in], c4_out)\n",
    "model.compile('adam', loss='sparse_categorical_crossentropy')\n",
    "model.summary()"
   ]
  },
  {
   "cell_type": "markdown",
   "metadata": {
    "heading_collapsed": true,
    "hidden": true
   },
   "source": [
    "## Train Model"
   ]
  },
  {
   "cell_type": "markdown",
   "metadata": {
    "hidden": true
   },
   "source": [
    "Helper function to fit the model"
   ]
  },
  {
   "cell_type": "code",
   "execution_count": 141,
   "metadata": {
    "code_folding": [
     0
    ],
    "collapsed": true,
    "hidden": true
   },
   "outputs": [],
   "source": [
    "def fit_model(epochs=1, lr=1e-3):\n",
    "    model.optimizer.lr = lr\n",
    "    model.fit([x1, x2, x3], y, batch_size=64, epochs=epochs,\n",
    "              verbose=0, callbacks=[TQDMNotebookCallback()], shuffle=False)"
   ]
  },
  {
   "cell_type": "code",
   "execution_count": 142,
   "metadata": {
    "hidden": true
   },
   "outputs": [
    {
     "data": {
      "application/vnd.jupyter.widget-view+json": {
       "model_id": "3f4c62c3b5f94eaca22b0cab6b7468f3"
      }
     },
     "metadata": {},
     "output_type": "display_data"
    },
    {
     "data": {
      "application/vnd.jupyter.widget-view+json": {
       "model_id": "07359e83862e496ea9ed34b1c5639ac8"
      }
     },
     "metadata": {},
     "output_type": "display_data"
    },
    {
     "data": {
      "application/vnd.jupyter.widget-view+json": {
       "model_id": "616ddc1c86b84d058e4d6383c90d5092"
      }
     },
     "metadata": {},
     "output_type": "display_data"
    },
    {
     "data": {
      "application/vnd.jupyter.widget-view+json": {
       "model_id": "47453f3267e0411aa2eddff9801c0057"
      }
     },
     "metadata": {},
     "output_type": "display_data"
    },
    {
     "data": {
      "application/vnd.jupyter.widget-view+json": {
       "model_id": "9d4ff7f1459c4282b0de53e4fe63000e"
      }
     },
     "metadata": {},
     "output_type": "display_data"
    },
    {
     "data": {
      "application/vnd.jupyter.widget-view+json": {
       "model_id": "9034a174b7b744ea8a91d6f1a5113fdc"
      }
     },
     "metadata": {},
     "output_type": "display_data"
    },
    {
     "data": {
      "application/vnd.jupyter.widget-view+json": {
       "model_id": "d843d5913e62400fb2e8f899ea914071"
      }
     },
     "metadata": {},
     "output_type": "display_data"
    },
    {
     "data": {
      "application/vnd.jupyter.widget-view+json": {
       "model_id": "07e517581cc6452ba0963c94ea7d48f5"
      }
     },
     "metadata": {},
     "output_type": "display_data"
    },
    {
     "data": {
      "application/vnd.jupyter.widget-view+json": {
       "model_id": "22d3f50a00d94134ae75670712a34472"
      }
     },
     "metadata": {},
     "output_type": "display_data"
    },
    {
     "name": "stdout",
     "output_type": "stream",
     "text": [
      "\n"
     ]
    }
   ],
   "source": [
    "fit_model(8)"
   ]
  },
  {
   "cell_type": "markdown",
   "metadata": {
    "heading_collapsed": true,
    "hidden": true
   },
   "source": [
    "## Test Model"
   ]
  },
  {
   "cell_type": "markdown",
   "metadata": {
    "hidden": true
   },
   "source": [
    "Helper function to get fourth predicted character given three"
   ]
  },
  {
   "cell_type": "code",
   "execution_count": 143,
   "metadata": {
    "code_folding": [
     0
    ],
    "collapsed": true,
    "hidden": true
   },
   "outputs": [],
   "source": [
    "def get_next_char(inp):\n",
    "    idxs = [char_idx[c] for c in inp]\n",
    "    arrs = [np.array(i)[np.newaxis] for i in idxs]\n",
    "    p = model.predict(arrs)\n",
    "    i = np.random.choice(range(vocab_size), p=p.ravel())\n",
    "    return chars[i]"
   ]
  },
  {
   "cell_type": "code",
   "execution_count": 181,
   "metadata": {
    "code_folding": [],
    "hidden": true
   },
   "outputs": [
    {
     "name": "stdout",
     "output_type": "stream",
     "text": [
      "ivynf\n",
      "Aante\n",
      "B\n"
     ]
    }
   ],
   "source": [
    "sample_string = 'ivy'\n",
    "for _ in range(10):\n",
    "    sample_string = sample_string + get_next_char(sample_string[-3:])\n",
    "print(sample_string)"
   ]
  },
  {
   "cell_type": "markdown",
   "metadata": {
    "heading_collapsed": true
   },
   "source": [
    "# Simple Character Model"
   ]
  },
  {
   "cell_type": "markdown",
   "metadata": {
    "heading_collapsed": true,
    "hidden": true
   },
   "source": [
    "## Create Inputs"
   ]
  },
  {
   "cell_type": "code",
   "execution_count": 89,
   "metadata": {
    "code_folding": [],
    "collapsed": true,
    "hidden": true
   },
   "outputs": [],
   "source": [
    "cs = 8\n",
    "x = [np.stack([data[i + n] for i in range(0, len(data) - cs - 1, cs)])\n",
    "     for n in range(cs)]\n",
    "y = np.stack([data[i + cs] for i in range(0, len(data) - cs - 1, cs)])"
   ]
  },
  {
   "cell_type": "markdown",
   "metadata": {
    "heading_collapsed": true,
    "hidden": true
   },
   "source": [
    "## Create Model"
   ]
  },
  {
   "cell_type": "code",
   "execution_count": 90,
   "metadata": {
    "collapsed": true,
    "hidden": true
   },
   "outputs": [],
   "source": [
    "clear_session()\n",
    "c_ins = [create_embedding('c' + str(n), vocab_size, n_factors)\n",
    "         for n in range(cs)]\n",
    "\n",
    "dense_in = Dense(n_hidden, activation='relu')\n",
    "dense_hidden = Dense(n_hidden, activation='relu',\n",
    "                     kernel_initializer=identity())\n",
    "dense_out = Dense(vocab_size, activation='softmax')\n",
    "\n",
    "hidden = dense_in(c_ins[0][1])\n",
    "\n",
    "for i in range(1, cs):\n",
    "    c_dense = dense_in(c_ins[i][1])\n",
    "    hidden = dense_hidden(hidden)\n",
    "    hidden = add([c_dense, hidden])\n",
    "\n",
    "c_out = dense_out(hidden)"
   ]
  },
  {
   "cell_type": "code",
   "execution_count": 91,
   "metadata": {
    "collapsed": true,
    "hidden": true
   },
   "outputs": [
    {
     "name": "stdout",
     "output_type": "stream",
     "text": [
      "____________________________________________________________________________________________________\n",
      "Layer (type)                     Output Shape          Param #     Connected to                     \n",
      "====================================================================================================\n",
      "c7_in (InputLayer)               (None, 1)             0                                            \n",
      "____________________________________________________________________________________________________\n",
      "c6_in (InputLayer)               (None, 1)             0                                            \n",
      "____________________________________________________________________________________________________\n",
      "c5_in (InputLayer)               (None, 1)             0                                            \n",
      "____________________________________________________________________________________________________\n",
      "c4_in (InputLayer)               (None, 1)             0                                            \n",
      "____________________________________________________________________________________________________\n",
      "c3_in (InputLayer)               (None, 1)             0                                            \n",
      "____________________________________________________________________________________________________\n",
      "c2_in (InputLayer)               (None, 1)             0                                            \n",
      "____________________________________________________________________________________________________\n",
      "c1_in (InputLayer)               (None, 1)             0                                            \n",
      "____________________________________________________________________________________________________\n",
      "c0_in (InputLayer)               (None, 1)             0                                            \n",
      "____________________________________________________________________________________________________\n",
      "c7 (Embedding)                   (None, 1, 32)         3136        c7_in[0][0]                      \n",
      "____________________________________________________________________________________________________\n",
      "c6 (Embedding)                   (None, 1, 32)         3136        c6_in[0][0]                      \n",
      "____________________________________________________________________________________________________\n",
      "c5 (Embedding)                   (None, 1, 32)         3136        c5_in[0][0]                      \n",
      "____________________________________________________________________________________________________\n",
      "c4 (Embedding)                   (None, 1, 32)         3136        c4_in[0][0]                      \n",
      "____________________________________________________________________________________________________\n",
      "c3 (Embedding)                   (None, 1, 32)         3136        c3_in[0][0]                      \n",
      "____________________________________________________________________________________________________\n",
      "c2 (Embedding)                   (None, 1, 32)         3136        c2_in[0][0]                      \n",
      "____________________________________________________________________________________________________\n",
      "c1 (Embedding)                   (None, 1, 32)         3136        c1_in[0][0]                      \n",
      "____________________________________________________________________________________________________\n",
      "c0 (Embedding)                   (None, 1, 32)         3136        c0_in[0][0]                      \n",
      "____________________________________________________________________________________________________\n",
      "flatten_8 (Flatten)              (None, 32)            0           c7[0][0]                         \n",
      "____________________________________________________________________________________________________\n",
      "flatten_7 (Flatten)              (None, 32)            0           c6[0][0]                         \n",
      "____________________________________________________________________________________________________\n",
      "flatten_6 (Flatten)              (None, 32)            0           c5[0][0]                         \n",
      "____________________________________________________________________________________________________\n",
      "flatten_5 (Flatten)              (None, 32)            0           c4[0][0]                         \n",
      "____________________________________________________________________________________________________\n",
      "flatten_4 (Flatten)              (None, 32)            0           c3[0][0]                         \n",
      "____________________________________________________________________________________________________\n",
      "flatten_3 (Flatten)              (None, 32)            0           c2[0][0]                         \n",
      "____________________________________________________________________________________________________\n",
      "flatten_2 (Flatten)              (None, 32)            0           c1[0][0]                         \n",
      "____________________________________________________________________________________________________\n",
      "flatten_1 (Flatten)              (None, 32)            0           c0[0][0]                         \n",
      "____________________________________________________________________________________________________\n",
      "dense_1 (Dense)                  (None, 256)           8448        flatten_1[0][0]                  \n",
      "                                                                   flatten_2[0][0]                  \n",
      "                                                                   flatten_3[0][0]                  \n",
      "                                                                   flatten_4[0][0]                  \n",
      "                                                                   flatten_5[0][0]                  \n",
      "                                                                   flatten_6[0][0]                  \n",
      "                                                                   flatten_7[0][0]                  \n",
      "                                                                   flatten_8[0][0]                  \n",
      "____________________________________________________________________________________________________\n",
      "dense_2 (Dense)                  (None, 256)           65792       dense_1[0][0]                    \n",
      "                                                                   add_1[0][0]                      \n",
      "                                                                   add_2[0][0]                      \n",
      "                                                                   add_3[0][0]                      \n",
      "                                                                   add_4[0][0]                      \n",
      "                                                                   add_5[0][0]                      \n",
      "                                                                   add_6[0][0]                      \n",
      "____________________________________________________________________________________________________\n",
      "add_1 (Add)                      (None, 256)           0           dense_1[1][0]                    \n",
      "                                                                   dense_2[0][0]                    \n",
      "____________________________________________________________________________________________________\n",
      "add_2 (Add)                      (None, 256)           0           dense_1[2][0]                    \n",
      "                                                                   dense_2[1][0]                    \n",
      "____________________________________________________________________________________________________\n",
      "add_3 (Add)                      (None, 256)           0           dense_1[3][0]                    \n",
      "                                                                   dense_2[2][0]                    \n",
      "____________________________________________________________________________________________________\n",
      "add_4 (Add)                      (None, 256)           0           dense_1[4][0]                    \n",
      "                                                                   dense_2[3][0]                    \n",
      "____________________________________________________________________________________________________\n",
      "add_5 (Add)                      (None, 256)           0           dense_1[5][0]                    \n",
      "                                                                   dense_2[4][0]                    \n",
      "____________________________________________________________________________________________________\n",
      "add_6 (Add)                      (None, 256)           0           dense_1[6][0]                    \n",
      "                                                                   dense_2[5][0]                    \n",
      "____________________________________________________________________________________________________\n",
      "add_7 (Add)                      (None, 256)           0           dense_1[7][0]                    \n",
      "                                                                   dense_2[6][0]                    \n",
      "____________________________________________________________________________________________________\n",
      "dense_3 (Dense)                  (None, 98)            25186       add_7[0][0]                      \n",
      "====================================================================================================\n",
      "Total params: 124,514\n",
      "Trainable params: 124,514\n",
      "Non-trainable params: 0\n",
      "____________________________________________________________________________________________________\n"
     ]
    }
   ],
   "source": [
    "model = Model([c[0] for c in c_ins], c_out)\n",
    "model.compile('adam', loss='sparse_categorical_crossentropy')\n",
    "model.summary()"
   ]
  },
  {
   "cell_type": "markdown",
   "metadata": {
    "heading_collapsed": true,
    "hidden": true
   },
   "source": [
    "## Train Model"
   ]
  },
  {
   "cell_type": "markdown",
   "metadata": {
    "hidden": true
   },
   "source": [
    "Model fitting utility function"
   ]
  },
  {
   "cell_type": "code",
   "execution_count": 92,
   "metadata": {
    "code_folding": [
     0
    ],
    "collapsed": true,
    "hidden": true
   },
   "outputs": [],
   "source": [
    "def fit_model(epochs=1, lr=1e-3):\n",
    "    model.optimizer.lr = lr\n",
    "    model.fit(x, y, batch_size=64, epochs=epochs,\n",
    "              verbose=0, callbacks=[TQDMNotebookCallback()])"
   ]
  },
  {
   "cell_type": "code",
   "execution_count": 93,
   "metadata": {
    "hidden": true
   },
   "outputs": [
    {
     "data": {
      "application/vnd.jupyter.widget-view+json": {
       "model_id": "29aeb91f7d25409c967043ca0eef70f8"
      }
     },
     "metadata": {},
     "output_type": "display_data"
    },
    {
     "data": {
      "application/vnd.jupyter.widget-view+json": {
       "model_id": "bafd8816b1f84952b07262ff25f0388b"
      }
     },
     "metadata": {},
     "output_type": "display_data"
    },
    {
     "data": {
      "application/vnd.jupyter.widget-view+json": {
       "model_id": "6e036c19da114d728f8d5c6dcd26fe70"
      }
     },
     "metadata": {},
     "output_type": "display_data"
    },
    {
     "data": {
      "application/vnd.jupyter.widget-view+json": {
       "model_id": "a3bdd9ef76304cab933cb91fddb9ee7b"
      }
     },
     "metadata": {},
     "output_type": "display_data"
    },
    {
     "data": {
      "application/vnd.jupyter.widget-view+json": {
       "model_id": "e497d53f77164bd99985df850b54d161"
      }
     },
     "metadata": {},
     "output_type": "display_data"
    },
    {
     "data": {
      "application/vnd.jupyter.widget-view+json": {
       "model_id": "a61dd745c04f487aa165164c9e5f6354"
      }
     },
     "metadata": {},
     "output_type": "display_data"
    },
    {
     "data": {
      "application/vnd.jupyter.widget-view+json": {
       "model_id": "f239f516da4a46718f4a7d148884a3c2"
      }
     },
     "metadata": {},
     "output_type": "display_data"
    },
    {
     "data": {
      "application/vnd.jupyter.widget-view+json": {
       "model_id": "a2ea0df8f7e744e8873b6dd82e70ab31"
      }
     },
     "metadata": {},
     "output_type": "display_data"
    },
    {
     "data": {
      "application/vnd.jupyter.widget-view+json": {
       "model_id": "e6461105df72479d99456cb4a6682158"
      }
     },
     "metadata": {},
     "output_type": "display_data"
    },
    {
     "name": "stdout",
     "output_type": "stream",
     "text": [
      "\n"
     ]
    }
   ],
   "source": [
    "fit_model(8)"
   ]
  },
  {
   "cell_type": "markdown",
   "metadata": {
    "heading_collapsed": true,
    "hidden": true
   },
   "source": [
    "## Test Model"
   ]
  },
  {
   "cell_type": "code",
   "execution_count": 112,
   "metadata": {
    "hidden": true
   },
   "outputs": [
    {
     "name": "stdout",
     "output_type": "stream",
     "text": [
      "u\n",
      "abhinani\n",
      "rakha\n",
      "vineer\n",
      "gani\n"
     ]
    }
   ],
   "source": [
    "sample_start_idx = randint(0, len(data) - cs)\n",
    "sample_string = ''.join([chars[i]\n",
    "                         for i in data[sample_start_idx:sample_start_idx + cs]])\n",
    "for _ in range(20):\n",
    "    sample_string = sample_string + get_next_char(sample_string[-cs:])\n",
    "print(sample_string)"
   ]
  },
  {
   "cell_type": "markdown",
   "metadata": {
    "heading_collapsed": true
   },
   "source": [
    "# Keras RNN"
   ]
  },
  {
   "cell_type": "markdown",
   "metadata": {
    "hidden": true
   },
   "source": [
    "Create Sequential Model"
   ]
  },
  {
   "cell_type": "code",
   "execution_count": 113,
   "metadata": {
    "collapsed": true,
    "hidden": true
   },
   "outputs": [
    {
     "name": "stdout",
     "output_type": "stream",
     "text": [
      "_________________________________________________________________\n",
      "Layer (type)                 Output Shape              Param #   \n",
      "=================================================================\n",
      "embedding_1 (Embedding)      (None, 8, 32)             3136      \n",
      "_________________________________________________________________\n",
      "simple_rnn_1 (SimpleRNN)     (None, 256)               73984     \n",
      "_________________________________________________________________\n",
      "dense_1 (Dense)              (None, 98)                25186     \n",
      "=================================================================\n",
      "Total params: 102,306\n",
      "Trainable params: 102,306\n",
      "Non-trainable params: 0\n",
      "_________________________________________________________________\n"
     ]
    }
   ],
   "source": [
    "clear_session()\n",
    "model = Sequential([Embedding(vocab_size, n_factors, input_length=cs),\n",
    "                    SimpleRNN(n_hidden, activation='relu',\n",
    "                              recurrent_initializer=identity()),\n",
    "                    Dense(vocab_size, activation='softmax')])\n",
    "model.compile('adam', loss='sparse_categorical_crossentropy')\n",
    "model.summary()"
   ]
  },
  {
   "cell_type": "markdown",
   "metadata": {
    "hidden": true
   },
   "source": [
    "Train Model"
   ]
  },
  {
   "cell_type": "code",
   "execution_count": 114,
   "metadata": {
    "code_folding": [
     0
    ],
    "collapsed": true,
    "hidden": true
   },
   "outputs": [],
   "source": [
    "def fit_model(epochs=1, lr=1e-3):\n",
    "    model.optimizer.lr = lr\n",
    "    model.fit(np.concatenate(x, 1), y, batch_size=64, epochs=epochs,\n",
    "              verbose=0, callbacks=[TQDMNotebookCallback()])"
   ]
  },
  {
   "cell_type": "code",
   "execution_count": 115,
   "metadata": {
    "hidden": true
   },
   "outputs": [
    {
     "data": {
      "application/vnd.jupyter.widget-view+json": {
       "model_id": "923babde7ff940c093cf4d1651b925c5"
      }
     },
     "metadata": {},
     "output_type": "display_data"
    },
    {
     "data": {
      "application/vnd.jupyter.widget-view+json": {
       "model_id": "f9680ccf5d6f4a1481dd61407cefaa1c"
      }
     },
     "metadata": {},
     "output_type": "display_data"
    },
    {
     "data": {
      "application/vnd.jupyter.widget-view+json": {
       "model_id": "7ff06233e8964feb88846f21a359010c"
      }
     },
     "metadata": {},
     "output_type": "display_data"
    },
    {
     "data": {
      "application/vnd.jupyter.widget-view+json": {
       "model_id": "7d7e551abb744972b8965cf290f8958e"
      }
     },
     "metadata": {},
     "output_type": "display_data"
    },
    {
     "data": {
      "application/vnd.jupyter.widget-view+json": {
       "model_id": "e6fa7538e12f4cc69dac6b419fce1a1f"
      }
     },
     "metadata": {},
     "output_type": "display_data"
    },
    {
     "data": {
      "application/vnd.jupyter.widget-view+json": {
       "model_id": "793a6582a8b143e1824fe9d8b4646f4d"
      }
     },
     "metadata": {},
     "output_type": "display_data"
    },
    {
     "data": {
      "application/vnd.jupyter.widget-view+json": {
       "model_id": "86889d61aace4299a94be5e499f2c7b5"
      }
     },
     "metadata": {},
     "output_type": "display_data"
    },
    {
     "data": {
      "application/vnd.jupyter.widget-view+json": {
       "model_id": "03b8d878eb0a46f8a74c3f0a9255a1a4"
      }
     },
     "metadata": {},
     "output_type": "display_data"
    },
    {
     "data": {
      "application/vnd.jupyter.widget-view+json": {
       "model_id": "c53dd4bc42db4f65b497d518d55a32a7"
      }
     },
     "metadata": {},
     "output_type": "display_data"
    },
    {
     "name": "stdout",
     "output_type": "stream",
     "text": [
      "\n"
     ]
    }
   ],
   "source": [
    "fit_model(8)"
   ]
  },
  {
   "cell_type": "markdown",
   "metadata": {
    "hidden": true
   },
   "source": [
    "Test Model"
   ]
  },
  {
   "cell_type": "code",
   "execution_count": 116,
   "metadata": {
    "code_folding": [],
    "collapsed": true,
    "hidden": true
   },
   "outputs": [],
   "source": [
    "def get_next_char(inp):\n",
    "    idxs = [char_idx[c] for c in inp]\n",
    "    arrs = [np.array(i)[np.newaxis] for i in idxs]\n",
    "    p = model.predict(np.concatenate(arrs)[np.newaxis])\n",
    "    i = np.random.choice(range(vocab_size), p=p.ravel())\n",
    "    return chars[i]"
   ]
  },
  {
   "cell_type": "code",
   "execution_count": 120,
   "metadata": {
    "code_folding": [],
    "hidden": true
   },
   "outputs": [
    {
     "name": "stdout",
     "output_type": "stream",
     "text": [
      "a\n",
      "varisha sharal,abhi\n",
      "sojala\n",
      "laseeba\n",
      "ajpiy @ niona\n",
      "priyankisa\n",
      "saidiy chagu doin sipna\n",
      "dipni\n",
      "rekha devi\n",
      "savin\n"
     ]
    }
   ],
   "source": [
    "sample_start_idx = randint(0, len(data) - cs)\n",
    "sample_string = ''.join([chars[i]\n",
    "                         for i in data[sample_start_idx:sample_start_idx + cs]])\n",
    "for _ in range(100):\n",
    "    sample_string = sample_string + get_next_char(sample_string[-cs:])\n",
    "print(sample_string)"
   ]
  },
  {
   "cell_type": "markdown",
   "metadata": {
    "heading_collapsed": true
   },
   "source": [
    "# Seq-2-Seq Model"
   ]
  },
  {
   "cell_type": "markdown",
   "metadata": {
    "hidden": true
   },
   "source": [
    "Create Inputs"
   ]
  },
  {
   "cell_type": "code",
   "execution_count": 121,
   "metadata": {
    "hidden": true
   },
   "outputs": [],
   "source": [
    "cs = 8\n",
    "x = [np.stack([data[i + n] for i in range(0, len(data) - cs - 1, cs)])\n",
    "     for n in range(cs)]\n",
    "y = [np.stack([data[i + n] for i in range(1, len(data) - cs, cs)])\n",
    "     for n in range(cs)]"
   ]
  },
  {
   "cell_type": "markdown",
   "metadata": {
    "hidden": true
   },
   "source": [
    "Create Model"
   ]
  },
  {
   "cell_type": "code",
   "execution_count": 122,
   "metadata": {
    "collapsed": true,
    "hidden": true
   },
   "outputs": [
    {
     "name": "stdout",
     "output_type": "stream",
     "text": [
      "_________________________________________________________________\n",
      "Layer (type)                 Output Shape              Param #   \n",
      "=================================================================\n",
      "embedding_1 (Embedding)      (None, 8, 32)             3136      \n",
      "_________________________________________________________________\n",
      "simple_rnn_1 (SimpleRNN)     (None, 8, 256)            73984     \n",
      "_________________________________________________________________\n",
      "time_distributed_1 (TimeDist (None, 8, 98)             25186     \n",
      "=================================================================\n",
      "Total params: 102,306\n",
      "Trainable params: 102,306\n",
      "Non-trainable params: 0\n",
      "_________________________________________________________________\n"
     ]
    }
   ],
   "source": [
    "clear_session()\n",
    "model = Sequential([Embedding(vocab_size, n_factors, input_length=cs),\n",
    "                    SimpleRNN(n_hidden, activation='relu', return_sequences=True,\n",
    "                              recurrent_initializer=identity()),\n",
    "                    TimeDistributed(Dense(vocab_size, activation='softmax'))])\n",
    "model.compile('adam', loss='sparse_categorical_crossentropy')\n",
    "model.summary()"
   ]
  },
  {
   "cell_type": "markdown",
   "metadata": {
    "hidden": true
   },
   "source": [
    "Train Model"
   ]
  },
  {
   "cell_type": "code",
   "execution_count": 123,
   "metadata": {
    "code_folding": [],
    "collapsed": true,
    "hidden": true
   },
   "outputs": [],
   "source": [
    "def fit_model(epochs=1, lr=1e-3):\n",
    "    model.optimizer.lr = lr\n",
    "    model.fit(np.stack(x, 1), np.expand_dims(np.stack(y, 1), 2), batch_size=64, epochs=epochs,\n",
    "              verbose=0, callbacks=[TQDMNotebookCallback()])"
   ]
  },
  {
   "cell_type": "code",
   "execution_count": 124,
   "metadata": {
    "hidden": true
   },
   "outputs": [
    {
     "data": {
      "application/vnd.jupyter.widget-view+json": {
       "model_id": "8ac75253d7e14dab84f3909ab882bf13"
      }
     },
     "metadata": {},
     "output_type": "display_data"
    },
    {
     "data": {
      "application/vnd.jupyter.widget-view+json": {
       "model_id": "853b62140ba940b289c2404f327b2e95"
      }
     },
     "metadata": {},
     "output_type": "display_data"
    },
    {
     "data": {
      "application/vnd.jupyter.widget-view+json": {
       "model_id": "a74b8d5e310843c99026405b053be03c"
      }
     },
     "metadata": {},
     "output_type": "display_data"
    },
    {
     "data": {
      "application/vnd.jupyter.widget-view+json": {
       "model_id": "ee690352b1b54cdd9a4a1a49c5fb999b"
      }
     },
     "metadata": {},
     "output_type": "display_data"
    },
    {
     "data": {
      "application/vnd.jupyter.widget-view+json": {
       "model_id": "75f03cc8f81a47989cdc2a1a662b5752"
      }
     },
     "metadata": {},
     "output_type": "display_data"
    },
    {
     "data": {
      "application/vnd.jupyter.widget-view+json": {
       "model_id": "73d9cdabef3342a68a993412f8ff8070"
      }
     },
     "metadata": {},
     "output_type": "display_data"
    },
    {
     "data": {
      "application/vnd.jupyter.widget-view+json": {
       "model_id": "2e293e7c1f2143bca3267e9ee36db99d"
      }
     },
     "metadata": {},
     "output_type": "display_data"
    },
    {
     "data": {
      "application/vnd.jupyter.widget-view+json": {
       "model_id": "86715921fc1142578823d22306ec538b"
      }
     },
     "metadata": {},
     "output_type": "display_data"
    },
    {
     "data": {
      "application/vnd.jupyter.widget-view+json": {
       "model_id": "a69f0b904bfe4b5789a65ceace1d0b64"
      }
     },
     "metadata": {},
     "output_type": "display_data"
    },
    {
     "name": "stdout",
     "output_type": "stream",
     "text": [
      "\n"
     ]
    }
   ],
   "source": [
    "fit_model(8)"
   ]
  },
  {
   "cell_type": "code",
   "execution_count": 125,
   "metadata": {
    "collapsed": true,
    "hidden": true
   },
   "outputs": [],
   "source": [
    "def get_next_char(inp):\n",
    "    idxs = [char_idx[c] for c in inp]\n",
    "    arrs = [np.array(i)[np.newaxis] for i in idxs]\n",
    "    p = model.predict(np.concatenate(arrs)[np.newaxis])[0]\n",
    "    idxs = [np.random.choice(range(vocab_size), p=prob.ravel()) for prob in p]\n",
    "    return ''.join(chars[i] for i in idxs)"
   ]
  },
  {
   "cell_type": "code",
   "execution_count": 133,
   "metadata": {
    "hidden": true
   },
   "outputs": [
    {
     "name": "stdout",
     "output_type": "stream",
     "text": [
      "li\n",
      "smt. \n",
      "thht varopaesanfh\n",
      "\n",
      "shmttaashe... \n",
      "\n",
      "a d  jgbraibmhoha\n",
      "\n",
      " ratannks j\n",
      "v\n",
      "\n",
      " ikarirmss\n"
     ]
    }
   ],
   "source": [
    "sample_start_idx = randint(0, len(data) - cs)\n",
    "sample_string = ''.join([chars[i]\n",
    "                         for i in data[sample_start_idx:sample_start_idx + cs]])\n",
    "for _ in range(10):\n",
    "    sample_string = sample_string + get_next_char(sample_string[-cs:])\n",
    "print(sample_string)"
   ]
  },
  {
   "cell_type": "markdown",
   "metadata": {
    "heading_collapsed": true
   },
   "source": [
    "# Stateful Model"
   ]
  },
  {
   "cell_type": "markdown",
   "metadata": {
    "hidden": true
   },
   "source": [
    "Create Model"
   ]
  },
  {
   "cell_type": "code",
   "execution_count": null,
   "metadata": {
    "collapsed": true,
    "hidden": true
   },
   "outputs": [],
   "source": [
    "clear_session()\n",
    "model = Sequential([Embedding(vocab_size, n_factors, input_length=cs, batch_input_shape=(64, cs)),\n",
    "                    SimpleRNN(n_hidden, activation='relu', recurrent_initializer=identity(\n",
    "                    ), return_sequences=True),\n",
    "                    TimeDistributed(Dense(vocab_size, activation='softmax'))])\n",
    "model.compile('adam', loss='sparse_categorical_crossentropy')\n",
    "model.summary()"
   ]
  },
  {
   "cell_type": "markdown",
   "metadata": {
    "hidden": true
   },
   "source": [
    "Train Model"
   ]
  },
  {
   "cell_type": "code",
   "execution_count": null,
   "metadata": {
    "hidden": true
   },
   "outputs": [],
   "source": [
    "max_len = x[0].shape[0] - (x[0].shape[0] % 64)"
   ]
  },
  {
   "cell_type": "code",
   "execution_count": null,
   "metadata": {
    "code_folding": [
     0
    ],
    "collapsed": true,
    "hidden": true
   },
   "outputs": [],
   "source": [
    "def fit_model(epochs=1, lr=1e-3):\n",
    "    model.optimizer.lr = lr\n",
    "    model.fit(np.stack(x, 1)[:max_len], np.expand_dims(np.stack(y, 1), 2)[:max_len], batch_size=64, epochs=epochs,\n",
    "              verbose=0, callbacks=[TQDMNotebookCallback()], shuffle=False)"
   ]
  },
  {
   "cell_type": "code",
   "execution_count": null,
   "metadata": {
    "hidden": true
   },
   "outputs": [],
   "source": [
    "fit_model(8)"
   ]
  }
 ],
 "metadata": {
  "kernelspec": {
   "display_name": "Python 3",
   "language": "python",
   "name": "python3"
  },
  "language_info": {
   "codemirror_mode": {
    "name": "ipython",
    "version": 3
   },
   "file_extension": ".py",
   "mimetype": "text/x-python",
   "name": "python",
   "nbconvert_exporter": "python",
   "pygments_lexer": "ipython3",
   "version": "3.6.1"
  },
  "notify_time": "30",
  "toc": {
   "colors": {
    "hover_highlight": "#DAA520",
    "navigate_num": "#000000",
    "navigate_text": "#333333",
    "running_highlight": "#FF0000",
    "selected_highlight": "#FFD700",
    "sidebar_border": "#EEEEEE",
    "wrapper_background": "#FFFFFF"
   },
   "moveMenuLeft": true,
   "nav_menu": {
    "height": "260px",
    "width": "254px"
   },
   "navigate_menu": true,
   "number_sections": true,
   "sideBar": true,
   "threshold": 4,
   "toc_cell": false,
   "toc_section_display": "block",
   "toc_window_display": false,
   "widenNotebook": false
  }
 },
 "nbformat": 4,
 "nbformat_minor": 2
}

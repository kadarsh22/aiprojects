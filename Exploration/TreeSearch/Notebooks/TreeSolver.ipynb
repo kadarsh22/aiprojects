{
 "cells": [
  {
   "cell_type": "code",
   "execution_count": 20,
   "metadata": {
    "collapsed": true
   },
   "outputs": [],
   "source": [
    "argsorted = lambda x: sorted(range(len(x)), key=x.__getitem__, reverse=True)"
   ]
  },
  {
   "cell_type": "code",
   "execution_count": 21,
   "metadata": {
    "collapsed": true
   },
   "outputs": [],
   "source": [
    "class Builder:\n",
    "    def germinate(self, seed):\n",
    "        pass\n",
    "    \n",
    "    def build(self, branch):\n",
    "        passz"
   ]
  },
  {
   "cell_type": "code",
   "execution_count": 22,
   "metadata": {
    "collapsed": true
   },
   "outputs": [],
   "source": [
    "class Plucker:\n",
    "    def prune(self, branches):\n",
    "        pass\n",
    "    \n",
    "    def pluck(self, branches):\n",
    "        pass\n",
    "    \n",
    "    def stop(self, branches):\n",
    "        pass\n",
    "    \n",
    "    def _select_branches(self, branches, selected_idx):\n",
    "        selected_idx = sorted(selected_idx, reverse=True)\n",
    "        for i in range(len(branches))[::-1]:\n",
    "            if i not in selected_idx:\n",
    "                branches.pop(i)"
   ]
  },
  {
   "cell_type": "code",
   "execution_count": 23,
   "metadata": {
    "collapsed": true
   },
   "outputs": [],
   "source": [
    "class TreeSolver:\n",
    "    def __init__(self, builder, plucker):\n",
    "        self.builder = builder\n",
    "        self.plucker = plucker\n",
    "        \n",
    "        self.branches = None\n",
    "    \n",
    "    def solve(self, seed):\n",
    "        while True:\n",
    "            self.branches = self.builder.germinate(seed) if self.branches is None else self.get_new_branches()\n",
    "            self.plucker.prune(self.branches)\n",
    "            if self.plucker.stop(self.branches):\n",
    "                break\n",
    "        self.plucker.pluck(self.branches)\n",
    "        \n",
    "        solution = self.branches[0]\n",
    "        self.branches = None\n",
    "        return solution\n",
    "    \n",
    "    def get_new_branches(self):\n",
    "        new_branches = []\n",
    "        for branch in self.branches:\n",
    "            new_branches += self.builder.build(branch)\n",
    "        return new_branches"
   ]
  },
  {
   "cell_type": "code",
   "execution_count": 60,
   "metadata": {
    "collapsed": true
   },
   "outputs": [],
   "source": [
    "class BeamPlucker(Plucker):\n",
    "    def __init__(self, beam_size=1, max_length=1, leaf_test=lambda x: 0, to_probabilities=None):\n",
    "        self.beam_size = beam_size\n",
    "        self.max_length = max_length\n",
    "        self.leaf_test = leaf_test\n",
    "        \n",
    "    def prune(self, branches):\n",
    "        self.__beam_branches(branches, self.beam_size)\n",
    "        \n",
    "    def pluck(self, branches):\n",
    "        self.__beam_branches(branches)\n",
    "    \n",
    "    def stop(self, branches):\n",
    "        length_selected_idx = [i for i in range(len(branches)) \n",
    "                               if branches[i].size() >= self.max_length]\n",
    "        leaf_selected_idx = [i for i in range(len(branches)) \n",
    "                             if self.leaf_test(branches[i].nodes[-1])]\n",
    "        selected_idx = list(set(length_selected_idx).union(leaf_selected_idx))\n",
    "        \n",
    "        if len(selected_idx) == 0:\n",
    "            return False\n",
    "        \n",
    "        self._select_branches(branches, selected_idx)\n",
    "        return True\n",
    "        \n",
    "    def __beam_branches(self, branches, beam_size=1):\n",
    "        preferences = [branch.preference for branch in branches]\n",
    "        \n",
    "        if to_probabilities is None:\n",
    "            selected_idx = argsorted(preferences)[:self.beam_size]\n",
    "        else:\n",
    "            selected_idx = list(np.random.choice(np.arange(len(branches)), beam_size, False, to_probabilities(preferences)))\n",
    "        self._select_branches(branches, selected_idx)"
   ]
  },
  {
   "cell_type": "code",
   "execution_count": 61,
   "metadata": {
    "collapsed": true
   },
   "outputs": [],
   "source": [
    "class TestBranch:\n",
    "    def __init__(self, nodes=[], preference=None):\n",
    "        self.nodes = nodes\n",
    "        self.preference = preference\n",
    "    \n",
    "    def size(self):\n",
    "        return len(self.nodes)"
   ]
  },
  {
   "cell_type": "code",
   "execution_count": 117,
   "metadata": {
    "collapsed": true
   },
   "outputs": [],
   "source": [
    "class TestBuilder(Builder):\n",
    "    def germinate(self, seed):\n",
    "        return [TestBranch([i], n) for i, n in enumerate(np.arange(10) + seed)]\n",
    "    \n",
    "    def build(self, branch):\n",
    "        new_branches = []\n",
    "        for _ in range(10):\n",
    "            new_branches.append(TestBranch(branch.nodes + [branch.nodes[-1]*2], branch.preference + branch.nodes[-1]))\n",
    "        return new_branches"
   ]
  },
  {
   "cell_type": "code",
   "execution_count": 11,
   "metadata": {
    "collapsed": true
   },
   "outputs": [],
   "source": [
    "from vaialgs import TreeSolver, BeamPlucker, Builder"
   ]
  },
  {
   "cell_type": "code",
   "execution_count": 63,
   "metadata": {
    "collapsed": true
   },
   "outputs": [],
   "source": [
    "def to_probabilities(preferences):\n",
    "    probabilities = np.exp(np.array(preferences))\n",
    "    probabilities /= probabilities.sum()\n",
    "    return list(probabilities)"
   ]
  },
  {
   "cell_type": "code",
   "execution_count": 118,
   "metadata": {
    "collapsed": true
   },
   "outputs": [],
   "source": [
    "solver = TreeSolver(TestBuilder(), BeamPlucker(max_length=5, to_probabilities=to_probabilities))"
   ]
  },
  {
   "cell_type": "code",
   "execution_count": 165,
   "metadata": {},
   "outputs": [
    {
     "data": {
      "text/plain": [
       "[6, 12, 24, 48, 96]"
      ]
     },
     "execution_count": 165,
     "metadata": {},
     "output_type": "execute_result"
    }
   ],
   "source": [
    "solver.solve(10).nodes"
   ]
  }
 ],
 "metadata": {
  "kernelspec": {
   "display_name": "Python 3",
   "language": "python",
   "name": "python3"
  },
  "language_info": {
   "codemirror_mode": {
    "name": "ipython",
    "version": 3
   },
   "file_extension": ".py",
   "mimetype": "text/x-python",
   "name": "python",
   "nbconvert_exporter": "python",
   "pygments_lexer": "ipython3",
   "version": "3.6.2"
  }
 },
 "nbformat": 4,
 "nbformat_minor": 2
}

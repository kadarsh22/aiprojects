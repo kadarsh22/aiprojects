{
 "cells": [
  {
   "cell_type": "markdown",
   "metadata": {
    "heading_collapsed": true
   },
   "source": [
    "# Setup"
   ]
  },
  {
   "cell_type": "markdown",
   "metadata": {
    "heading_collapsed": true,
    "hidden": true
   },
   "source": [
    "## Imports"
   ]
  },
  {
   "cell_type": "code",
   "execution_count": 2,
   "metadata": {
    "collapsed": true,
    "hidden": true
   },
   "outputs": [],
   "source": [
    "import json\n",
    "import os.path"
   ]
  },
  {
   "cell_type": "code",
   "execution_count": 3,
   "metadata": {
    "collapsed": true,
    "hidden": true
   },
   "outputs": [],
   "source": [
    "from vaiutils import plot_images, path_consts"
   ]
  },
  {
   "cell_type": "markdown",
   "metadata": {
    "heading_collapsed": true,
    "hidden": true
   },
   "source": [
    "## Define Useful Variables and Functions"
   ]
  },
  {
   "cell_type": "code",
   "execution_count": 4,
   "metadata": {
    "collapsed": true,
    "hidden": true
   },
   "outputs": [],
   "source": [
    "for k, v in path_consts('COCO'):\n",
    "    exec(k + '=v')"
   ]
  },
  {
   "cell_type": "code",
   "execution_count": 5,
   "metadata": {
    "collapsed": true,
    "hidden": true
   },
   "outputs": [],
   "source": [
    "def list_to_dict(dict_list, key):\n",
    "    list_dict = {}\n",
    "    for item in dict_list:\n",
    "        list_dict[item[key]] = {k: v for k, v in item.items() if k != key}\n",
    "    return list_dict"
   ]
  },
  {
   "cell_type": "code",
   "execution_count": 6,
   "metadata": {
    "collapsed": true,
    "hidden": true
   },
   "outputs": [],
   "source": [
    "def search_caption(search_string, match_all=False, case_sensitive=False):\n",
    "    if not case_sensitive:\n",
    "        search_string = search_string.lower()\n",
    "    search_string = search_string.split(',')\n",
    "    \n",
    "    results = []\n",
    "    \n",
    "    for file_id in data.keys():\n",
    "        for beam_size in data[file_id].keys():\n",
    "            sample_strings = data[file_id][beam_size]['captions']\n",
    "            if type(sample_strings) is not list:\n",
    "                sample_strings = [sample_strings]\n",
    "            for sample_string in sample_strings:\n",
    "                if case_sensitive:\n",
    "                    match_list = [s in sample_string for s in search_string]\n",
    "                else:\n",
    "                    match_list = [s in sample_string.lower() for s in search_string]\n",
    "\n",
    "                if match_all:\n",
    "                    matched = all(match_list)\n",
    "                else:\n",
    "                    matched = any(match_list)\n",
    "                    \n",
    "                if matched:\n",
    "                    results.append((file_id, beam_size))\n",
    "    return sorted(list(set(results)))"
   ]
  },
  {
   "cell_type": "code",
   "execution_count": 7,
   "metadata": {
    "collapsed": true,
    "hidden": true
   },
   "outputs": [],
   "source": [
    "def show_captions(beam_size=1, file_idx=None, search_string=None):\n",
    "    if search_string is not None:\n",
    "        case_sensitive = search_string != search_string.lower()\n",
    "        match_all = search_string[0] != '~'\n",
    "        if not match_all:\n",
    "            search_string = search_string[1:]\n",
    "        search_results = search_caption(search_string, match_all, case_sensitive)\n",
    "        if len(search_results) == 0:\n",
    "            print('Picture not found.')\n",
    "            return\n",
    "        file_idx = unique([s[0] for s in search_results])\n",
    "        file_idx = file_idx[randint(len(file_idx))]\n",
    "        beam_sizes = [s[1] for s in search_results if s[0] == file_idx]\n",
    "        beam_size = beam_sizes[randint(len(beam_sizes))]\n",
    "        show_captions(beam_size, file_idx)\n",
    "        return\n",
    "    \n",
    "    if file_idx is None:\n",
    "        file_idx = randint(len(data))\n",
    "        file_idx = list(data.keys())[file_idx]\n",
    "        \n",
    "    try:\n",
    "        captions = data[file_idx][beam_size]\n",
    "    except:\n",
    "        print('Did not find image with beam size', beam_size)\n",
    "    \n",
    "    if 'probabilities' in captions.keys():\n",
    "        titles = ''.join([\"{}    ({:.2f})\\n\".format(caption, probability)\n",
    "                              for caption, probability in zip(captions['captions'], captions['probabilities'])])\n",
    "    else:\n",
    "        titles = captions['captions']\n",
    "        \n",
    "    plot_images([imread(os.path.join(DIR_DATA, 'val2017', file_idx))], titles)"
   ]
  },
  {
   "cell_type": "markdown",
   "metadata": {
    "heading_collapsed": true,
    "hidden": true
   },
   "source": [
    "## Checks"
   ]
  },
  {
   "cell_type": "code",
   "execution_count": 8,
   "metadata": {
    "collapsed": true,
    "hidden": true
   },
   "outputs": [],
   "source": [
    "assert os.path.exists(os.path.join(DIR_OUTPUT, 'Train.json')), \"Captions not found.\""
   ]
  },
  {
   "cell_type": "markdown",
   "metadata": {
    "heading_collapsed": true,
    "hidden": true
   },
   "source": [
    "## Load Data"
   ]
  },
  {
   "cell_type": "code",
   "execution_count": 9,
   "metadata": {
    "collapsed": true,
    "hidden": true
   },
   "outputs": [],
   "source": [
    "with open(os.path.join(DIR_OUTPUT, 'Train.json')) as f:\n",
    "    json_data = json.load(f)['data']"
   ]
  },
  {
   "cell_type": "code",
   "execution_count": 10,
   "metadata": {
    "collapsed": true,
    "hidden": true
   },
   "outputs": [],
   "source": [
    "data = list_to_dict(json_data, 'file_id')\n",
    "data = {k: list_to_dict(v['results'], 'beam_size') for k, v in data.items()}\n",
    "del json_data"
   ]
  },
  {
   "cell_type": "markdown",
   "metadata": {
    "heading_collapsed": true
   },
   "source": [
    "# Show Captions"
   ]
  },
  {
   "cell_type": "code",
   "execution_count": null,
   "metadata": {
    "hidden": true
   },
   "outputs": [],
   "source": [
    "show_captions(search_string='cake')"
   ]
  }
 ],
 "metadata": {
  "anaconda-cloud": {},
  "kernelspec": {
   "display_name": "Python [default]",
   "language": "python",
   "name": "python3"
  },
  "language_info": {
   "codemirror_mode": {
    "name": "ipython",
    "version": 3
   },
   "file_extension": ".py",
   "mimetype": "text/x-python",
   "name": "python",
   "nbconvert_exporter": "python",
   "pygments_lexer": "ipython3",
   "version": "3.6.4"
  }
 },
 "nbformat": 4,
 "nbformat_minor": 2
}

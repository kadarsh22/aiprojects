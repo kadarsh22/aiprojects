{
 "cells": [
  {
   "cell_type": "markdown",
   "metadata": {},
   "source": [
    "# Setup"
   ]
  },
  {
   "cell_type": "markdown",
   "metadata": {},
   "source": [
    "## Imports"
   ]
  },
  {
   "cell_type": "code",
   "execution_count": 1,
   "metadata": {},
   "outputs": [
    {
     "name": "stderr",
     "output_type": "stream",
     "text": [
      "/home/vaisakh/anaconda3/lib/python3.6/importlib/_bootstrap.py:219: RuntimeWarning: compiletime version 3.5 of module 'tensorflow.python.framework.fast_tensor_util' does not match runtime version 3.6\n",
      "  return f(*args, **kwds)\n"
     ]
    }
   ],
   "source": [
    "import os.path\n",
    "import cupy as cp\n",
    "import tensorflow as tf\n",
    "\n",
    "from tqdm import tqdm_notebook\n",
    "from skimage.color import rgb2lab\n",
    "from skimage.transform import resize\n",
    "from glob import glob"
   ]
  },
  {
   "cell_type": "markdown",
   "metadata": {},
   "source": [
    "vai Modules"
   ]
  },
  {
   "cell_type": "code",
   "execution_count": 2,
   "metadata": {},
   "outputs": [],
   "source": [
    "from vaiutils import path_consts, randpick, smooth_plot\n",
    "from vaidata import pickle_dump, pickle_load"
   ]
  },
  {
   "cell_type": "markdown",
   "metadata": {},
   "source": [
    "Keras Modules"
   ]
  },
  {
   "cell_type": "code",
   "execution_count": 3,
   "metadata": {},
   "outputs": [
    {
     "name": "stderr",
     "output_type": "stream",
     "text": [
      "Using TensorFlow backend.\n"
     ]
    }
   ],
   "source": [
    "import keras.backend as K\n",
    "\n",
    "from keras.models import Model, load_model\n",
    "from keras.preprocessing.image import ImageDataGenerator\n",
    "from keras.layers import Conv2D, Conv2DTranspose, Input, BatchNormalization, UpSampling2D\n",
    "from keras.optimizers import Adam\n",
    "from keras.engine.topology import Layer\n",
    "from keras_tqdm import TQDMNotebookCallback"
   ]
  },
  {
   "cell_type": "markdown",
   "metadata": {},
   "source": [
    "## Define Useful Features"
   ]
  },
  {
   "cell_type": "code",
   "execution_count": 4,
   "metadata": {},
   "outputs": [],
   "source": [
    "for k, v in path_consts('COCO'):\n",
    "    exec(k + ' = v')"
   ]
  },
  {
   "cell_type": "markdown",
   "metadata": {},
   "source": [
    "## Checks"
   ]
  },
  {
   "cell_type": "code",
   "execution_count": 5,
   "metadata": {},
   "outputs": [],
   "source": [
    "assert os.path.exists(os.path.join(DIR_CHECKPOINTS, 'ab_bins.npy')), \"Gamut Bins not found.\\nRun GamutBins Notebook first\""
   ]
  },
  {
   "cell_type": "code",
   "execution_count": 6,
   "metadata": {},
   "outputs": [],
   "source": [
    "assert os.path.exists(os.path.join(DIR_CHECKPOINTS, 'class_weights.npy')), \"Class Weights not found.\\nRun ClassRebalancer Notebook first\""
   ]
  },
  {
   "cell_type": "code",
   "execution_count": 7,
   "metadata": {},
   "outputs": [],
   "source": [
    "assert os.path.exists(os.path.join(DIR_CHECKPOINTS, 'probabilities.npy')), \"Point probabilities not found.\\nRun Fastener Notebook first or stick with (Slow) Trainer\""
   ]
  },
  {
   "cell_type": "code",
   "execution_count": 8,
   "metadata": {},
   "outputs": [],
   "source": [
    "assert os.path.exists(os.path.join(DIR_DATA, 'lab')), \"LAB images not found.\\nRun Fastener Notebook first or stick with (Slow) Trainer\""
   ]
  },
  {
   "cell_type": "markdown",
   "metadata": {},
   "source": [
    "## Load Data"
   ]
  },
  {
   "cell_type": "code",
   "execution_count": 9,
   "metadata": {},
   "outputs": [],
   "source": [
    "ab_bins = np.load(os.path.join(DIR_CHECKPOINTS, 'ab_bins.npy'))\n",
    "Q = len(ab_bins)"
   ]
  },
  {
   "cell_type": "code",
   "execution_count": 10,
   "metadata": {},
   "outputs": [],
   "source": [
    "class_weights = K.constant(np.load(os.path.join(DIR_CHECKPOINTS, 'class_weights.npy')))"
   ]
  },
  {
   "cell_type": "code",
   "execution_count": 11,
   "metadata": {},
   "outputs": [],
   "source": [
    "probabilities = K.constant(np.load(os.path.join(DIR_CHECKPOINTS, 'probabilities.npy')))"
   ]
  },
  {
   "cell_type": "code",
   "execution_count": 12,
   "metadata": {},
   "outputs": [],
   "source": [
    "filenames = sorted(glob(os.path.join(DIR_DATA, 'lab', '*.npy')))"
   ]
  },
  {
   "cell_type": "markdown",
   "metadata": {},
   "source": [
    "***\n",
    "**WARNING!**\n",
    "\n",
    "If the Kernel dies after running the following cell or for any reason therafter, probably the next cell is the culprit.\n",
    "\n",
    "It tries to load the entire data (in LAB format) as one giant array.\n",
    "Maybe your RAM has run out of memory.\n",
    "\n",
    "In that case, just don't run this cell.\n",
    "Delete or comment it out.\n",
    "\n",
    "The notebook will take care of it."
   ]
  },
  {
   "cell_type": "code",
   "execution_count": 13,
   "metadata": {},
   "outputs": [],
   "source": [
    "if os.path.exists(os.path.join(DIR_DATA, 'lab.npz')):\n",
    "    lab_data = np.load(os.path.join(DIR_DATA, 'lab.npz'))['lab']\n",
    "else:\n",
    "    lab_data = np.zeros((len(filenames), 224, 224, 2), dtype=uint16)\n",
    "    for i, filename in enumerate(tqdm_notebook(filenames)):\n",
    "        lab_data[i] = np.load(filename)\n",
    "    np.savez_compressed(os.path.join(DIR_DATA, 'lab.npz'), lab=lab_data)"
   ]
  },
  {
   "cell_type": "markdown",
   "metadata": {},
   "source": [
    "***"
   ]
  },
  {
   "cell_type": "code",
   "execution_count": 14,
   "metadata": {},
   "outputs": [],
   "source": [
    "using_full_data = 'lab_data' in globals()"
   ]
  },
  {
   "cell_type": "code",
   "execution_count": 15,
   "metadata": {},
   "outputs": [],
   "source": [
    "batch_size = 4"
   ]
  },
  {
   "cell_type": "code",
   "execution_count": 16,
   "metadata": {},
   "outputs": [],
   "source": [
    "def lab_generator():\n",
    "    while True:\n",
    "        select_idx = randint(0, len(filenames), batch_size)\n",
    "        if using_full_data:\n",
    "            lab = np.take(lab_data, select_idx, 0)\n",
    "        else:\n",
    "            lab = np.zeros((batch_size, 224, 224, 2), dtype=uint16)\n",
    "            for i, filename in enumerate(filenames[select_idx]):\n",
    "                lab[i] = np.load(filename)\n",
    "        \n",
    "        l, ab_idx = np.take(lab, [0], -1).astype(float32) - 50, np.take(lab, 1, -1)\n",
    "           \n",
    "        yield([l, ab_idx], np.zeros((batch_size, 1)))"
   ]
  },
  {
   "cell_type": "markdown",
   "metadata": {},
   "source": [
    "# Define Model"
   ]
  },
  {
   "cell_type": "code",
   "execution_count": 17,
   "metadata": {},
   "outputs": [],
   "source": [
    "def conv_layer(x, filters, strides=1, idx=1, dilations=1):\n",
    "    if type(dilations) is int:\n",
    "        dilations = [dilations]*len(strides)\n",
    "    elif type(strides) is int:\n",
    "        strides = [strides]*len(dilations)\n",
    "    \n",
    "        \n",
    "    for i, (stride, dilation) in enumerate(zip(strides, dilations)):\n",
    "        if type(stride) is int:\n",
    "            x = Conv2D(filters, 3, strides=stride, padding='same', dilation_rate=dilation,\n",
    "                       activation='relu', name='conv' + str(idx) + '_' + str(i+1))(x)\n",
    "        else:\n",
    "            x = Conv2DTranspose(filters, 3, strides=int(1 / stride), padding='same',\n",
    "                                activation='relu', name='conv' + str(idx) + '_' + str(i+1))(x)\n",
    "    return BatchNormalization(name='bn' + str(idx))(x)"
   ]
  },
  {
   "cell_type": "code",
   "execution_count": 18,
   "metadata": {},
   "outputs": [],
   "source": [
    "def get_model():\n",
    "    l_in = Input((224, 224, 1))\n",
    "    \n",
    "    x = conv_layer(l_in, 64, [1, 2], 1)\n",
    "    x = conv_layer(x, 128, [1, 2], 2)\n",
    "    x = conv_layer(x, 256, [1, 1, 2], 3)\n",
    "    x = conv_layer(x, 512, [1]*3, 4)\n",
    "    x = conv_layer(x, 512, [1]*3, 5, 2)\n",
    "    x = conv_layer(x, 512, [1]*3, 6, 2)\n",
    "    x = conv_layer(x, 256, [1]*3, 7)\n",
    "    x = conv_layer(x, 128, [0.5, 1, 1], 8)\n",
    "    x = Conv2D(Q, 1, padding='same', name='conv9')(x)\n",
    "    x = UpSampling2D(4, name='upsample')(x)\n",
    "    \n",
    "    model = Model(l_in, x)\n",
    "    return model"
   ]
  },
  {
   "cell_type": "code",
   "execution_count": 19,
   "metadata": {},
   "outputs": [],
   "source": [
    "model_name = 'model'"
   ]
  },
  {
   "cell_type": "code",
   "execution_count": 20,
   "metadata": {},
   "outputs": [],
   "source": [
    "os.makedirs(os.path.join(DIR_CHECKPOINTS, '.last'), exist_ok=True)"
   ]
  },
  {
   "cell_type": "code",
   "execution_count": 21,
   "metadata": {
    "scrolled": true
   },
   "outputs": [
    {
     "name": "stdout",
     "output_type": "stream",
     "text": [
      "_________________________________________________________________\n",
      "Layer (type)                 Output Shape              Param #   \n",
      "=================================================================\n",
      "input_1 (InputLayer)         (None, 224, 224, 1)       0         \n",
      "_________________________________________________________________\n",
      "conv1_1 (Conv2D)             (None, 224, 224, 64)      640       \n",
      "_________________________________________________________________\n",
      "conv1_2 (Conv2D)             (None, 112, 112, 64)      36928     \n",
      "_________________________________________________________________\n",
      "bn1 (BatchNormalization)     (None, 112, 112, 64)      256       \n",
      "_________________________________________________________________\n",
      "conv2_1 (Conv2D)             (None, 112, 112, 128)     73856     \n",
      "_________________________________________________________________\n",
      "conv2_2 (Conv2D)             (None, 56, 56, 128)       147584    \n",
      "_________________________________________________________________\n",
      "bn2 (BatchNormalization)     (None, 56, 56, 128)       512       \n",
      "_________________________________________________________________\n",
      "conv3_1 (Conv2D)             (None, 56, 56, 256)       295168    \n",
      "_________________________________________________________________\n",
      "conv3_2 (Conv2D)             (None, 56, 56, 256)       590080    \n",
      "_________________________________________________________________\n",
      "conv3_3 (Conv2D)             (None, 28, 28, 256)       590080    \n",
      "_________________________________________________________________\n",
      "bn3 (BatchNormalization)     (None, 28, 28, 256)       1024      \n",
      "_________________________________________________________________\n",
      "conv4_1 (Conv2D)             (None, 28, 28, 512)       1180160   \n",
      "_________________________________________________________________\n",
      "conv4_2 (Conv2D)             (None, 28, 28, 512)       2359808   \n",
      "_________________________________________________________________\n",
      "conv4_3 (Conv2D)             (None, 28, 28, 512)       2359808   \n",
      "_________________________________________________________________\n",
      "bn4 (BatchNormalization)     (None, 28, 28, 512)       2048      \n",
      "_________________________________________________________________\n",
      "conv5_1 (Conv2D)             (None, 28, 28, 512)       2359808   \n",
      "_________________________________________________________________\n",
      "conv5_2 (Conv2D)             (None, 28, 28, 512)       2359808   \n",
      "_________________________________________________________________\n",
      "conv5_3 (Conv2D)             (None, 28, 28, 512)       2359808   \n",
      "_________________________________________________________________\n",
      "bn5 (BatchNormalization)     (None, 28, 28, 512)       2048      \n",
      "_________________________________________________________________\n",
      "conv6_1 (Conv2D)             (None, 28, 28, 512)       2359808   \n",
      "_________________________________________________________________\n",
      "conv6_2 (Conv2D)             (None, 28, 28, 512)       2359808   \n",
      "_________________________________________________________________\n",
      "conv6_3 (Conv2D)             (None, 28, 28, 512)       2359808   \n",
      "_________________________________________________________________\n",
      "bn6 (BatchNormalization)     (None, 28, 28, 512)       2048      \n",
      "_________________________________________________________________\n",
      "conv7_1 (Conv2D)             (None, 28, 28, 256)       1179904   \n",
      "_________________________________________________________________\n",
      "conv7_2 (Conv2D)             (None, 28, 28, 256)       590080    \n",
      "_________________________________________________________________\n",
      "conv7_3 (Conv2D)             (None, 28, 28, 256)       590080    \n",
      "_________________________________________________________________\n",
      "bn7 (BatchNormalization)     (None, 28, 28, 256)       1024      \n",
      "_________________________________________________________________\n",
      "conv8_1 (Conv2DTranspose)    (None, 56, 56, 128)       295040    \n",
      "_________________________________________________________________\n",
      "conv8_2 (Conv2D)             (None, 56, 56, 128)       147584    \n",
      "_________________________________________________________________\n",
      "conv8_3 (Conv2D)             (None, 56, 56, 128)       147584    \n",
      "_________________________________________________________________\n",
      "bn8 (BatchNormalization)     (None, 56, 56, 128)       512       \n",
      "_________________________________________________________________\n",
      "conv9 (Conv2D)               (None, 56, 56, 245)       31605     \n",
      "_________________________________________________________________\n",
      "upsample (UpSampling2D)      (None, 224, 224, 245)     0         \n",
      "=================================================================\n",
      "Total params: 24,784,309\n",
      "Trainable params: 24,779,573\n",
      "Non-trainable params: 4,736\n",
      "_________________________________________________________________\n"
     ]
    }
   ],
   "source": [
    "if os.path.exists(os.path.join(DIR_CHECKPOINTS, model_name + '.h5')):\n",
    "    model = load_model(os.path.join(DIR_CHECKPOINTS, model_name + '.h5'))\n",
    "else:\n",
    "    model = get_model()\n",
    "\n",
    "model.summary()"
   ]
  },
  {
   "cell_type": "code",
   "execution_count": 22,
   "metadata": {},
   "outputs": [],
   "source": [
    "class Probablize(Layer):\n",
    "    def call(self, ab_idx):\n",
    "        return K.gather(probabilities, ab_idx)\n",
    "    \n",
    "    def compute_output_shape(self, input_shape):\n",
    "        prob_shape = list(input_shape)\n",
    "        prob_shape.append(Q)\n",
    "        return tuple(prob_shape)"
   ]
  },
  {
   "cell_type": "code",
   "execution_count": 23,
   "metadata": {},
   "outputs": [],
   "source": [
    "class CrossEntropy(Layer):\n",
    "    def call(self, x):\n",
    "        ab_true, ab_pred = x\n",
    "        max_idx = K.argmax(ab_true)\n",
    "        pixel_weights = K.expand_dims(K.gather(class_weights, max_idx))\n",
    "        batch_size = K.shape(ab_true)[0]\n",
    "        \n",
    "        return K.reshape(K.categorical_crossentropy(ab_true * pixel_weights, ab_pred, True), (batch_size, -1))\n",
    "    \n",
    "    def compute_output_shape(self, input_shape):\n",
    "        return (None, 1)"
   ]
  },
  {
   "cell_type": "code",
   "execution_count": 24,
   "metadata": {},
   "outputs": [],
   "source": [
    "def identity_error(dummy_target, loss):\n",
    "    return K.mean(loss, axis=-1)"
   ]
  },
  {
   "cell_type": "code",
   "execution_count": 25,
   "metadata": {},
   "outputs": [
    {
     "name": "stdout",
     "output_type": "stream",
     "text": [
      "__________________________________________________________________________________________________\n",
      "Layer (type)                    Output Shape         Param #     Connected to                     \n",
      "==================================================================================================\n",
      "ab_idx (InputLayer)             (None, 224, 224)     0                                            \n",
      "__________________________________________________________________________________________________\n",
      "l (InputLayer)                  (None, 224, 224, 1)  0                                            \n",
      "__________________________________________________________________________________________________\n",
      "probablize (Probablize)         (None, 224, 224, 245 0           ab_idx[0][0]                     \n",
      "__________________________________________________________________________________________________\n",
      "model_1 (Model)                 (None, 224, 224, 245 24784309    l[0][0]                          \n",
      "__________________________________________________________________________________________________\n",
      "cross_entropy (CrossEntropy)    (None, 1)            0           probablize[0][0]                 \n",
      "                                                                 model_1[1][0]                    \n",
      "==================================================================================================\n",
      "Total params: 24,784,309\n",
      "Trainable params: 24,779,573\n",
      "Non-trainable params: 4,736\n",
      "__________________________________________________________________________________________________\n"
     ]
    }
   ],
   "source": [
    "l = Input((224, 224, 1), name='l')\n",
    "ab_idx = Input((224, 224), dtype=int32, name='ab_idx')\n",
    "\n",
    "ab_true = Probablize(name='probablize')(ab_idx)\n",
    "ab_pred = model(l)\n",
    "\n",
    "loss = CrossEntropy(name='cross_entropy')([ab_true, ab_pred])\n",
    "\n",
    "trainer = Model([l, ab_idx], loss)\n",
    "trainer.compile(Adam(3e-5, beta_2=0.99, decay=1e-3), identity_error)\n",
    "trainer.summary()"
   ]
  },
  {
   "cell_type": "code",
   "execution_count": 26,
   "metadata": {},
   "outputs": [],
   "source": [
    "history = pickle_load(os.path.join(DIR_CHECKPOINTS, model_name + '-history.p'), {'loss': []})"
   ]
  },
  {
   "cell_type": "code",
   "execution_count": 27,
   "metadata": {},
   "outputs": [],
   "source": [
    "batches_per_epoch = int(len(filenames) / batch_size)"
   ]
  },
  {
   "cell_type": "code",
   "execution_count": 28,
   "metadata": {
    "scrolled": false
   },
   "outputs": [],
   "source": [
    "def train(epochs=1):\n",
    "    model.save(os.path.join(DIR_CHECKPOINTS, '.last', model_name + '.h5'))\n",
    "    pickle_dump(os.path.join(DIR_CHECKPOINTS, '.last', model_name + '-history.p'), history)\n",
    "    \n",
    "    for epoch in tqdm_notebook(range(epochs)):\n",
    "        hist = trainer.fit_generator(lab_generator(), batches_per_epoch,\n",
    "                            verbose=0, callbacks=[TQDMNotebookCallback(show_outer=False)])\n",
    "\n",
    "        history['loss'] += hist.history['loss']\n",
    "\n",
    "        pickle_dump(os.path.join(DIR_CHECKPOINTS, model_name + '-history.p'), history)\n",
    "\n",
    "        model.save(os.path.join(DIR_CHECKPOINTS, model_name + '.h5'))"
   ]
  },
  {
   "cell_type": "code",
   "execution_count": 29,
   "metadata": {},
   "outputs": [
    {
     "data": {
      "application/vnd.jupyter.widget-view+json": {
       "model_id": "1beb371b4fe14b489dd7b7845b1f29fe",
       "version_major": 2,
       "version_minor": 0
      },
      "text/html": [
       "<p>Failed to display Jupyter Widget of type <code>HBox</code>.</p>\n",
       "<p>\n",
       "  If you're reading this message in Jupyter Notebook or JupyterLab, it may mean\n",
       "  that the widgets JavaScript is still loading. If this message persists, it\n",
       "  likely means that the widgets JavaScript library is either not installed or\n",
       "  not enabled. See the <a href=\"https://ipywidgets.readthedocs.io/en/stable/user_install.html\">Jupyter\n",
       "  Widgets Documentation</a> for setup instructions.\n",
       "</p>\n",
       "<p>\n",
       "  If you're reading this message in another notebook frontend (for example, a static\n",
       "  rendering on GitHub or <a href=\"https://nbviewer.jupyter.org/\">NBViewer</a>),\n",
       "  it may mean that your frontend doesn't currently support widgets.\n",
       "</p>\n"
      ],
      "text/plain": [
       "HBox(children=(IntProgress(value=0, max=5), HTML(value='')))"
      ]
     },
     "metadata": {},
     "output_type": "display_data"
    },
    {
     "data": {
      "application/vnd.jupyter.widget-view+json": {
       "model_id": "2581acf807994abe83006c11ef57fa33",
       "version_major": 2,
       "version_minor": 0
      },
      "text/html": [
       "<p>Failed to display Jupyter Widget of type <code>HBox</code>.</p>\n",
       "<p>\n",
       "  If you're reading this message in Jupyter Notebook or JupyterLab, it may mean\n",
       "  that the widgets JavaScript is still loading. If this message persists, it\n",
       "  likely means that the widgets JavaScript library is either not installed or\n",
       "  not enabled. See the <a href=\"https://ipywidgets.readthedocs.io/en/stable/user_install.html\">Jupyter\n",
       "  Widgets Documentation</a> for setup instructions.\n",
       "</p>\n",
       "<p>\n",
       "  If you're reading this message in another notebook frontend (for example, a static\n",
       "  rendering on GitHub or <a href=\"https://nbviewer.jupyter.org/\">NBViewer</a>),\n",
       "  it may mean that your frontend doesn't currently support widgets.\n",
       "</p>\n"
      ],
      "text/plain": [
       "HBox(children=(IntProgress(value=0, description='Epoch 0', max=1215), HTML(value='')))"
      ]
     },
     "metadata": {},
     "output_type": "display_data"
    },
    {
     "data": {
      "application/vnd.jupyter.widget-view+json": {
       "model_id": "b7d155711dd541b0a8eeb2bca36993d2",
       "version_major": 2,
       "version_minor": 0
      },
      "text/html": [
       "<p>Failed to display Jupyter Widget of type <code>HBox</code>.</p>\n",
       "<p>\n",
       "  If you're reading this message in Jupyter Notebook or JupyterLab, it may mean\n",
       "  that the widgets JavaScript is still loading. If this message persists, it\n",
       "  likely means that the widgets JavaScript library is either not installed or\n",
       "  not enabled. See the <a href=\"https://ipywidgets.readthedocs.io/en/stable/user_install.html\">Jupyter\n",
       "  Widgets Documentation</a> for setup instructions.\n",
       "</p>\n",
       "<p>\n",
       "  If you're reading this message in another notebook frontend (for example, a static\n",
       "  rendering on GitHub or <a href=\"https://nbviewer.jupyter.org/\">NBViewer</a>),\n",
       "  it may mean that your frontend doesn't currently support widgets.\n",
       "</p>\n"
      ],
      "text/plain": [
       "HBox(children=(IntProgress(value=0, description='Epoch 0', max=1215), HTML(value='')))"
      ]
     },
     "metadata": {},
     "output_type": "display_data"
    },
    {
     "data": {
      "application/vnd.jupyter.widget-view+json": {
       "model_id": "e210630ec82f4b6b9297df78e8d1642d",
       "version_major": 2,
       "version_minor": 0
      },
      "text/html": [
       "<p>Failed to display Jupyter Widget of type <code>HBox</code>.</p>\n",
       "<p>\n",
       "  If you're reading this message in Jupyter Notebook or JupyterLab, it may mean\n",
       "  that the widgets JavaScript is still loading. If this message persists, it\n",
       "  likely means that the widgets JavaScript library is either not installed or\n",
       "  not enabled. See the <a href=\"https://ipywidgets.readthedocs.io/en/stable/user_install.html\">Jupyter\n",
       "  Widgets Documentation</a> for setup instructions.\n",
       "</p>\n",
       "<p>\n",
       "  If you're reading this message in another notebook frontend (for example, a static\n",
       "  rendering on GitHub or <a href=\"https://nbviewer.jupyter.org/\">NBViewer</a>),\n",
       "  it may mean that your frontend doesn't currently support widgets.\n",
       "</p>\n"
      ],
      "text/plain": [
       "HBox(children=(IntProgress(value=0, description='Epoch 0', max=1215), HTML(value='')))"
      ]
     },
     "metadata": {},
     "output_type": "display_data"
    },
    {
     "data": {
      "application/vnd.jupyter.widget-view+json": {
       "model_id": "0dbd7fcaf9924538ba729f3d12499341",
       "version_major": 2,
       "version_minor": 0
      },
      "text/html": [
       "<p>Failed to display Jupyter Widget of type <code>HBox</code>.</p>\n",
       "<p>\n",
       "  If you're reading this message in Jupyter Notebook or JupyterLab, it may mean\n",
       "  that the widgets JavaScript is still loading. If this message persists, it\n",
       "  likely means that the widgets JavaScript library is either not installed or\n",
       "  not enabled. See the <a href=\"https://ipywidgets.readthedocs.io/en/stable/user_install.html\">Jupyter\n",
       "  Widgets Documentation</a> for setup instructions.\n",
       "</p>\n",
       "<p>\n",
       "  If you're reading this message in another notebook frontend (for example, a static\n",
       "  rendering on GitHub or <a href=\"https://nbviewer.jupyter.org/\">NBViewer</a>),\n",
       "  it may mean that your frontend doesn't currently support widgets.\n",
       "</p>\n"
      ],
      "text/plain": [
       "HBox(children=(IntProgress(value=0, description='Epoch 0', max=1215), HTML(value='')))"
      ]
     },
     "metadata": {},
     "output_type": "display_data"
    },
    {
     "data": {
      "application/vnd.jupyter.widget-view+json": {
       "model_id": "dfe25fd00c5644bdbf5788ba25c6bdac",
       "version_major": 2,
       "version_minor": 0
      },
      "text/html": [
       "<p>Failed to display Jupyter Widget of type <code>HBox</code>.</p>\n",
       "<p>\n",
       "  If you're reading this message in Jupyter Notebook or JupyterLab, it may mean\n",
       "  that the widgets JavaScript is still loading. If this message persists, it\n",
       "  likely means that the widgets JavaScript library is either not installed or\n",
       "  not enabled. See the <a href=\"https://ipywidgets.readthedocs.io/en/stable/user_install.html\">Jupyter\n",
       "  Widgets Documentation</a> for setup instructions.\n",
       "</p>\n",
       "<p>\n",
       "  If you're reading this message in another notebook frontend (for example, a static\n",
       "  rendering on GitHub or <a href=\"https://nbviewer.jupyter.org/\">NBViewer</a>),\n",
       "  it may mean that your frontend doesn't currently support widgets.\n",
       "</p>\n"
      ],
      "text/plain": [
       "HBox(children=(IntProgress(value=0, description='Epoch 0', max=1215), HTML(value='')))"
      ]
     },
     "metadata": {},
     "output_type": "display_data"
    },
    {
     "name": "stdout",
     "output_type": "stream",
     "text": [
      "\n"
     ]
    }
   ],
   "source": [
    "train(5)"
   ]
  },
  {
   "cell_type": "code",
   "execution_count": 30,
   "metadata": {},
   "outputs": [
    {
     "data": {
      "image/png": "[encoded data removed]",
      "text/plain": [
       "<matplotlib.figure.Figure at 0x7f6c2df434e0>"
      ]
     },
     "metadata": {},
     "output_type": "display_data"
    }
   ],
   "source": [
    "smooth_plot(history)"
   ]
  },
  {
   "cell_type": "markdown",
   "metadata": {},
   "source": [
    "\n"
   ]
  }
 ],
 "metadata": {
  "anaconda-cloud": {},
  "kernelspec": {
   "display_name": "Python [default]",
   "language": "python",
   "name": "python3"
  },
  "language_info": {
   "codemirror_mode": {
    "name": "ipython",
    "version": 3
   },
   "file_extension": ".py",
   "mimetype": "text/x-python",
   "name": "python",
   "nbconvert_exporter": "python",
   "pygments_lexer": "ipython3",
   "version": "3.6.4"
  },
  "varInspector": {
   "cols": {
    "lenName": 16,
    "lenType": 16,
    "lenVar": 40
   },
   "kernels_config": {
    "python": {
     "delete_cmd_postfix": "",
     "delete_cmd_prefix": "del ",
     "library": "var_list.py",
     "varRefreshCmd": "print(var_dic_list())"
    },
    "r": {
     "delete_cmd_postfix": ") ",
     "delete_cmd_prefix": "rm(",
     "library": "var_list.r",
     "varRefreshCmd": "cat(var_dic_list()) "
    }
   },
   "types_to_exclude": [
    "module",
    "function",
    "builtin_function_or_method",
    "instance",
    "_Feature"
   ],
   "window_display": false
  }
 },
 "nbformat": 4,
 "nbformat_minor": 2
}

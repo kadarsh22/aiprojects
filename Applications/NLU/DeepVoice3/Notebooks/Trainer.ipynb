{
 "cells": [
  {
   "cell_type": "markdown",
   "metadata": {},
   "source": [
    "# Setup"
   ]
  },
  {
   "cell_type": "markdown",
   "metadata": {},
   "source": [
    "## Imports"
   ]
  },
  {
   "cell_type": "code",
   "execution_count": 1,
   "metadata": {},
   "outputs": [],
   "source": [
    "import os.path"
   ]
  },
  {
   "cell_type": "markdown",
   "metadata": {},
   "source": [
    "vai Modules"
   ]
  },
  {
   "cell_type": "code",
   "execution_count": 2,
   "metadata": {},
   "outputs": [],
   "source": [
    "from vai.io import pickle_load"
   ]
  },
  {
   "cell_type": "markdown",
   "metadata": {},
   "source": [
    "Keras Modules"
   ]
  },
  {
   "cell_type": "code",
   "execution_count": 3,
   "metadata": {},
   "outputs": [
    {
     "name": "stderr",
     "output_type": "stream",
     "text": [
      "Using TensorFlow backend.\n",
      "/home/vaisakh/anaconda3/lib/python3.6/importlib/_bootstrap.py:219: RuntimeWarning: compiletime version 3.5 of module 'tensorflow.python.framework.fast_tensor_util' does not match runtime version 3.6\n",
      "  return f(*args, **kwds)\n"
     ]
    }
   ],
   "source": [
    "from keras.preprocessing.text import Tokenizer"
   ]
  },
  {
   "cell_type": "markdown",
   "metadata": {},
   "source": [
    "PyTorch Modules"
   ]
  },
  {
   "cell_type": "code",
   "execution_count": 4,
   "metadata": {},
   "outputs": [],
   "source": [
    "import torch\n",
    "import torch.nn as nn\n",
    "import torch.nn.functional as F\n",
    "import torch.optim as optim\n",
    "\n",
    "from torch.autograd import Variable\n",
    "from vai.torch.utils import cuda"
   ]
  },
  {
   "cell_type": "markdown",
   "metadata": {},
   "source": [
    "## Define Useful Features"
   ]
  },
  {
   "cell_type": "code",
   "execution_count": 5,
   "metadata": {},
   "outputs": [],
   "source": [
    "DIR_DATA = DIR_DATA['LJSpeech']"
   ]
  },
  {
   "cell_type": "code",
   "execution_count": 6,
   "metadata": {},
   "outputs": [],
   "source": [
    "tokenizer = pickle_load(os.path.join(DIR_CHECKPOINTS, 'tokenizer.p'))"
   ]
  },
  {
   "cell_type": "code",
   "execution_count": 7,
   "metadata": {},
   "outputs": [],
   "source": [
    "char_idx = tokenizer.word_index\n",
    "idx_char = {v: k for k, v in char_idx.items()}\n",
    "vocab_size = len(char_idx)"
   ]
  },
  {
   "cell_type": "markdown",
   "metadata": {},
   "source": [
    "## Load Data"
   ]
  },
  {
   "cell_type": "code",
   "execution_count": 8,
   "metadata": {},
   "outputs": [],
   "source": [
    "uttarances = pickle_load(os.path.join(DIR_DATA, 'text_data.p'))"
   ]
  },
  {
   "cell_type": "markdown",
   "metadata": {},
   "source": [
    "# Create Model"
   ]
  },
  {
   "cell_type": "markdown",
   "metadata": {},
   "source": [
    "## Define Hyperparameters"
   ]
  },
  {
   "cell_type": "code",
   "execution_count": 21,
   "metadata": {},
   "outputs": [],
   "source": [
    "embedding_dim = 256\n",
    "conv_channels = 64\n",
    "kernel_size = 5\n",
    "encoder_layers = 7\n",
    "dropout_probability = 0.95\n",
    "attention_size = 128"
   ]
  },
  {
   "cell_type": "markdown",
   "metadata": {},
   "source": [
    "## Convolution Block"
   ]
  },
  {
   "cell_type": "code",
   "execution_count": 10,
   "metadata": {},
   "outputs": [],
   "source": [
    "class ConvBlock(nn.Module):\n",
    "    def __init__(self, causal=False, in_channels=conv_channels, kernel_size=kernel_size, dropout_probability=dropout_probability):\n",
    "        super().__init__()\n",
    "        self.dropout = nn.Dropout(dropout_probability, inplace=True)\n",
    "        if not causal: self.conv = nn.Conv1d(in_channels, 2 * in_channels, kernel_size,\n",
    "                                             padding=(kernel_size - 1) // 2)\n",
    "    \n",
    "    def forward(self, x):\n",
    "        out = self.conv(self.dropout(x))\n",
    "        a, b = out.split(x.size(1), 1)\n",
    "        out = a * F.sigmoid(b)\n",
    "        return (out + x) * np.sqrt(0.5)"
   ]
  },
  {
   "cell_type": "markdown",
   "metadata": {},
   "source": [
    "## Encoder"
   ]
  },
  {
   "cell_type": "code",
   "execution_count": 26,
   "metadata": {},
   "outputs": [],
   "source": [
    "class Encoder(nn.Module):\n",
    "    def __init__(self, embedding_dim=embedding_dim, conv_channels=conv_channels, encoder_layers=encoder_layers):\n",
    "        super().__init__()\n",
    "        self.fc_in = nn.Linear(embedding_dim, conv_channels)\n",
    "        self.conv_blocks = [cuda(ConvBlock())] * encoder_layers\n",
    "        self.fc_out = nn.Linear(conv_channels, embedding_dim)\n",
    "    \n",
    "    def forward(self, x):\n",
    "        out = self.fc_in(x).transpose(1, 2)\n",
    "        for conv_block in self.conv_blocks: out = conv_block(out)\n",
    "        keys = self.fc_out(out.transpose(1, 2))\n",
    "        values = (keys + x) * np.sqrt(0.5)\n",
    "        return keys, values"
   ]
  },
  {
   "cell_type": "markdown",
   "metadata": {},
   "source": [
    "## Attention Block"
   ]
  },
  {
   "cell_type": "markdown",
   "metadata": {},
   "source": [
    "**TODO:**\n",
    "* Add Positional Encodings\n",
    "* Find dropout probabilities\n",
    "* Find initialization strategy\n",
    "* Use context normalization\n",
    "* Apply windowed attention"
   ]
  },
  {
   "cell_type": "code",
   "execution_count": 107,
   "metadata": {},
   "outputs": [],
   "source": [
    "class Attention(nn.Module):\n",
    "    def __init__(self, query_dim=embedding_dim, embedding_dim=embedding_dim, hidden_size=attention_size,\n",
    "                 dropout_probability=dropout_probability):\n",
    "        super().__init__()\n",
    "        self.fc_query = nn.Linear(query_dim, hidden_size)\n",
    "        self.fc_keys = nn.Linear(embedding_dim, hidden_size)\n",
    "        self.fc_values = nn.Linear(embedding_dim, hidden_size)\n",
    "        self.fc_context = nn.Linear(hidden_size, embedding_dim)\n",
    "        self.dropout = nn.Dropout(dropout_probability, inplace=True)\n",
    "        \n",
    "    def forward(self, query, encoder_context):\n",
    "        keys, values = encoder_context\n",
    "        \n",
    "        query = self.fc_query(query)\n",
    "        keys = self.fc_keys(keys)\n",
    "        values = self.fc_values(values)\n",
    "        \n",
    "        context = query.bmm(keys.transpose(1, 2))\n",
    "        context = F.softmax(context.view(-1, context.size(-1))).view(context.size())\n",
    "        context = self.dropout(context)\n",
    "        \n",
    "        context = context.bmm(values) / np.sqrt(values.size(1))\n",
    "        context = self.fc_context(context)\n",
    "        \n",
    "        return context"
   ]
  },
  {
   "cell_type": "markdown",
   "metadata": {},
   "source": [
    "## Decoder"
   ]
  },
  {
   "cell_type": "code",
   "execution_count": null,
   "metadata": {},
   "outputs": [],
   "source": []
  }
 ],
 "metadata": {
  "kernelspec": {
   "display_name": "Python 3",
   "language": "python",
   "name": "python3"
  },
  "language_info": {
   "codemirror_mode": {
    "name": "ipython",
    "version": 3
   },
   "file_extension": ".py",
   "mimetype": "text/x-python",
   "name": "python",
   "nbconvert_exporter": "python",
   "pygments_lexer": "ipython3",
   "version": "3.6.3"
  },
  "varInspector": {
   "cols": {
    "lenName": 16,
    "lenType": 16,
    "lenVar": 40
   },
   "kernels_config": {
    "python": {
     "delete_cmd_postfix": "",
     "delete_cmd_prefix": "del ",
     "library": "var_list.py",
     "varRefreshCmd": "print(var_dic_list())"
    },
    "r": {
     "delete_cmd_postfix": ") ",
     "delete_cmd_prefix": "rm(",
     "library": "var_list.r",
     "varRefreshCmd": "cat(var_dic_list()) "
    }
   },
   "types_to_exclude": [
    "module",
    "function",
    "builtin_function_or_method",
    "instance",
    "_Feature"
   ],
   "window_display": false
  }
 },
 "nbformat": 4,
 "nbformat_minor": 2
}

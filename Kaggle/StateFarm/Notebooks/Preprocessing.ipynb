{
 "cells": [
  {
   "cell_type": "markdown",
   "metadata": {
    "heading_collapsed": true
   },
   "source": [
    "# Setup"
   ]
  },
  {
   "cell_type": "markdown",
   "metadata": {
    "heading_collapsed": true,
    "hidden": true
   },
   "source": [
    "## Imports"
   ]
  },
  {
   "cell_type": "code",
   "execution_count": 79,
   "metadata": {
    "collapsed": true,
    "hidden": true
   },
   "outputs": [],
   "source": [
    "import pandas as pd\n",
    "\n",
    "from vaiutils import path_consts, handle_files\n",
    "from os.path import exists\n",
    "from tqdm import tqdm_notebook\n",
    "from itertools import combinations"
   ]
  },
  {
   "cell_type": "markdown",
   "metadata": {
    "heading_collapsed": true,
    "hidden": true
   },
   "source": [
    "## Define useful variables and functions"
   ]
  },
  {
   "cell_type": "code",
   "execution_count": 2,
   "metadata": {
    "collapsed": true,
    "hidden": true
   },
   "outputs": [],
   "source": [
    "for k, v in path_consts('StateFarm'):\n",
    "    exec(k + '=v')"
   ]
  },
  {
   "cell_type": "code",
   "execution_count": 160,
   "metadata": {
    "collapsed": true,
    "hidden": true
   },
   "outputs": [],
   "source": [
    "FRAC_VALID = 0.15\n",
    "FRAC_SAMPLE = 0.1\n",
    "FRAC_SAMPLE_VALID = 0.3"
   ]
  },
  {
   "cell_type": "code",
   "execution_count": 4,
   "metadata": {
    "collapsed": true,
    "hidden": true
   },
   "outputs": [],
   "source": [
    "DIR_TRAIN = DIR_DATA + '/train'\n",
    "DIR_TEST = DIR_DATA + '/test'\n",
    "DIR_VALID = DIR_DATA + '/valid'\n",
    "DIR_RESULTS = DIR_DATA + '/results'\n",
    "DIR_SAMPLE_TRAIN = DIR_DATA + '/sample/train'\n",
    "DIR_SAMPLE_TEST = DIR_DATA + '/sample/test/unknown'\n",
    "DIR_SAMPLE_VALID = DIR_DATA + '/sample/valid'\n",
    "DIR_SAMPLE_RESULTS = DIR_DATA + '/sample/results'"
   ]
  },
  {
   "cell_type": "markdown",
   "metadata": {
    "heading_collapsed": true
   },
   "source": [
    "# Make validation set"
   ]
  },
  {
   "cell_type": "markdown",
   "metadata": {
    "hidden": true
   },
   "source": [
    "We need to use a different approach here. We can't blindly copy from the training set. The competition details make it clear that the test set has different drivers from the training set (if it wasn't clear already). This is logical since it reduces information leakage.\n",
    "\n",
    "So, we approach this by taking a subset of the 26 drivers and using their images as validation data. Luckily Kaggle has provided a CSV which maps the drivers (using their IDs) to the images in the training set."
   ]
  },
  {
   "cell_type": "markdown",
   "metadata": {
    "heading_collapsed": true,
    "hidden": true
   },
   "source": [
    "## Read the CSV"
   ]
  },
  {
   "cell_type": "code",
   "execution_count": null,
   "metadata": {
    "collapsed": true,
    "hidden": true
   },
   "outputs": [],
   "source": [
    "driver_details = pd.read_csv(DIR_DATA + '/driver_imgs_list.csv')"
   ]
  },
  {
   "cell_type": "markdown",
   "metadata": {
    "hidden": true
   },
   "source": [
    "The `driver_apperances` dictionary stores the number of times a driver has appeared in the training set"
   ]
  },
  {
   "cell_type": "code",
   "execution_count": 7,
   "metadata": {
    "collapsed": true,
    "hidden": true
   },
   "outputs": [],
   "source": [
    "driver_appearances = {}\n",
    "for driver in driver_details.subject.unique():\n",
    "    driver_appearances[driver] = (\n",
    "        len(driver_details.query(\"subject=='\" + driver + \"'\")))"
   ]
  },
  {
   "cell_type": "markdown",
   "metadata": {
    "hidden": true
   },
   "source": [
    "Let's visualize it"
   ]
  },
  {
   "cell_type": "code",
   "execution_count": 18,
   "metadata": {
    "hidden": true
   },
   "outputs": [
    {
     "data": {
      "image/png": "[encoded data removed]",
      "text/plain": [
       "<matplotlib.figure.Figure at 0x7f228cf44c88>"
      ]
     },
     "metadata": {},
     "output_type": "display_data"
    }
   ],
   "source": [
    "bar_x = range(driver_details.subject.nunique())\n",
    "bar_y = list(driver_appearances.values())\n",
    "bar_labels = [k[2:] for k in driver_appearances.keys()]\n",
    "plt.bar(bar_x, bar_y, tick_label=bar_labels)\n",
    "plt.xlabel('Driver Id')\n",
    "plt.ylabel('Apperances')\n",
    "plt.title('Driver apperances')\n",
    "plt.show()"
   ]
  },
  {
   "cell_type": "markdown",
   "metadata": {
    "hidden": true
   },
   "source": [
    "As expected, the distribution is moderately non-uniform."
   ]
  },
  {
   "cell_type": "markdown",
   "metadata": {
    "heading_collapsed": true,
    "hidden": true
   },
   "source": [
    "## Get the drivers"
   ]
  },
  {
   "cell_type": "markdown",
   "metadata": {
    "hidden": true
   },
   "source": [
    "If we fix the validation fraction, then it is reasonable to find the drivers with the maximum appearances, add their appearances one-by-one until we exceed the desired length of validation.\n",
    "This gives us the minimum number of drivers.\n",
    "If we start with the drivers with minimum appearances and do the same, we get the minimum number of drivers."
   ]
  },
  {
   "cell_type": "code",
   "execution_count": 146,
   "metadata": {
    "collapsed": true,
    "hidden": true
   },
   "outputs": [],
   "source": [
    "len_train = len(driver_details)\n",
    "len_valid = int(FRAC_VALID * len_train)\n",
    "\n",
    "\n",
    "def find_valid_drivers(driver_ids):\n",
    "    total_len_valid = 0\n",
    "    valid_drivers = []\n",
    "    for driver_id in driver_ids:\n",
    "        valid_drivers.append(driver_id)\n",
    "        total_len_valid += driver_appearances[driver_id]\n",
    "\n",
    "        if total_len_valid >= len_valid:\n",
    "            if total_len_valid - len_valid < len_valid -(total_len_valid- driver_appearances[driver_id]):\n",
    "                valid_drivers.pop()\n",
    "            break\n",
    "\n",
    "    return valid_drivers\n",
    "\n",
    "\n",
    "min_drivers = len(find_valid_drivers(\n",
    "    sorted(driver_appearances, key=driver_appearances.get, reverse=True)))\n",
    "max_drivers = len(find_valid_drivers(\n",
    "    sorted(driver_appearances, key=driver_appearances.get)))"
   ]
  },
  {
   "cell_type": "markdown",
   "metadata": {
    "hidden": true
   },
   "source": [
    "Given a list of drivers, this function returns their total appearances"
   ]
  },
  {
   "cell_type": "code",
   "execution_count": null,
   "metadata": {
    "collapsed": true,
    "hidden": true
   },
   "outputs": [],
   "source": [
    "def sum_appearances(driver_list):\n",
    "    driver_keys = np.array(list(driver_appearances.keys()))[driver_list]\n",
    "    return np.sum(np.array([driver_appearances[k] for k in driver_keys]))"
   ]
  },
  {
   "cell_type": "markdown",
   "metadata": {
    "hidden": true
   },
   "source": [
    "Within the allowed range, we can get all the deviations from the desired length and find the combination which gives minimum deviation."
   ]
  },
  {
   "cell_type": "code",
   "execution_count": 150,
   "metadata": {
    "hidden": true
   },
   "outputs": [
    {
     "data": {
      "application/vnd.jupyter.widget-view+json": {
       "model_id": "c994cb8a6bc14b8c8673fb679af584dd"
      }
     },
     "metadata": {},
     "output_type": "display_data"
    },
    {
     "data": {
      "application/vnd.jupyter.widget-view+json": {
       "model_id": "9f95153600fb417fbc448e6c071241ee"
      }
     },
     "metadata": {},
     "output_type": "display_data"
    },
    {
     "data": {
      "application/vnd.jupyter.widget-view+json": {
       "model_id": "2afde06aaabe4e83b4b92a156f8c9352"
      }
     },
     "metadata": {},
     "output_type": "display_data"
    },
    {
     "data": {
      "application/vnd.jupyter.widget-view+json": {
       "model_id": "34db360f3c994833b04fa2754b12a765"
      }
     },
     "metadata": {},
     "output_type": "display_data"
    },
    {
     "data": {
      "application/vnd.jupyter.widget-view+json": {
       "model_id": "1f02f2ede1384a6bab0527eabbf2b387"
      }
     },
     "metadata": {},
     "output_type": "display_data"
    },
    {
     "name": "stdout",
     "output_type": "stream",
     "text": [
      "\n"
     ]
    }
   ],
   "source": [
    "driver_combinations = {}\n",
    "for i in tqdm_notebook(range(min_drivers, max_drivers + 1)):\n",
    "    for drivers in tqdm_notebook(combinations(range(len(driver_appearances)), i)):\n",
    "        driver_combinations[drivers] = abs(\n",
    "            len_valid - sum_appearances(list(drivers)))"
   ]
  },
  {
   "cell_type": "code",
   "execution_count": 151,
   "metadata": {
    "collapsed": true,
    "hidden": true
   },
   "outputs": [],
   "source": [
    "valid_drivers_pos = sorted(driver_combinations, key=driver_combinations.get)[0]\n",
    "valid_drivers = np.array(list(driver_appearances.keys()))[\n",
    "    list(valid_drivers_pos)]"
   ]
  },
  {
   "cell_type": "markdown",
   "metadata": {
    "hidden": true
   },
   "source": [
    "Get all the filenames for the validation set (this is done so that the drivers in the training and validation sets do not overlap)"
   ]
  },
  {
   "cell_type": "code",
   "execution_count": 156,
   "metadata": {
    "collapsed": true,
    "hidden": true
   },
   "outputs": [],
   "source": [
    "valid_filenames = []\n",
    "for driver in valid_drivers:\n",
    "    valid_filenames += list(driver_details.query(\"subject=='\" +\n",
    "                                                 driver + \"'\").img)"
   ]
  },
  {
   "cell_type": "markdown",
   "metadata": {
    "hidden": true
   },
   "source": [
    "A sanity check. Should be low (subjectively speaking)"
   ]
  },
  {
   "cell_type": "code",
   "execution_count": 157,
   "metadata": {
    "hidden": true
   },
   "outputs": [
    {
     "name": "stdout",
     "output_type": "stream",
     "text": [
      "Percentage error: 0.0%\n"
     ]
    }
   ],
   "source": [
    "print(\"Percentage error: {}%\".format(np.round(abs(len(valid_filenames) - len_valid) * 100 / len_train, 2)))"
   ]
  },
  {
   "cell_type": "markdown",
   "metadata": {
    "heading_collapsed": true,
    "hidden": true
   },
   "source": [
    "## Handle the files"
   ]
  },
  {
   "cell_type": "code",
   "execution_count": 158,
   "metadata": {
    "hidden": true
   },
   "outputs": [
    {
     "name": "stdout",
     "output_type": "stream",
     "text": [
      "/home/vaisakh/.data/StateFarm/train/c0\n",
      "/home/vaisakh/.data/StateFarm/train/c1\n",
      "/home/vaisakh/.data/StateFarm/train/c2\n",
      "/home/vaisakh/.data/StateFarm/train/c3\n",
      "/home/vaisakh/.data/StateFarm/train/c4\n",
      "/home/vaisakh/.data/StateFarm/train/c5\n",
      "/home/vaisakh/.data/StateFarm/train/c6\n",
      "/home/vaisakh/.data/StateFarm/train/c7\n",
      "/home/vaisakh/.data/StateFarm/train/c8\n",
      "/home/vaisakh/.data/StateFarm/train/c9\n"
     ]
    }
   ],
   "source": [
    "for class_name in range(10):\n",
    "    handle_files(DIR_TRAIN + '/c' + str(class_name), DIR_VALID +\n",
    "                 '/c' + str(class_name), valid_filenames, 'move')"
   ]
  },
  {
   "cell_type": "markdown",
   "metadata": {
    "heading_collapsed": true
   },
   "source": [
    "# Create samples"
   ]
  },
  {
   "cell_type": "code",
   "execution_count": 159,
   "metadata": {
    "hidden": true
   },
   "outputs": [
    {
     "name": "stdout",
     "output_type": "stream",
     "text": [
      "/home/vaisakh/.data/StateFarm/train/c0\n",
      "/home/vaisakh/.data/StateFarm/train/c1\n",
      "/home/vaisakh/.data/StateFarm/train/c2\n",
      "/home/vaisakh/.data/StateFarm/train/c3\n",
      "/home/vaisakh/.data/StateFarm/train/c4\n",
      "/home/vaisakh/.data/StateFarm/train/c5\n",
      "/home/vaisakh/.data/StateFarm/train/c6\n",
      "/home/vaisakh/.data/StateFarm/train/c7\n",
      "/home/vaisakh/.data/StateFarm/train/c8\n",
      "/home/vaisakh/.data/StateFarm/train/c9\n"
     ]
    }
   ],
   "source": [
    "for class_name in range(10):\n",
    "    handle_files(DIR_TRAIN + '/c' + str(class_name), DIR_SAMPLE_TRAIN +\n",
    "                 '/c' + str(class_name), FRAC_SAMPLE, 'copy')"
   ]
  },
  {
   "cell_type": "markdown",
   "metadata": {
    "hidden": true
   },
   "source": [
    "For validation sample, the number of files will be too low if 20% is used. Aim for 1000 validation images"
   ]
  },
  {
   "cell_type": "code",
   "execution_count": 161,
   "metadata": {
    "hidden": true
   },
   "outputs": [
    {
     "name": "stdout",
     "output_type": "stream",
     "text": [
      "/home/vaisakh/.data/StateFarm/valid/c0\n",
      "/home/vaisakh/.data/StateFarm/valid/c1\n",
      "/home/vaisakh/.data/StateFarm/valid/c2\n",
      "/home/vaisakh/.data/StateFarm/valid/c3\n",
      "/home/vaisakh/.data/StateFarm/valid/c4\n",
      "/home/vaisakh/.data/StateFarm/valid/c5\n",
      "/home/vaisakh/.data/StateFarm/valid/c6\n",
      "/home/vaisakh/.data/StateFarm/valid/c7\n",
      "/home/vaisakh/.data/StateFarm/valid/c8\n",
      "/home/vaisakh/.data/StateFarm/valid/c9\n"
     ]
    }
   ],
   "source": [
    "for class_name in range(10):\n",
    "    handle_files(DIR_VALID + '/c' + str(class_name), DIR_SAMPLE_VALID +\n",
    "                 '/c' + str(class_name), FRAC_SAMPLE_VALID, 'copy')"
   ]
  },
  {
   "cell_type": "code",
   "execution_count": 162,
   "metadata": {
    "hidden": true
   },
   "outputs": [
    {
     "name": "stdout",
     "output_type": "stream",
     "text": [
      "/home/vaisakh/.data/StateFarm/test\n"
     ]
    }
   ],
   "source": [
    "handle_files(DIR_TEST, DIR_SAMPLE_TEST, FRAC_SAMPLE, 'copy')"
   ]
  },
  {
   "cell_type": "markdown",
   "metadata": {
    "heading_collapsed": true
   },
   "source": [
    "# Move Test to Unknown"
   ]
  },
  {
   "cell_type": "markdown",
   "metadata": {
    "hidden": true
   },
   "source": [
    "Keras doesn't like it otherwise"
   ]
  },
  {
   "cell_type": "code",
   "execution_count": 163,
   "metadata": {
    "hidden": true
   },
   "outputs": [
    {
     "name": "stdout",
     "output_type": "stream",
     "text": [
      "/home/vaisakh/.data/StateFarm/test\n",
      "mv: cannot move 'unknown' to a subdirectory of itself, 'unknown/unknown'\n"
     ]
    }
   ],
   "source": [
    "%cd $DIR_TEST\n",
    "%mkdir unknown\n",
    "%mv * unknown"
   ]
  }
 ],
 "metadata": {
  "kernelspec": {
   "display_name": "Python 3",
   "language": "python",
   "name": "python3"
  },
  "language_info": {
   "codemirror_mode": {
    "name": "ipython",
    "version": 3
   },
   "file_extension": ".py",
   "mimetype": "text/x-python",
   "name": "python",
   "nbconvert_exporter": "python",
   "pygments_lexer": "ipython3",
   "version": "3.6.1"
  }
 },
 "nbformat": 4,
 "nbformat_minor": 2
}

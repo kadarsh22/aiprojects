{
 "cells": [
  {
   "cell_type": "markdown",
   "metadata": {
    "heading_collapsed": true
   },
   "source": [
    "# Setup"
   ]
  },
  {
   "cell_type": "markdown",
   "metadata": {
    "heading_collapsed": true,
    "hidden": true
   },
   "source": [
    "## Imports"
   ]
  },
  {
   "cell_type": "code",
   "execution_count": 1,
   "metadata": {
    "collapsed": true,
    "hidden": true
   },
   "outputs": [],
   "source": [
    "import pandas as pd"
   ]
  },
  {
   "cell_type": "code",
   "execution_count": 2,
   "metadata": {
    "hidden": true
   },
   "outputs": [
    {
     "name": "stderr",
     "output_type": "stream",
     "text": [
      "Using TensorFlow backend.\n"
     ]
    }
   ],
   "source": [
    "import vaidata, vaikeras\n",
    "\n",
    "from vaiutils import path_consts\n",
    "from vaikaggle import dataset_consts"
   ]
  },
  {
   "cell_type": "markdown",
   "metadata": {
    "hidden": true
   },
   "source": [
    "Keras Modules"
   ]
  },
  {
   "cell_type": "code",
   "execution_count": 3,
   "metadata": {
    "collapsed": true,
    "hidden": true
   },
   "outputs": [],
   "source": [
    "import keras.backend as K\n",
    "\n",
    "from keras.preprocessing.image import ImageDataGenerator\n",
    "from keras.utils.np_utils import to_categorical"
   ]
  },
  {
   "cell_type": "markdown",
   "metadata": {
    "heading_collapsed": true,
    "hidden": true
   },
   "source": [
    "## Define useful variables and functions"
   ]
  },
  {
   "cell_type": "code",
   "execution_count": 4,
   "metadata": {
    "collapsed": true,
    "hidden": true
   },
   "outputs": [],
   "source": [
    "for k, v in path_consts('StateFarm'):\n",
    "    exec(k + '=v')\n",
    "for k, v in dataset_consts(DIR_DATA, use_sample=False):\n",
    "    exec(k + '=v')"
   ]
  },
  {
   "cell_type": "code",
   "execution_count": 5,
   "metadata": {
    "collapsed": true,
    "hidden": true
   },
   "outputs": [],
   "source": [
    "def pickle_load(filename, default=None, path=DIR_CHECKPOINTS):\n",
    "    return vaidata.pickle_load(path + '/' + filename + '.p', default)"
   ]
  },
  {
   "cell_type": "code",
   "execution_count": 6,
   "metadata": {
    "collapsed": true,
    "hidden": true
   },
   "outputs": [],
   "source": [
    "def pickle_dump(filename, obj, path=DIR_CHECKPOINTS):\n",
    "    vaidata.pickle_dump(path + '/' + filename + '.p', obj)"
   ]
  },
  {
   "cell_type": "code",
   "execution_count": 7,
   "metadata": {
    "collapsed": true,
    "hidden": true
   },
   "outputs": [],
   "source": [
    "def inflate_model(name):\n",
    "    return vaikeras.inflate_model(DIR_CHECKPOINTS + '/' + name + '.h5', name,\n",
    "                                  DIR_CHECKPOINTS + '/' + name + '-history.p')"
   ]
  },
  {
   "cell_type": "markdown",
   "metadata": {
    "heading_collapsed": true,
    "hidden": true
   },
   "source": [
    "## Load Data"
   ]
  },
  {
   "cell_type": "code",
   "execution_count": 8,
   "metadata": {
    "collapsed": true,
    "hidden": true
   },
   "outputs": [],
   "source": [
    "generator = ImageDataGenerator()"
   ]
  },
  {
   "cell_type": "code",
   "execution_count": 9,
   "metadata": {
    "collapsed": true,
    "hidden": true
   },
   "outputs": [],
   "source": [
    "def get_batches(directory, batch_size=64):\n",
    "    return vaikeras.get_batches(directory, generator, batch_size, False)"
   ]
  },
  {
   "cell_type": "code",
   "execution_count": 10,
   "metadata": {
    "hidden": true
   },
   "outputs": [
    {
     "name": "stdout",
     "output_type": "stream",
     "text": [
      "Found 3363 images belonging to 10 classes.\n"
     ]
    }
   ],
   "source": [
    "valid_batches = get_batches(DIR_VALID)"
   ]
  },
  {
   "cell_type": "code",
   "execution_count": 11,
   "metadata": {
    "hidden": true
   },
   "outputs": [
    {
     "name": "stdout",
     "output_type": "stream",
     "text": [
      "Found 79726 images belonging to 1 classes.\n",
      "Found 79726 images belonging to 1 classes.\n"
     ]
    }
   ],
   "source": [
    "test_batches = get_batches(DIR_TEST)\n",
    "\n",
    "remaining_batches = get_batches(DIR_TEST, 1)\n",
    "remaining_batches.total_batches_seen = test_batches.batch_size * \\\n",
    "    test_batches.num_batches\n",
    "remaining_batches.num_batches = remaining_batches.samples - \\\n",
    "    remaining_batches.total_batches_seen"
   ]
  },
  {
   "cell_type": "markdown",
   "metadata": {
    "heading_collapsed": true,
    "hidden": true
   },
   "source": [
    "## Load Model"
   ]
  },
  {
   "cell_type": "code",
   "execution_count": 12,
   "metadata": {
    "hidden": true
   },
   "outputs": [
    {
     "name": "stdout",
     "output_type": "stream",
     "text": [
      "_________________________________________________________________\n",
      "Layer (type)                 Output Shape              Param #   \n",
      "=================================================================\n",
      "batch_normalization_1 (Batch (None, 224, 224, 3)       12        \n",
      "_________________________________________________________________\n",
      "conv2d_1 (Conv2D)            (None, 112, 112, 32)      896       \n",
      "_________________________________________________________________\n",
      "batch_normalization_2 (Batch (None, 112, 112, 32)      128       \n",
      "_________________________________________________________________\n",
      "dropout_1 (Dropout)          (None, 112, 112, 32)      0         \n",
      "_________________________________________________________________\n",
      "conv2d_2 (Conv2D)            (None, 56, 56, 64)        18496     \n",
      "_________________________________________________________________\n",
      "batch_normalization_3 (Batch (None, 56, 56, 64)        256       \n",
      "_________________________________________________________________\n",
      "conv2d_3 (Conv2D)            (None, 28, 28, 128)       73856     \n",
      "_________________________________________________________________\n",
      "batch_normalization_4 (Batch (None, 28, 28, 128)       512       \n",
      "_________________________________________________________________\n",
      "conv2d_4 (Conv2D)            (None, 14, 14, 256)       295168    \n",
      "_________________________________________________________________\n",
      "batch_normalization_5 (Batch (None, 14, 14, 256)       1024      \n",
      "_________________________________________________________________\n",
      "conv2d_5 (Conv2D)            (None, 7, 7, 10)          23050     \n",
      "_________________________________________________________________\n",
      "batch_normalization_6 (Batch (None, 7, 7, 10)          40        \n",
      "_________________________________________________________________\n",
      "global_average_pooling2d_1 ( (None, 10)                0         \n",
      "_________________________________________________________________\n",
      "activation_1 (Activation)    (None, 10)                0         \n",
      "=================================================================\n",
      "Total params: 413,438\n",
      "Trainable params: 412,452\n",
      "Non-trainable params: 986\n",
      "_________________________________________________________________\n"
     ]
    }
   ],
   "source": [
    "K.clear_session()\n",
    "K.set_learning_phase(False)\n",
    "\n",
    "model = inflate_model('FullyConvNet')\n",
    "model.summary()"
   ]
  },
  {
   "cell_type": "markdown",
   "metadata": {
    "heading_collapsed": true
   },
   "source": [
    "# Calculate Clips"
   ]
  },
  {
   "cell_type": "code",
   "execution_count": 13,
   "metadata": {
    "hidden": true
   },
   "outputs": [
    {
     "name": "stdout",
     "output_type": "stream",
     "text": [
      "52/52 [==============================] - 10s    \n"
     ]
    }
   ],
   "source": [
    "val_preds = model.predict_generator(\n",
    "    valid_batches, valid_batches.num_batches, verbose=1)"
   ]
  },
  {
   "cell_type": "code",
   "execution_count": 14,
   "metadata": {
    "collapsed": true,
    "hidden": true
   },
   "outputs": [],
   "source": [
    "def get_loss(clip_low=0, clip_high=1):\n",
    "    y_pred = val_preds.clip(clip_low, clip_high)\n",
    "    y_pred = y_pred.clip(1e-15, 1 - 1e-15)\n",
    "    y_pred = y_pred / y_pred.sum(1, keepdims=True)\n",
    "    y_true = to_categorical(valid_batches.classes)[:len(y_pred)]\n",
    "    return -((y_true * np.log(y_pred)).sum(1)).mean()"
   ]
  },
  {
   "cell_type": "code",
   "execution_count": 15,
   "metadata": {
    "collapsed": true,
    "hidden": true
   },
   "outputs": [],
   "source": [
    "num_clips = 100\n",
    "val_loss_matrix = np.zeros((num_clips, num_clips))\n",
    "for l, clip_low in enumerate(np.linspace(0, 0.5, num_clips)):\n",
    "    for h, clip_high in enumerate(np.linspace(0.5, 1, num_clips)):\n",
    "        val_loss_matrix[l, h] = get_loss(clip_low, clip_high)"
   ]
  },
  {
   "cell_type": "code",
   "execution_count": 16,
   "metadata": {
    "hidden": true
   },
   "outputs": [
    {
     "data": {
      "text/plain": [
       "[<matplotlib.lines.Line2D at 0x7f65e0656278>]"
      ]
     },
     "execution_count": 16,
     "metadata": {},
     "output_type": "execute_result"
    },
    {
     "data": {
      "image/png": "[encoded data removed]",
      "text/plain": [
       "<matplotlib.figure.Figure at 0x7f65e06562b0>"
      ]
     },
     "metadata": {},
     "output_type": "display_data"
    }
   ],
   "source": [
    "plot(np.linspace(0.5, 1, num_clips), val_loss_matrix[0, :])\n",
    "plot(np.linspace(0, 0.5, num_clips), val_loss_matrix[:, -1])"
   ]
  },
  {
   "cell_type": "code",
   "execution_count": 17,
   "metadata": {
    "hidden": true
   },
   "outputs": [
    {
     "name": "stdout",
     "output_type": "stream",
     "text": [
      "Best clip is (0.0, 0.97979797979797989)\n",
      "You can expect a loss of 0.960569143878\n"
     ]
    }
   ],
   "source": [
    "best_clip = np.unravel_index(val_loss_matrix.argmin(), val_loss_matrix.shape)\n",
    "\n",
    "best_clip = (np.linspace(0, 0.5, num_clips)[best_clip[0]],\n",
    "             np.linspace(0.5, 1, num_clips)[best_clip[1]])\n",
    "\n",
    "print(\"Best clip is\", best_clip)\n",
    "print(\"You can expect a loss of\", get_loss(best_clip[0], best_clip[1]))"
   ]
  },
  {
   "cell_type": "markdown",
   "metadata": {
    "heading_collapsed": true
   },
   "source": [
    "# Prepare Submissions"
   ]
  },
  {
   "cell_type": "code",
   "execution_count": 18,
   "metadata": {
    "hidden": true
   },
   "outputs": [
    {
     "name": "stdout",
     "output_type": "stream",
     "text": [
      "1245/1245 [==============================] - 291s   \n",
      "42/46 [==========================>...] - ETA: 0s"
     ]
    }
   ],
   "source": [
    "predictions = model.predict_generator(test_batches,\n",
    "                                      test_batches.num_batches, verbose=1)\n",
    "\n",
    "remaining_predictions = model.predict_generator(remaining_batches,\n",
    "                                                remaining_batches.num_batches, verbose=1)\n",
    "\n",
    "predictions = np.vstack([predictions, remaining_predictions])"
   ]
  },
  {
   "cell_type": "code",
   "execution_count": 19,
   "metadata": {
    "collapsed": true,
    "hidden": true
   },
   "outputs": [],
   "source": [
    "assert len(predictions) == test_batches.samples, \"Something wrong with test batch creation. Check the batch sizes. If confused, just use a single test batch with unit batch size.\""
   ]
  },
  {
   "cell_type": "code",
   "execution_count": 20,
   "metadata": {
    "collapsed": true,
    "hidden": true
   },
   "outputs": [],
   "source": [
    "column_names = []\n",
    "for i in range(10):\n",
    "    column_names.append('c' + str(i))"
   ]
  },
  {
   "cell_type": "code",
   "execution_count": 21,
   "metadata": {
    "collapsed": true,
    "hidden": true
   },
   "outputs": [],
   "source": [
    "for i in range(test_batches.samples):\n",
    "    test_batches.filenames[i] = test_batches.filenames[i][8:]"
   ]
  },
  {
   "cell_type": "code",
   "execution_count": 22,
   "metadata": {
    "collapsed": true,
    "hidden": true
   },
   "outputs": [],
   "source": [
    "submission = pd.DataFrame(predictions.clip(best_clip[0], best_clip[1]), columns=column_names)\n",
    "submission.insert(0, 'img', test_batches.filenames)"
   ]
  },
  {
   "cell_type": "code",
   "execution_count": 23,
   "metadata": {
    "collapsed": true,
    "hidden": true
   },
   "outputs": [],
   "source": [
    "submission.sort_values('img').to_csv(DIR_OUTPUT + '/' + model.name + '-submission.csv', index=False)"
   ]
  }
 ],
 "metadata": {
  "anaconda-cloud": {},
  "kernelspec": {
   "display_name": "Python [default]",
   "language": "python",
   "name": "python3"
  },
  "language_info": {
   "codemirror_mode": {
    "name": "ipython",
    "version": 3
   },
   "file_extension": ".py",
   "mimetype": "text/x-python",
   "name": "python",
   "nbconvert_exporter": "python",
   "pygments_lexer": "ipython3",
   "version": "3.6.4"
  }
 },
 "nbformat": 4,
 "nbformat_minor": 2
}

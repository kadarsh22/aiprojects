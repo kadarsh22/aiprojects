{
 "cells": [
  {
   "cell_type": "markdown",
   "metadata": {},
   "source": [
    "# Dogs vs Cats Redux (Kaggle)\n",
    "# ---Prepackaging---"
   ]
  },
  {
   "cell_type": "code",
   "execution_count": 1,
   "metadata": {
    "collapsed": true
   },
   "outputs": [],
   "source": [
    "from os import getcwd, rename\n",
    "from shutil import copyfile\n",
    "from numpy.random import choice\n",
    "from glob import glob\n",
    "from scipy.misc import imread, imresize, imsave\n",
    "from tqdm import tqdm\n",
    "from vaiutils import path_consts"
   ]
  },
  {
   "cell_type": "code",
   "execution_count": 2,
   "metadata": {
    "collapsed": true
   },
   "outputs": [],
   "source": [
    "for k,v in path_consts('CatDog-Prepack', 'CatDog'):\n",
    "    exec(k+'=v')"
   ]
  },
  {
   "cell_type": "code",
   "execution_count": 3,
   "metadata": {
    "collapsed": true
   },
   "outputs": [],
   "source": [
    "FRACTION_VALID = 0.2\n",
    "FRACTION_SAMPLE = 0.01"
   ]
  },
  {
   "cell_type": "code",
   "execution_count": 4,
   "metadata": {
    "collapsed": true
   },
   "outputs": [],
   "source": [
    "DIR_TRAIN = DIR_DATA + '/train'\n",
    "DIR_TEST = DIR_DATA + '/test'\n",
    "DIR_VALID = DIR_DATA + '/valid'\n",
    "DIR_RESULTS = DIR_DATA + '/results'\n",
    "\n",
    "DIR_SAMPLE_TRAIN = DIR_DATA + '/sample/train'\n",
    "DIR_SAMPLE_TEST = DIR_DATA + '/sample/test'\n",
    "DIR_SAMPLE_VALID = DIR_DATA + '/sample/valid'\n",
    "DIR_SAMPLE_RESULTS = DIR_DATA + '/sample/results'"
   ]
  },
  {
   "cell_type": "code",
   "execution_count": 5,
   "metadata": {},
   "outputs": [
    {
     "name": "stderr",
     "output_type": "stream",
     "text": [
      "100%|██████████| 21/21 [00:00<00:00, 131.09it/s]"
     ]
    },
    {
     "name": "stdout",
     "output_type": "stream",
     "text": [
      "/home/vaisakh/FastAI/courses/deeplearning1/nbs/data/CatDog/sample/valid/dogs\n"
     ]
    },
    {
     "name": "stderr",
     "output_type": "stream",
     "text": [
      "\n"
     ]
    }
   ],
   "source": [
    "def resize_img(path):\n",
    "    %cd $path\n",
    "    filenames = glob('*.jpg')\n",
    "    for filename in tqdm(filenames):\n",
    "        imsave(path + '/' + filename, imresize(imread(path + '/' + filename), (224, 224)))\n",
    "\n",
    "resize_img(DIR_SAMPLE_VALID + '/cats')\n",
    "resize_img(DIR_SAMPLE_VALID + '/dogs')\n",
    "resize_img(DIR_SAMPLE_TRAIN + '/cats')\n",
    "resize_img(DIR_SAMPLE_TRAIN + '/dogs')\n",
    "resize_img(DIR_VALID + '/cats')\n",
    "resize_img(DIR_VALID + '/dogs')\n",
    "resize_img(DIR_TRAIN + '/cats')\n",
    "resize_img(DIR_TRAIN + '/dogs')\n",
    "resize_img(DIR_TEST + '/unknown')\n",
    "resize_img(DIR_SAMPLE_TEST + '/unknown')"
   ]
  },
  {
   "cell_type": "code",
   "execution_count": 5,
   "metadata": {},
   "outputs": [
    {
     "name": "stdout",
     "output_type": "stream",
     "text": [
      "/home/vaisakh/.data/CatDog\n"
     ]
    }
   ],
   "source": [
    "%cd $DIR_DATA\n",
    "for path in ['test/unknown', 'valid', 'results', 'sample/train', 'sample/test/unknown', 'sample/valid', 'sample/results']:\n",
    "    %mkdir -p $path"
   ]
  },
  {
   "cell_type": "code",
   "execution_count": 6,
   "metadata": {},
   "outputs": [
    {
     "name": "stdout",
     "output_type": "stream",
     "text": [
      "/home/vaisakh/.data/CatDog/train\n",
      "/home/vaisakh/.data/CatDog/train\n",
      "/home/vaisakh/.data/CatDog/valid\n",
      "/home/vaisakh/.data/CatDog/test\n"
     ]
    }
   ],
   "source": [
    "def move_img(from_path, to_path, fraction, copy=False):\n",
    "    %cd $from_path\n",
    "    \n",
    "    filenames = glob('*.jpg')\n",
    "    filenames = choice(filenames, int(fraction*len(filenames)), replace=False)\n",
    "    \n",
    "    for filename in filenames:\n",
    "        if copy:\n",
    "            copyfile(from_path + '/' + filename, to_path + '/' + filename)\n",
    "        else:\n",
    "            rename(from_path + '/' + filename, to_path + '/' + filename)\n",
    "        \n",
    "move_img(DIR_TRAIN, DIR_VALID, FRACTION_VALID)\n",
    "move_img(DIR_TRAIN, DIR_SAMPLE_TRAIN, FRACTION_SAMPLE, copy=True)\n",
    "move_img(DIR_VALID, DIR_SAMPLE_VALID, FRACTION_SAMPLE, copy=True)\n",
    "move_img(DIR_TEST, DIR_SAMPLE_TEST + '/unknown', FRACTION_SAMPLE, copy=True)"
   ]
  },
  {
   "cell_type": "code",
   "execution_count": 7,
   "metadata": {},
   "outputs": [
    {
     "name": "stdout",
     "output_type": "stream",
     "text": [
      "/home/vaisakh/.data/CatDog/train\n",
      "/home/vaisakh/.data/CatDog/valid\n",
      "/home/vaisakh/.data/CatDog/sample/train\n",
      "/home/vaisakh/.data/CatDog/sample/valid\n"
     ]
    }
   ],
   "source": [
    "def separate_cats_dogs(path):\n",
    "    %cd $path\n",
    "    %mkdir cats\n",
    "    %mkdir dogs\n",
    "    %mv cat.*.jpg cats/\n",
    "    %mv dog.*.jpg dogs/\n",
    "    \n",
    "separate_cats_dogs(DIR_TRAIN)\n",
    "separate_cats_dogs(DIR_VALID)\n",
    "separate_cats_dogs(DIR_SAMPLE_TRAIN)\n",
    "separate_cats_dogs(DIR_SAMPLE_VALID)"
   ]
  },
  {
   "cell_type": "code",
   "execution_count": 8,
   "metadata": {},
   "outputs": [
    {
     "name": "stdout",
     "output_type": "stream",
     "text": [
      "/home/vaisakh/.data/CatDog/test\n"
     ]
    }
   ],
   "source": [
    "%cd $DIR_TEST\n",
    "%mv *.jpg unknown/"
   ]
  },
  {
   "cell_type": "code",
   "execution_count": 4,
   "metadata": {},
   "outputs": [
    {
     "name": "stdout",
     "output_type": "stream",
     "text": [
      "/home/vaisakh/FastAI/courses/deeplearning1/nbs/data/CatDog/train/cats\n",
      "/home/vaisakh/FastAI/courses/deeplearning1/nbs/data/CatDog/train/dogs\n",
      "/home/vaisakh/FastAI/courses/deeplearning1/nbs/data/CatDog/valid/cats\n",
      "/home/vaisakh/FastAI/courses/deeplearning1/nbs/data/CatDog/valid/dogs\n",
      "/home/vaisakh/FastAI/courses/deeplearning1/nbs/data/CatDog/sample/train/cats\n",
      "/home/vaisakh/FastAI/courses/deeplearning1/nbs/data/CatDog/sample/train/dogs\n",
      "/home/vaisakh/FastAI/courses/deeplearning1/nbs/data/CatDog/sample/valid/cats\n",
      "/home/vaisakh/FastAI/courses/deeplearning1/nbs/data/CatDog/sample/valid/dogs\n"
     ]
    }
   ],
   "source": [
    "def join_cats_dogs(path):\n",
    "    %cd $path/cats\n",
    "    %mv *.jpg ../\n",
    "    %cd $path/dogs\n",
    "    %mv dog.*.jpg ../\n",
    "\n",
    "join_cats_dogs(DIR_TRAIN)\n",
    "join_cats_dogs(DIR_VALID)\n",
    "join_cats_dogs(DIR_SAMPLE_TRAIN)\n",
    "join_cats_dogs(DIR_SAMPLE_VALID)"
   ]
  },
  {
   "cell_type": "code",
   "execution_count": 4,
   "metadata": {},
   "outputs": [
    {
     "name": "stdout",
     "output_type": "stream",
     "text": [
      "/home/vaisakh/FastAI/courses/deeplearning1/nbs/data/CatDog/test/unknown\n",
      "/home/vaisakh/FastAI/courses/deeplearning1/nbs/data/CatDog/sample/test\n",
      "mv: cannot stat '*.jpg': No such file or directory\n"
     ]
    }
   ],
   "source": [
    "%cd $DIR_TEST/unknown\n",
    "%mv *.jpg ../\n",
    "%cd $DIR_SAMPLE_TEST\n",
    "%mv *.jpg ../"
   ]
  }
 ],
 "metadata": {
  "anaconda-cloud": {},
  "kernelspec": {
   "display_name": "Python [default]",
   "language": "python",
   "name": "python3"
  },
  "language_info": {
   "codemirror_mode": {
    "name": "ipython",
    "version": 3
   },
   "file_extension": ".py",
   "mimetype": "text/x-python",
   "name": "python",
   "nbconvert_exporter": "python",
   "pygments_lexer": "ipython3",
   "version": "3.6.4"
  }
 },
 "nbformat": 4,
 "nbformat_minor": 2
}

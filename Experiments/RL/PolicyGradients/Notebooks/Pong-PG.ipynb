{
 "cells": [
  {
   "cell_type": "markdown",
   "metadata": {},
   "source": [
    "# Setup"
   ]
  },
  {
   "cell_type": "markdown",
   "metadata": {},
   "source": [
    "## Imports "
   ]
  },
  {
   "cell_type": "code",
   "execution_count": 1,
   "metadata": {
    "collapsed": true
   },
   "outputs": [],
   "source": [
    "import gym\n",
    "from vaiutils import plot_image, path_consts, smooth_plot\n",
    "from tqdm import tqdm_notebook\n",
    "from os.path import exists"
   ]
  },
  {
   "cell_type": "markdown",
   "metadata": {},
   "source": [
    "Torch Modules"
   ]
  },
  {
   "cell_type": "code",
   "execution_count": 2,
   "metadata": {
    "collapsed": true
   },
   "outputs": [],
   "source": [
    "import torch\n",
    "from torch.autograd import Variable\n",
    "import torch.nn as nn\n",
    "import torch.nn.functional as F\n",
    "import torch.optim as optim"
   ]
  },
  {
   "cell_type": "markdown",
   "metadata": {},
   "source": [
    "## Define useful variables and functions"
   ]
  },
  {
   "cell_type": "code",
   "execution_count": 3,
   "metadata": {
    "collapsed": true
   },
   "outputs": [],
   "source": [
    "for k, v in path_consts('Pong-PG'):\n",
    "    exec(k + '=v')"
   ]
  },
  {
   "cell_type": "code",
   "execution_count": 4,
   "metadata": {},
   "outputs": [
    {
     "name": "stderr",
     "output_type": "stream",
     "text": [
      "[2017-09-11 12:21:19,610] Making new env: Pong-v0\n"
     ]
    }
   ],
   "source": [
    "env = gym.make('Pong-v0')"
   ]
  },
  {
   "cell_type": "code",
   "execution_count": 5,
   "metadata": {},
   "outputs": [
    {
     "data": {
      "text/plain": [
       "['NOOP', 'FIRE', 'RIGHT', 'LEFT', 'RIGHTFIRE', 'LEFTFIRE']"
      ]
     },
     "execution_count": 5,
     "metadata": {},
     "output_type": "execute_result"
    }
   ],
   "source": [
    "env.unwrapped.get_action_meanings()"
   ]
  },
  {
   "cell_type": "markdown",
   "metadata": {},
   "source": [
    "Returns the normalized (modified) action"
   ]
  },
  {
   "cell_type": "code",
   "execution_count": 6,
   "metadata": {
    "collapsed": true
   },
   "outputs": [],
   "source": [
    "def norm_action(action):\n",
    "    if action == 0 or action == 1:\n",
    "        return 0\n",
    "    elif action == 2 or action == 4:\n",
    "        return 1\n",
    "    elif action == 3 or action == 5:\n",
    "        return 2"
   ]
  },
  {
   "cell_type": "markdown",
   "metadata": {},
   "source": [
    "Returns the actions in the default (game) space"
   ]
  },
  {
   "cell_type": "code",
   "execution_count": 7,
   "metadata": {
    "collapsed": true
   },
   "outputs": [],
   "source": [
    "def denorm_action(action):\n",
    "    if action == 0:\n",
    "        return 0\n",
    "    else:\n",
    "        return action + 1"
   ]
  },
  {
   "cell_type": "markdown",
   "metadata": {},
   "source": [
    "Returns the meaning of the normalized action"
   ]
  },
  {
   "cell_type": "code",
   "execution_count": 8,
   "metadata": {
    "collapsed": true
   },
   "outputs": [],
   "source": [
    "def meaning(normed_action):\n",
    "    if normed_action == 0:\n",
    "        return 'Nothing'\n",
    "    elif normed_action == 1:\n",
    "        return 'Up'\n",
    "    elif normed_action == 2:\n",
    "        return 'Down'"
   ]
  },
  {
   "cell_type": "markdown",
   "metadata": {},
   "source": [
    "Refines the observation to essential features"
   ]
  },
  {
   "cell_type": "code",
   "execution_count": 9,
   "metadata": {
    "collapsed": true
   },
   "outputs": [],
   "source": [
    "def refine_observation(observation):\n",
    "    res_img = observation[34:192, 1:-1].mean(2)\n",
    "    res_img[res_img < 100] = 0\n",
    "    res_img[res_img > 100] = 255\n",
    "\n",
    "    white_pos = np.where(res_img == 255)\n",
    "    l_cols = (white_pos[1] > 14) & (white_pos[1] < 19)\n",
    "    if np.any(l_cols):\n",
    "        l_y = white_pos[0][np.where(l_cols)].mean()\n",
    "    else:\n",
    "        l_y = 0\n",
    "\n",
    "    r_cols = (white_pos[1] > 138) & (white_pos[1] < 143)\n",
    "    if np.any(r_cols):\n",
    "        r_y = white_pos[0][np.where(r_cols)].mean()\n",
    "    else:\n",
    "        r_y = 0\n",
    "\n",
    "    b_cols = ~l_cols & ~r_cols\n",
    "    if np.any(b_cols):\n",
    "        b_x = white_pos[1][np.where(b_cols)].mean()\n",
    "        b_y = white_pos[0][np.where(b_cols)].mean()\n",
    "    else:\n",
    "        b_x = 0\n",
    "        b_y = 0\n",
    "\n",
    "    return np.array([l_y, r_y, b_x, b_y]) / 79 - 1"
   ]
  },
  {
   "cell_type": "markdown",
   "metadata": {},
   "source": [
    "Returns an image representation of the refined observation"
   ]
  },
  {
   "cell_type": "code",
   "execution_count": 10,
   "metadata": {
    "collapsed": true
   },
   "outputs": [],
   "source": [
    "def paint_observation(refined_observation):\n",
    "    obs = (refined_observation + 1) * 79\n",
    "    obs_centre = np.ceil(obs).astype('int')\n",
    "\n",
    "    img = np.zeros((158, 158))\n",
    "\n",
    "    l_y_l, r_y_l, b_x_l, b_y_l = np.maximum(0, obs_centre - [8, 8, 1, 2])\n",
    "    l_y_h, r_y_h, b_x_h, b_y_h = np.minimum(158, obs_centre + [8, 8, 1, 2])\n",
    "\n",
    "    img[l_y_l:l_y_h, 15:19] = 255\n",
    "    img[r_y_l:r_y_h, 139:143] = 255\n",
    "    img[b_y_l:b_y_h, b_x_l:b_x_h] = 255\n",
    "    return img"
   ]
  },
  {
   "cell_type": "markdown",
   "metadata": {},
   "source": [
    "# Create Network"
   ]
  },
  {
   "cell_type": "code",
   "execution_count": 75,
   "metadata": {
    "collapsed": true
   },
   "outputs": [],
   "source": [
    "class PolicyNet(nn.Module):\n",
    "    def __init__(self):\n",
    "        super(PolicyNet, self).__init__()\n",
    "        #self.conv1 = nn.Conv2d(3, 4, (3,3), padding=1, stride=2)\n",
    "        #self.conv2 = nn.Conv2d(4, 8, (3,3), padding=1, stride=2)\n",
    "        #self.conv3 = nn.Conv2d(8, 16, (3,3), padding=1, stride=2)\n",
    "        #self.conv4 = nn.Conv2d(16, 32, (3,3), padding=1, stride=2)\n",
    "        #self.conv5 = nn.Conv2d(32, 64, (3,3), padding=1, stride=2)\n",
    "        #self.fc1 = nn.Linear(2, 1)#nn.Linear(64*7*5, 3)\n",
    "        self.fc2 = nn.Linear(4, 3, bias=False)\n",
    "        \n",
    "    def forward(self, x):\n",
    "        #print(x.size())\n",
    "        #x = F.relu(self.conv1(x))\n",
    "        #print(x.size())\n",
    "        #x = F.relu(self.conv2(x))\n",
    "        #print(x.size())\n",
    "        #x = F.relu(self.conv3(x))\n",
    "        #print(x.size())\n",
    "        #x = F.relu(self.conv4(x))\n",
    "        #print(x.size())\n",
    "        #x = F.relu(self.conv5(x))\n",
    "        #print(x.size())\n",
    "        #x = F.relu(self.fc1(x.view(-1,4)))#F.softmax(self.fc1(x.view(-1,64*7*5)))\n",
    "        #print(x.size())\n",
    "        x = self.fc2(x)\n",
    "        #print(x.size())\n",
    "        return x.squeeze()"
   ]
  },
  {
   "cell_type": "code",
   "execution_count": 105,
   "metadata": {
    "collapsed": true
   },
   "outputs": [],
   "source": [
    "policy_net=PolicyNet().cuda()\n",
    "policy_optimizer = optim.SGD(policy_net.parameters(), lr=1e-3)"
   ]
  },
  {
   "cell_type": "code",
   "execution_count": 106,
   "metadata": {},
   "outputs": [
    {
     "data": {
      "text/plain": [
       "[Parameter containing:\n",
       " -0.4150 -0.2023 -0.2794 -0.4473\n",
       "  0.1899 -0.2651 -0.4665  0.3427\n",
       "  0.0820 -0.1526  0.4981  0.2589\n",
       " [torch.cuda.FloatTensor of size 3x4 (GPU 0)]]"
      ]
     },
     "execution_count": 106,
     "metadata": {},
     "output_type": "execute_result"
    }
   ],
   "source": [
    "list(policy_net.parameters())"
   ]
  },
  {
   "cell_type": "markdown",
   "metadata": {},
   "source": [
    "# Train Network"
   ]
  },
  {
   "cell_type": "code",
   "execution_count": 111,
   "metadata": {
    "collapsed": true
   },
   "outputs": [],
   "source": [
    "history = {'reward':[]}"
   ]
  },
  {
   "cell_type": "code",
   "execution_count": 107,
   "metadata": {
    "collapsed": true
   },
   "outputs": [],
   "source": [
    "def optimize(episodes=1, discount=1e-2):\n",
    "    for episode in tqdm_notebook(range(episodes)):\n",
    "        observation = env.reset()\n",
    "        actions = []\n",
    "        actions_taken = []\n",
    "        reward = 0\n",
    "        points_played = 0\n",
    "        done = False\n",
    "        steps=0\n",
    "        while not done:\n",
    "            #actions.append(policy_net(Variable(torch.FloatTensor(np.stack([np.transpose(observations[-1], [2,0,1]).astype('float64')]))).cuda()))\n",
    "            actions.append(policy_net(Variable(torch.FloatTensor(refine_observation(observation))).cuda()))\n",
    "            actions_taken.append(np.random.choice(range(0,3),p=F.softmax(actions[-1]).data.cpu().numpy()))\n",
    "            #actions.append(policy_net(Variable(torch.FloatTensor(refine_observation(observations[-1])[1::2])).cuda()))\n",
    "            observation, r, done, _ = env.step(denorm_action((actions_taken[-1])))\n",
    "            if r!=0:\n",
    "                reward += r# * (1 + 1/(1+steps))\n",
    "                steps=0\n",
    "            steps +=1\n",
    "            \n",
    "            if r != 0:\n",
    "                for t, act in enumerate(actions[-1:1:-1]):\n",
    "                    policy_optimizer.zero_grad()\n",
    "                    back_grads = torch.zeros(3)\n",
    "                    back_grads[actions_taken[-1-t]] = -r * (1-discount)**t\n",
    "                    act.backward(back_grads.cuda())\n",
    "                    policy_optimizer.step()\n",
    "                actions = []\n",
    "                points_played+=1\n",
    "        \n",
    "        history['reward'].append(reward / points_played)"
   ]
  },
  {
   "cell_type": "code",
   "execution_count": 115,
   "metadata": {},
   "outputs": [
    {
     "data": {
      "application/vnd.jupyter.widget-view+json": {
       "model_id": "a13b47bcd0ee406db1a45fd285d8c23d"
      }
     },
     "metadata": {},
     "output_type": "display_data"
    },
    {
     "name": "stdout",
     "output_type": "stream",
     "text": [
      "\n"
     ]
    }
   ],
   "source": [
    "optimize(60)"
   ]
  },
  {
   "cell_type": "code",
   "execution_count": 116,
   "metadata": {},
   "outputs": [
    {
     "data": {
      "image/png": "[encoded data removed]",
      "text/plain": [
       "<matplotlib.figure.Figure at 0x7fe8d27afeb8>"
      ]
     },
     "metadata": {},
     "output_type": "display_data"
    }
   ],
   "source": [
    "smooth_plot(history, remove_outlier=False)"
   ]
  },
  {
   "cell_type": "markdown",
   "metadata": {},
   "source": [
    "# Test Model"
   ]
  },
  {
   "cell_type": "code",
   "execution_count": 45,
   "metadata": {
    "collapsed": true
   },
   "outputs": [],
   "source": [
    "def run_env(num_points=-1, flags=[]):\n",
    "    points_played = 0\n",
    "    reward = 0\n",
    "\n",
    "    observation = env.reset()\n",
    "    while True:\n",
    "        if 'render' in flags:\n",
    "            env.render()\n",
    "        \n",
    "        #action = policy_net(Variable(torch.FloatTensor(np.stack([np.transpose(observation, [2,0,1]).astype('float64')]))).cuda())\n",
    "        action = policy_net(Variable(torch.FloatTensor(refine_observation(observation))).cuda())\n",
    "        #print(action.data.cpu().numpy())\n",
    "        action = np.random.choice(range(0,3),p=F.softmax(action).data.cpu().numpy())\n",
    "        #action = (action.data.cpu().numpy() > 0) + 1\n",
    "            \n",
    "        observation, r, done, _ = env.step(denorm_action(action))\n",
    "        reward += r\n",
    "        \n",
    "        if 'verbose' in flags:\n",
    "            print(\"Point:{}, Reward: {}, Action: {}\".format(\n",
    "                1 + points_played, np.round(reward / (1 + points_played), 2), meaning(action), end='\\r', flush=True))\n",
    "        if r != 0:\n",
    "            points_played += 1\n",
    "            if points_played == num_points:\n",
    "                break\n",
    "\n",
    "        if done:\n",
    "            break\n",
    "\n",
    "    return reward / points_played"
   ]
  },
  {
   "cell_type": "code",
   "execution_count": null,
   "metadata": {},
   "outputs": [],
   "source": [
    "run_env(5, 'render')"
   ]
  },
  {
   "cell_type": "markdown",
   "metadata": {
    "heading_collapsed": true
   },
   "source": [
    "# Predictor Network"
   ]
  },
  {
   "cell_type": "markdown",
   "metadata": {
    "heading_collapsed": true,
    "hidden": true
   },
   "source": [
    "## Prepare Data"
   ]
  },
  {
   "cell_type": "code",
   "execution_count": null,
   "metadata": {
    "collapsed": true,
    "hidden": true
   },
   "outputs": [],
   "source": [
    "def get_observations(t=None):\n",
    "    env.reset()\n",
    "    done = False\n",
    "    observations = []\n",
    "    rewards = []\n",
    "    actions = []\n",
    "    while True:\n",
    "        action = randint(1, 3)\n",
    "        observation, reward, done, _ = env.step(denorm_action(action))\n",
    "        observations.append(refine_observation(observation))\n",
    "        rewards.append(reward)\n",
    "        actions.append(action - 1)\n",
    "        if done:\n",
    "            if t is None:\n",
    "                break\n",
    "            elif len(observations) > t:\n",
    "                break\n",
    "            else:\n",
    "                env.reset()\n",
    "    return observations, rewards, actions"
   ]
  },
  {
   "cell_type": "code",
   "execution_count": null,
   "metadata": {
    "collapsed": true,
    "hidden": true
   },
   "outputs": [],
   "source": [
    "train_observations, _, train_actions = get_observations(1e4)\n",
    "train_actions = to_categorical(train_actions)\n",
    "y_train = np.stack([np.stack(train_observations[i])\n",
    "                    for i in range(5, len(train_observations) - 1)])\n",
    "train_observations = np.stack(\n",
    "    [np.hstack([obs, act]) for obs, act in zip(train_observations, train_actions)])\n",
    "x_train = np.stack([train_observations[i:i + 5]\n",
    "                    for i in range(len(train_observations) - 5 - 1)])"
   ]
  },
  {
   "cell_type": "code",
   "execution_count": null,
   "metadata": {
    "collapsed": true,
    "hidden": true
   },
   "outputs": [],
   "source": [
    "valid_observations, _, valid_actions = get_observations(\n",
    "    int(0.2 * len(train_observations)))\n",
    "valid_actions = to_categorical(valid_actions)\n",
    "y_valid = np.stack([np.stack(valid_observations[i])\n",
    "                    for i in range(5, len(valid_observations) - 1)])\n",
    "valid_observations = np.stack(\n",
    "    [np.hstack([obs, act]) for obs, act in zip(valid_observations, valid_actions)])\n",
    "x_valid = np.stack([valid_observations[i:i + 5]\n",
    "                    for i in range(len(valid_observations) - 5 - 1)])"
   ]
  },
  {
   "cell_type": "code",
   "execution_count": null,
   "metadata": {
    "collapsed": true,
    "hidden": true
   },
   "outputs": [],
   "source": [
    "x_train.shape, y_train.shape"
   ]
  },
  {
   "cell_type": "code",
   "execution_count": null,
   "metadata": {
    "collapsed": true,
    "hidden": true
   },
   "outputs": [],
   "source": [
    "x_valid.shape, y_valid.shape"
   ]
  },
  {
   "cell_type": "markdown",
   "metadata": {
    "heading_collapsed": true,
    "hidden": true
   },
   "source": [
    "## Create Network"
   ]
  },
  {
   "cell_type": "code",
   "execution_count": null,
   "metadata": {
    "collapsed": true,
    "hidden": true
   },
   "outputs": [],
   "source": [
    "clear_session()\n",
    "predictor = Sequential([BatchNormalization(axis=1, input_shape=(5, 6)),\n",
    "                        LSTM(16),\n",
    "                        Dense(4, activation='tanh')])\n",
    "predictor.summary()"
   ]
  },
  {
   "cell_type": "code",
   "execution_count": null,
   "metadata": {
    "collapsed": true,
    "hidden": true
   },
   "outputs": [],
   "source": [
    "predictor.compile('adam', 'mse')"
   ]
  },
  {
   "cell_type": "markdown",
   "metadata": {
    "heading_collapsed": true,
    "hidden": true
   },
   "source": [
    "## Train Network"
   ]
  },
  {
   "cell_type": "code",
   "execution_count": null,
   "metadata": {
    "collapsed": true,
    "hidden": true
   },
   "outputs": [],
   "source": [
    "def fit_predictor(epochs=1, lr=1e-3):\n",
    "    if exists(DIR_OUTPUT + '/predictor.h5'):\n",
    "        predictor.load_weights(DIR_OUTPUT + '/predictor.h5')\n",
    "\n",
    "    predictor.optimizer.lr = lr\n",
    "    hist = predictor.fit(x_train, y_train, batch_size=256, epochs=epochs, verbose=0, callbacks=[\n",
    "        TQDMNotebookCallback()], validation_data=(x_valid, y_valid))\n",
    "    predictor.save_weights(DIR_OUTPUT + '/predictor.h5')\n",
    "    return hist"
   ]
  },
  {
   "cell_type": "code",
   "execution_count": null,
   "metadata": {
    "collapsed": true,
    "hidden": true
   },
   "outputs": [],
   "source": [
    "hist = fit_predictor(60, 1e-4)"
   ]
  },
  {
   "cell_type": "code",
   "execution_count": null,
   "metadata": {
    "collapsed": true,
    "hidden": true
   },
   "outputs": [],
   "source": [
    "smooth_plot(hist.history, flags='retain')\n",
    "np.array(hist.history['loss']\n",
    "         )[-10:].mean(), np.array(hist.history['val_loss'])[-10:].mean()"
   ]
  },
  {
   "cell_type": "markdown",
   "metadata": {
    "heading_collapsed": true,
    "hidden": true
   },
   "source": [
    "## Test Network"
   ]
  },
  {
   "cell_type": "code",
   "execution_count": null,
   "metadata": {
    "collapsed": true,
    "hidden": true
   },
   "outputs": [],
   "source": [
    "n = 50\n",
    "m = 100"
   ]
  },
  {
   "cell_type": "code",
   "execution_count": null,
   "metadata": {
    "collapsed": true,
    "hidden": true
   },
   "outputs": [],
   "source": [
    "sample_observations, _, sample_actions = get_observations(n + m)"
   ]
  },
  {
   "cell_type": "code",
   "execution_count": null,
   "metadata": {
    "collapsed": true,
    "hidden": true
   },
   "outputs": [],
   "source": [
    "sample_actions = to_categorical(sample_actions)\n",
    "sample_observations = [np.hstack([obs, act]) for obs, act in zip(\n",
    "    sample_observations, sample_actions)]"
   ]
  },
  {
   "cell_type": "code",
   "execution_count": null,
   "metadata": {
    "collapsed": true,
    "hidden": true
   },
   "outputs": [],
   "source": [
    "predicted_observations = sample_observations[:n]"
   ]
  },
  {
   "cell_type": "code",
   "execution_count": null,
   "metadata": {
    "collapsed": true,
    "hidden": true
   },
   "outputs": [],
   "source": [
    "for _ in range(m):\n",
    "    predicted_observation = np.zeros(6)\n",
    "    predicted_observation[:4] = predictor.predict(\n",
    "        np.stack([np.stack(predicted_observations[-5:])])).squeeze()\n",
    "    predicted_observation[randint(4, 6)] = 1\n",
    "    predicted_observations.append(predicted_observation)"
   ]
  },
  {
   "cell_type": "code",
   "execution_count": null,
   "metadata": {
    "collapsed": true,
    "hidden": true,
    "scrolled": true
   },
   "outputs": [],
   "source": [
    "gifsave(DIR_OUTPUT + '/future.gif', [merge(np.stack([paint_observation(obs[:4]), paint_observation(\n",
    "    pred[:4])]), (2, 1)).squeeze() for obs, pred in zip(sample_observations, predicted_observations)], 'gif')"
   ]
  },
  {
   "cell_type": "markdown",
   "metadata": {
    "heading_collapsed": true
   },
   "source": [
    "# Reward Network"
   ]
  },
  {
   "cell_type": "markdown",
   "metadata": {
    "heading_collapsed": true,
    "hidden": true
   },
   "source": [
    "## Prepare Data"
   ]
  },
  {
   "cell_type": "code",
   "execution_count": null,
   "metadata": {
    "collapsed": true,
    "hidden": true
   },
   "outputs": [],
   "source": [
    "def prepare_reward_data(t=None):\n",
    "    train_observations, train_rewards, train_actions = get_observations(t)\n",
    "    train_actions = to_categorical(train_actions)\n",
    "    train_observations = np.stack([np.hstack([obs, act]) for obs, act in zip(train_observations, train_actions)])\n",
    "    train_rewards = np.stack(train_rewards)\n",
    "\n",
    "    train_reward_neg_idx = np.where(train_rewards == -1)[0]\n",
    "    train_reward_neut_idx = np.where(train_rewards != -1)[0]\n",
    "    train_reward_neut_idx = train_reward_neut_idx[randint(\n",
    "        5, len(train_reward_neut_idx - 5), len(train_reward_neg_idx))]\n",
    "\n",
    "    \n",
    "    x_train_neg = np.stack([np.stack(train_observations[i - 4:i + 1])\n",
    "                            for i in train_reward_neg_idx])\n",
    "    x_train_neut = np.stack([np.stack(train_observations[i - 4:i + 1])\n",
    "                             for i in train_reward_neut_idx])\n",
    "    x_train = np.vstack([x_train_neg, x_train_neut])\n",
    "\n",
    "    y_train = np.zeros((len(x_train_neg) * 2))\n",
    "    y_train[:len(x_train_neg)] = 1\n",
    "\n",
    "    return x_train, y_train"
   ]
  },
  {
   "cell_type": "code",
   "execution_count": null,
   "metadata": {
    "collapsed": true,
    "hidden": true
   },
   "outputs": [],
   "source": [
    "x_train, y_train = prepare_reward_data(1e4)"
   ]
  },
  {
   "cell_type": "code",
   "execution_count": null,
   "metadata": {
    "collapsed": true,
    "hidden": true
   },
   "outputs": [],
   "source": [
    "x_valid, y_valid = prepare_reward_data(2e3)"
   ]
  },
  {
   "cell_type": "code",
   "execution_count": null,
   "metadata": {
    "collapsed": true,
    "hidden": true
   },
   "outputs": [],
   "source": [
    "x_train.shape, y_train.shape"
   ]
  },
  {
   "cell_type": "code",
   "execution_count": null,
   "metadata": {
    "collapsed": true,
    "hidden": true
   },
   "outputs": [],
   "source": [
    "x_valid.shape, y_valid.shape"
   ]
  },
  {
   "cell_type": "markdown",
   "metadata": {
    "heading_collapsed": true,
    "hidden": true
   },
   "source": [
    "## Create Network"
   ]
  },
  {
   "cell_type": "code",
   "execution_count": null,
   "metadata": {
    "collapsed": true,
    "hidden": true
   },
   "outputs": [],
   "source": [
    "pred_input = predictor.input\n",
    "hidden = predictor.layers[1].output\n",
    "pred_reward = Dense(1, activation='sigmoid')(hidden)\n",
    "rewarder = Model(pred_input, pred_reward)\n",
    "\n",
    "for layer in rewarder.layers[:-1]:\n",
    "    layer.trainable = False\n",
    "    \n",
    "rewarder.summary()"
   ]
  },
  {
   "cell_type": "code",
   "execution_count": null,
   "metadata": {
    "collapsed": true,
    "hidden": true
   },
   "outputs": [],
   "source": [
    "rewarder.compile('adam', 'binary_crossentropy')"
   ]
  },
  {
   "cell_type": "markdown",
   "metadata": {
    "heading_collapsed": true,
    "hidden": true
   },
   "source": [
    "## Train Network"
   ]
  },
  {
   "cell_type": "code",
   "execution_count": null,
   "metadata": {
    "collapsed": true,
    "hidden": true
   },
   "outputs": [],
   "source": [
    "def fit_rewarder(epochs=1, lr=1e-3):\n",
    "    if exists(DIR_OUTPUT + '/rewarder.h5'):\n",
    "        rewarder.load_weights(DIR_OUTPUT + '/rewarder.h5')\n",
    "\n",
    "    rewarder.optimizer.lr = lr\n",
    "    hist = rewarder.fit(x_train, y_train, batch_size=256, epochs=epochs, verbose=0, callbacks=[\n",
    "    TQDMNotebookCallback()], validation_data=(x_valid, y_valid))\n",
    "    rewarder.save_weights(DIR_OUTPUT + '/rewarder.h5')\n",
    "    return hist"
   ]
  },
  {
   "cell_type": "code",
   "execution_count": null,
   "metadata": {
    "collapsed": true,
    "hidden": true
   },
   "outputs": [],
   "source": [
    "hist = fit_rewarder(250, 1e-5)"
   ]
  },
  {
   "cell_type": "code",
   "execution_count": null,
   "metadata": {
    "collapsed": true,
    "hidden": true
   },
   "outputs": [],
   "source": [
    "smooth_plot(hist.history, flags='retain')\n",
    "np.array(hist.history['loss']\n",
    "         )[-10:].mean(), np.array(hist.history['val_loss'])[-10:].mean()"
   ]
  },
  {
   "cell_type": "markdown",
   "metadata": {
    "heading_collapsed": true,
    "hidden": true
   },
   "source": [
    "## Test Network"
   ]
  },
  {
   "cell_type": "code",
   "execution_count": null,
   "metadata": {
    "collapsed": true,
    "hidden": true
   },
   "outputs": [],
   "source": [
    "n = 300"
   ]
  },
  {
   "cell_type": "code",
   "execution_count": null,
   "metadata": {
    "collapsed": true,
    "hidden": true
   },
   "outputs": [],
   "source": [
    "sample_observations, _, sample_actions = get_observations(n)\n",
    "pred_rewards = []\n",
    "reward_bars = [np.zeros((3, 158))] * 4"
   ]
  },
  {
   "cell_type": "code",
   "execution_count": null,
   "metadata": {
    "collapsed": true,
    "hidden": true
   },
   "outputs": [],
   "source": [
    "sample_actions = to_categorical(sample_actions)\n",
    "sample_observations = np.stack([np.hstack([obs, act]) for obs, act in zip(sample_observations, sample_actions)])"
   ]
  },
  {
   "cell_type": "code",
   "execution_count": null,
   "metadata": {
    "collapsed": true,
    "hidden": true
   },
   "outputs": [],
   "source": [
    "for i in range(5, n):\n",
    "    pred_reward = rewarder.predict(\n",
    "        np.stack([np.stack(sample_observations[i - 5:i])])).squeeze()\n",
    "    pred_rewards.append(pred_reward)\n",
    "    reward_bar = np.zeros((3, 158))\n",
    "    reward_bar[:, :int(pred_reward * 158)] = 255\n",
    "    reward_bars.append(reward_bar)"
   ]
  },
  {
   "cell_type": "code",
   "execution_count": null,
   "metadata": {
    "collapsed": true,
    "hidden": true
   },
   "outputs": [],
   "source": [
    "plot(pred_rewards)"
   ]
  },
  {
   "cell_type": "code",
   "execution_count": null,
   "metadata": {
    "collapsed": true,
    "hidden": true
   },
   "outputs": [],
   "source": [
    "gifsave(DIR_OUTPUT + '/reward.gif', [np.vstack([reward_bar, paint_observation(obs[:4])])\n",
    "                                     for reward_bar, obs in zip(reward_bars, sample_observations)], 'gif')"
   ]
  },
  {
   "cell_type": "markdown",
   "metadata": {
    "heading_collapsed": true
   },
   "source": [
    "# Use network to plan"
   ]
  },
  {
   "cell_type": "code",
   "execution_count": null,
   "metadata": {
    "collapsed": true,
    "hidden": true
   },
   "outputs": [],
   "source": [
    "def get_predicted_observations(observations, num_steps=5, actions=None):\n",
    "    if actions is None:\n",
    "        actions = np.random.multinomial(1,[0.5]*2,num_steps)\n",
    "        \n",
    "    predicted_observations=observations[:]\n",
    "    for i in range(num_steps):\n",
    "        predicted_observation = np.zeros(6)\n",
    "        predicted_observation[:4] = predictor.predict(\n",
    "            np.stack([np.stack(predicted_observations[-num_steps:])])).squeeze()\n",
    "        predicted_observation[-2:] = actions[i]\n",
    "        predicted_observations.append(predicted_observation)\n",
    "        \n",
    "    return predicted_observations[-num_steps:]"
   ]
  },
  {
   "cell_type": "code",
   "execution_count": null,
   "metadata": {
    "collapsed": true,
    "hidden": true
   },
   "outputs": [],
   "source": [
    "env.reset()\n",
    "observations=[]\n",
    "for _ in range(30): \n",
    "    observations.append(np.hstack([refine_observation(env.step(denorm_action(0))[0]), randint(0,1,2)]))"
   ]
  },
  {
   "cell_type": "code",
   "execution_count": null,
   "metadata": {
    "collapsed": true,
    "hidden": true,
    "scrolled": true
   },
   "outputs": [],
   "source": [
    "for obs in observations[-5:]:\n",
    "    plot_image(paint_observation(obs[:4]), pixel_range=(0,255))\n",
    "for obs in get_predicted_observations(observations):\n",
    "    plot_image(paint_observation(obs[:4]), pixel_range=(0,255))"
   ]
  },
  {
   "cell_type": "code",
   "execution_count": null,
   "metadata": {
    "collapsed": true,
    "hidden": true
   },
   "outputs": [],
   "source": [
    "def get_policy(observations, num_steps=5, it_range=5, strength=1):\n",
    "    actions = np.random.multinomial(1,[0.5]*2,num_steps).astype('float64')\n",
    "    predicted_observations=get_predicted_observations(observations, num_steps, actions)\n",
    "    \n",
    "    input_x = rewarder.input\n",
    "    pred_reward = rewarder.output\n",
    "    \n",
    "    loss = pred_reward[0]\n",
    "    grads = K.gradients(loss, input_x)[0][0, :, :2]\n",
    "    \n",
    "    iterate = K.function([input_x, K.learning_phase()], [loss, grads])\n",
    "    \n",
    "    for _ in range(it_range):\n",
    "        for i in range(num_steps):\n",
    "            predicted_observations=get_predicted_observations(observations, num_steps, actions)\n",
    "        loss_value, grads_value = iterate([np.stack([np.stack(predicted_observations)]), False])\n",
    "        print(loss_value[0], grads_value.mean())\n",
    "        actions -= grads_value * strength\n",
    "        \n",
    "    return actions.argmax(1)"
   ]
  },
  {
   "cell_type": "code",
   "execution_count": null,
   "metadata": {
    "collapsed": true,
    "hidden": true
   },
   "outputs": [],
   "source": [
    "get_policy(observations)"
   ]
  },
  {
   "cell_type": "code",
   "execution_count": null,
   "metadata": {
    "collapsed": true,
    "hidden": true
   },
   "outputs": [],
   "source": [
    "def run_env(num_points=-1, flags=[]):\n",
    "    points_played = 0\n",
    "    reward = 0\n",
    "    start_time = time()\n",
    "\n",
    "    observations = []\n",
    "    env.reset()\n",
    "    while True:\n",
    "        if 'render' in flags:\n",
    "            env.render()\n",
    "        \n",
    "        if len(observations) < 5:\n",
    "            action = randint(1,3)\n",
    "        else:\n",
    "            action = get_policy(observations)[0]\n",
    "            \n",
    "        observation, r, done, _ = env.step(denorm_action(action))\n",
    "        reward += r\n",
    "        \n",
    "        observations.append(np.hstack([refine_observation(observation), to_categorical(action-1, 2).squeeze()]))\n",
    "        \n",
    "        if 'verbose' in flags:\n",
    "            print(\"Point:{}, Reward: {}, Action: {}, Time: {}s\".format(\n",
    "                1 + points_played, np.round(reward / (1 + points_played), 2), meaning(action), int(time() - start_time)), end='\\r', flush=True)\n",
    "        if r != 0:\n",
    "            points_played += 1\n",
    "            if points_played == num_points:\n",
    "                break\n",
    "\n",
    "        if done:\n",
    "            break\n",
    "\n",
    "    return reward / points_played"
   ]
  },
  {
   "cell_type": "code",
   "execution_count": null,
   "metadata": {
    "collapsed": true,
    "hidden": true
   },
   "outputs": [],
   "source": [
    "run_env(1, 'verbose')"
   ]
  }
 ],
 "metadata": {
  "kernelspec": {
   "display_name": "Python 3",
   "language": "python",
   "name": "python3"
  },
  "language_info": {
   "codemirror_mode": {
    "name": "ipython",
    "version": 3
   },
   "file_extension": ".py",
   "mimetype": "text/x-python",
   "name": "python",
   "nbconvert_exporter": "python",
   "pygments_lexer": "ipython3",
   "version": "3.6.1"
  }
 },
 "nbformat": 4,
 "nbformat_minor": 2
}

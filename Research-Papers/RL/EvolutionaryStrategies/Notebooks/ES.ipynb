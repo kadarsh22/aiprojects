{
 "cells": [
  {
   "cell_type": "code",
   "execution_count": null,
   "metadata": {},
   "outputs": [
    {
     "name": "stdout",
     "output_type": "stream",
     "text": [
      "Iteration:705, Time: 0.94s, Error: 46.784462765913665\r"
     ]
    }
   ],
   "source": [
    "# simple example: minimize a quadratic around some solution point\n",
    "import numpy as np\n",
    "from time import time\n",
    "dim = 100\n",
    "solution = np.random.randn(dim)\n",
    "\n",
    "\n",
    "def f(w): return -np.sum((w - solution)**2)\n",
    "\n",
    "\n",
    "npop = 50      # population size\n",
    "sigma = 0.1    # noise standard deviation\n",
    "alpha = 0.001  # learning rate\n",
    "w = np.random.randn(dim)  # initial guess\n",
    "i = 0\n",
    "start_time = time()\n",
    "while time() - start_time < 10:\n",
    "    N = np.random.randn(npop, dim)\n",
    "    R = np.zeros(npop)\n",
    "    for j in range(npop):\n",
    "        w_try = w + sigma * N[j]\n",
    "        R[j] = f(w_try)\n",
    "    A = (R - np.mean(R)) / np.std(R)\n",
    "    w = w + alpha / (npop * sigma) * np.dot(N.T, A)\n",
    "    error = ((w - solution)**2).sum()\n",
    "    i += 1\n",
    "    print(\"Iteration:{}, Time: {}s, Error: {}\".format(\n",
    "        i, np.round(time() - start_time,2), error), end='\\r', flush=True)"
   ]
  }
 ],
 "metadata": {
  "anaconda-cloud": {},
  "kernelspec": {
   "display_name": "Python [default]",
   "language": "python",
   "name": "python3"
  },
  "language_info": {
   "codemirror_mode": {
    "name": "ipython",
    "version": 3
   },
   "file_extension": ".py",
   "mimetype": "text/x-python",
   "name": "python",
   "nbconvert_exporter": "python",
   "pygments_lexer": "ipython3",
   "version": "3.6.4"
  }
 },
 "nbformat": 4,
 "nbformat_minor": 2
}

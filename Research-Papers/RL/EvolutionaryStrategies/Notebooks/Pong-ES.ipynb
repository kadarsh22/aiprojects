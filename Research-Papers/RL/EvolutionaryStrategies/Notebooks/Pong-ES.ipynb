{
 "cells": [
  {
   "cell_type": "code",
   "execution_count": 1,
   "metadata": {
    "collapsed": true
   },
   "outputs": [],
   "source": [
    "import gym\n",
    "from vaiutils import plot_image, path_consts\n",
    "from scipy.misc import imresize\n",
    "from time import time\n",
    "from tqdm import tqdm_notebook\n",
    "from os.path import exists"
   ]
  },
  {
   "cell_type": "code",
   "execution_count": 2,
   "metadata": {},
   "outputs": [
    {
     "name": "stderr",
     "output_type": "stream",
     "text": [
      "Using TensorFlow backend.\n"
     ]
    }
   ],
   "source": [
    "from keras.models import Sequential\n",
    "from keras.layers import Conv2D, Dense, Flatten\n",
    "from keras.backend import clear_session"
   ]
  },
  {
   "cell_type": "code",
   "execution_count": 3,
   "metadata": {
    "collapsed": true
   },
   "outputs": [],
   "source": [
    "for k, v in path_consts('Pong-ES'):\n",
    "    exec(k + '=v')"
   ]
  },
  {
   "cell_type": "code",
   "execution_count": 4,
   "metadata": {},
   "outputs": [
    {
     "name": "stderr",
     "output_type": "stream",
     "text": [
      "[2017-09-10 07:36:52,251] Making new env: Pong-v0\n"
     ]
    }
   ],
   "source": [
    "env = gym.make('Pong-v0')"
   ]
  },
  {
   "cell_type": "code",
   "execution_count": 5,
   "metadata": {},
   "outputs": [
    {
     "data": {
      "text/plain": [
       "['NOOP', 'FIRE', 'RIGHT', 'LEFT', 'RIGHTFIRE', 'LEFTFIRE']"
      ]
     },
     "execution_count": 5,
     "metadata": {},
     "output_type": "execute_result"
    }
   ],
   "source": [
    "env.unwrapped.get_action_meanings()"
   ]
  },
  {
   "cell_type": "code",
   "execution_count": 6,
   "metadata": {
    "collapsed": true
   },
   "outputs": [],
   "source": [
    "def norm_action(action):\n",
    "    if action == 0 or action == 1:\n",
    "        return 0\n",
    "    elif action == 2 or action == 4:\n",
    "        return 1\n",
    "    elif action == 3 or action == 5:\n",
    "        return 2"
   ]
  },
  {
   "cell_type": "code",
   "execution_count": 7,
   "metadata": {
    "collapsed": true
   },
   "outputs": [],
   "source": [
    "def denorm_action(action):\n",
    "    if action == 0:\n",
    "        return 0\n",
    "    else:\n",
    "        return action + 1"
   ]
  },
  {
   "cell_type": "code",
   "execution_count": 8,
   "metadata": {
    "collapsed": true
   },
   "outputs": [],
   "source": [
    "def meaning(normed_action):\n",
    "    if normed_action == 0:\n",
    "        return 'Nothing'\n",
    "    elif normed_action == 1:\n",
    "        return 'Up'\n",
    "    elif normed_action == 2:\n",
    "        return 'Down'"
   ]
  },
  {
   "cell_type": "code",
   "execution_count": 9,
   "metadata": {
    "collapsed": true
   },
   "outputs": [],
   "source": [
    "def refine_observation(observation):\n",
    "    res_img = observation[34:192, 1:-1].mean(2)\n",
    "    res_img[res_img < 100] = 0\n",
    "    res_img[res_img > 100] = 255\n",
    "\n",
    "    white_pos = np.where(res_img == 255)\n",
    "    l_cols = (white_pos[1] > 14) & (white_pos[1] < 19)\n",
    "    if np.any(l_cols):\n",
    "        l_y = white_pos[0][np.where(l_cols)].mean()\n",
    "    else:\n",
    "        l_y = 0\n",
    "\n",
    "    r_cols = (white_pos[1] > 138) & (white_pos[1] < 143)\n",
    "    if np.any(r_cols):\n",
    "        r_y = white_pos[0][np.where(r_cols)].mean()\n",
    "    else:\n",
    "        r_y = 0\n",
    "\n",
    "    b_cols = ~l_cols & ~r_cols\n",
    "    if np.any(b_cols):\n",
    "        b_x = white_pos[1][np.where(b_cols)].mean()\n",
    "        b_y = white_pos[0][np.where(b_cols)].mean()\n",
    "    else:\n",
    "        b_x = 0\n",
    "        b_y = 0\n",
    "\n",
    "    return np.array([l_y, r_y, b_x, b_y]) / 79 - 1"
   ]
  },
  {
   "cell_type": "code",
   "execution_count": 10,
   "metadata": {
    "collapsed": true
   },
   "outputs": [],
   "source": [
    "def paint_observation(refined_observation):\n",
    "    obs = (refined_observation + 1) * 79\n",
    "    obs_centre = np.ceil(obs).astype('int')\n",
    "    \n",
    "    img = np.zeros((158,158))\n",
    "    \n",
    "    l_y_l, r_y_l, b_x_l, b_y_l = np.maximum(0, obs_centre-[8,8,1,2])\n",
    "    l_y_h, r_y_h, b_x_h, b_y_h = np.minimum(158, obs_centre+[8,8,1,2])\n",
    "    \n",
    "    img[l_y_l:l_y_h, 15:19] = 255\n",
    "    img[r_y_l:r_y_h, 139:143] = 255\n",
    "    img[b_y_l:b_y_h, b_x_l:b_x_h] = 255\n",
    "    return img"
   ]
  },
  {
   "cell_type": "code",
   "execution_count": 106,
   "metadata": {},
   "outputs": [
    {
     "name": "stdout",
     "output_type": "stream",
     "text": [
      "_________________________________________________________________\n",
      "Layer (type)                 Output Shape              Param #   \n",
      "=================================================================\n",
      "dense_1 (Dense)              (None, 3)                 15        \n",
      "=================================================================\n",
      "Total params: 15\n",
      "Trainable params: 15\n",
      "Non-trainable params: 0\n",
      "_________________________________________________________________\n"
     ]
    }
   ],
   "source": [
    "clear_session()\n",
    "model = Sequential([Dense(3, input_shape=[4], activation='softmax')])\n",
    "model.summary()"
   ]
  },
  {
   "cell_type": "code",
   "execution_count": 75,
   "metadata": {
    "collapsed": true
   },
   "outputs": [],
   "source": [
    "def get_weights(model):\n",
    "    weight_list = []\n",
    "    for layer in model.layers:\n",
    "        if layer.trainable:\n",
    "            for w in layer.get_weights():\n",
    "                weight_list += list(w.reshape(-1))\n",
    "    return np.stack(weight_list)"
   ]
  },
  {
   "cell_type": "code",
   "execution_count": 13,
   "metadata": {
    "collapsed": true
   },
   "outputs": [],
   "source": [
    "def set_weights(model, weights):\n",
    "    idx = 0\n",
    "    for layer in model.layers:\n",
    "        if layer.trainable:\n",
    "            layer_weight_length = layer.count_params()\n",
    "            if layer_weight_length == 0:\n",
    "                continue\n",
    "            layer_weights = weights[idx:idx + layer_weight_length]\n",
    "            idx += layer_weight_length\n",
    "\n",
    "            layer_idx = 0\n",
    "            weight_params = []\n",
    "            for w in layer.get_weights():\n",
    "                weight_params.append(\n",
    "                    layer_weights[layer_idx:layer_idx + w.size].reshape(w.shape))\n",
    "                layer_idx += w.size\n",
    "\n",
    "            layer.set_weights(weight_params)"
   ]
  },
  {
   "cell_type": "code",
   "execution_count": 65,
   "metadata": {
    "collapsed": true,
    "scrolled": false
   },
   "outputs": [],
   "source": [
    "def run_env(model, num_points=-1, flags=[]):\n",
    "    points_played = 0\n",
    "    reward = 0\n",
    "    start_time = time()\n",
    "\n",
    "    observation = env.reset()\n",
    "    steps = 0\n",
    "    while True:\n",
    "        if 'render' in flags:\n",
    "            env.render()\n",
    "        #action = (model.predict(refine_observation(\n",
    "            #observation)[1::2][np.newaxis, :]) > 0.5).astype('int') + 1\n",
    "        action = np.random.choice(range(3), p=model.predict(refine_observation(\n",
    "            observation)[np.newaxis, :])[0])\n",
    "        observation, r, done, _ = env.step(denorm_action(action))\n",
    "        if r != 0:\n",
    "            reward += r * (1 + 100/(1+steps/10))\n",
    "            steps = 0\n",
    "        steps += 1\n",
    "        if 'verbose' in flags:\n",
    "            print(\"Point:{}, Reward: {}, Action: {}, Time: {}s\".format(\n",
    "                1 + points_played, np.round(reward / (1 + points_played), 2), meaning(action), int(time() - start_time)), end='\\r', flush=True)\n",
    "        if r != 0:\n",
    "            points_played += 1\n",
    "            if points_played == num_points:\n",
    "                break\n",
    "\n",
    "        if done:\n",
    "            break\n",
    "\n",
    "    return reward / points_played"
   ]
  },
  {
   "cell_type": "code",
   "execution_count": 105,
   "metadata": {
    "collapsed": true
   },
   "outputs": [],
   "source": [
    "def evolve(model, epochs=1, duration=np.inf, population_size=50, sigma=1e-1, lr=1e-3, num_points=-1, flags=[]):\n",
    "    num_weights = model.count_params()\n",
    "    start_time = time()\n",
    "    weights = get_weights(model)\n",
    "    if 'reward_list' in flags:\n",
    "        reward_list = [(0, time() - start_time, run_env(model, num_points))]\n",
    "\n",
    "    if 'verbose' in flags:\n",
    "        epoch_iterator = tqdm_notebook(range(epochs))\n",
    "    else:\n",
    "        epoch_iterator = range(epochs)\n",
    "\n",
    "    for epoch in epoch_iterator:\n",
    "        jitters = np.random.randn(population_size, num_weights)\n",
    "        rewards = np.zeros(population_size)\n",
    "\n",
    "        if 'verbose' in flags:\n",
    "            iterator = enumerate(tqdm_notebook(jitters))\n",
    "        else:\n",
    "            iterator = enumerate(jitters)\n",
    "\n",
    "        for i, epsilon in iterator:\n",
    "            w = weights + sigma * epsilon\n",
    "            set_weights(model, w)\n",
    "            rewards[i] = run_env(model, num_points)\n",
    "\n",
    "        if rewards.std() == 0:\n",
    "            print(\"No improvement!\")\n",
    "            sigma *= 1.5\n",
    "            set_weights(model, weights)\n",
    "            continue\n",
    "\n",
    "        normed_rewards = (rewards - rewards.mean()) / rewards.std()\n",
    "        #weights += lr * rewards.T.dot(normed_rewards) / (population_size * sigma)\n",
    "        weights += sigma * jitters[rewards.argmax()]\n",
    "        set_weights(model, weights)\n",
    "        model.save_weights(DIR_OUTPUT + '/weights.h5')\n",
    "\n",
    "        if 'reward_list' in flags:\n",
    "            reward_list.append((epoch, time() - start_time,\n",
    "                                run_env(model, num_points)))\n",
    "            if 'verbose' in flags:\n",
    "                print(\"Epoch: {}, Time: {}s, Reward: {}\".format(\n",
    "                    epoch, int(reward_list[-1][1]), reward_list[-1][2]))\n",
    "                print(\"Population Reward: min={}, max={}\".format(\n",
    "                    rewards.min(), rewards.max()))\n",
    "        elif 'verbose' in flags:\n",
    "            print(\"Epoch: {}, Time: {}s, Reward: {}\".format(\n",
    "                epoch, int(time() - start_time), run_env(model, num_points)))\n",
    "            print(\"Population Reward: min={}, max={}\".format(\n",
    "                rewards.min(), rewards.max()))\n",
    "\n",
    "        if time() - start_time > duration:\n",
    "            break\n",
    "\n",
    "    return_dict = {}\n",
    "    if 'reward_list' in flags:\n",
    "        return_dict['reward_list'] = reward_list\n",
    "    return return_dict"
   ]
  },
  {
   "cell_type": "code",
   "execution_count": null,
   "metadata": {
    "scrolled": false
   },
   "outputs": [
    {
     "data": {
      "application/vnd.jupyter.widget-view+json": {
       "model_id": "297e5e8cca6b4bc29c3c41d84755b7be"
      }
     },
     "metadata": {},
     "output_type": "display_data"
    },
    {
     "data": {
      "application/vnd.jupyter.widget-view+json": {
       "model_id": "5b8a864ee09d4d33a032fda059edc046"
      }
     },
     "metadata": {},
     "output_type": "display_data"
    },
    {
     "name": "stdout",
     "output_type": "stream",
     "text": [
      "Epoch: 0, Time: 20s, Reward: -16.21101604586178\n",
      "Population Reward: min=-17.817969264777776, max=-11.579502508807517\n"
     ]
    },
    {
     "data": {
      "application/vnd.jupyter.widget-view+json": {
       "model_id": "9699924ffea34baab2542b7a04477232"
      }
     },
     "metadata": {},
     "output_type": "display_data"
    },
    {
     "name": "stdout",
     "output_type": "stream",
     "text": [
      "Epoch: 1, Time: 42s, Reward: -16.07422187049367\n",
      "Population Reward: min=-17.709966263094366, max=-9.277684214660683\n"
     ]
    },
    {
     "data": {
      "application/vnd.jupyter.widget-view+json": {
       "model_id": "58b076dafa804d4187e6b75d21504cb0"
      }
     },
     "metadata": {},
     "output_type": "display_data"
    },
    {
     "name": "stdout",
     "output_type": "stream",
     "text": [
      "Epoch: 2, Time: 62s, Reward: -17.22669566978883\n",
      "Population Reward: min=-17.950244397052906, max=-11.387946655807799\n"
     ]
    },
    {
     "data": {
      "application/vnd.jupyter.widget-view+json": {
       "model_id": "1b5d9f96876e42b9b930175b83af9ec1"
      }
     },
     "metadata": {},
     "output_type": "display_data"
    },
    {
     "name": "stdout",
     "output_type": "stream",
     "text": [
      "Epoch: 3, Time: 84s, Reward: -17.252720992490328\n",
      "Population Reward: min=-17.768414150489626, max=-7.911691264683053\n"
     ]
    },
    {
     "data": {
      "application/vnd.jupyter.widget-view+json": {
       "model_id": "8dfe30113677483e901d74be28f2c9cf"
      }
     },
     "metadata": {},
     "output_type": "display_data"
    },
    {
     "name": "stdout",
     "output_type": "stream",
     "text": [
      "Epoch: 4, Time: 105s, Reward: -17.80468012185317\n",
      "Population Reward: min=-17.63574054066414, max=-9.624377910750653\n"
     ]
    },
    {
     "data": {
      "application/vnd.jupyter.widget-view+json": {
       "model_id": "8877bfc37fb74edea3d1785a096e52ad"
      }
     },
     "metadata": {},
     "output_type": "display_data"
    },
    {
     "name": "stdout",
     "output_type": "stream",
     "text": [
      "Epoch: 5, Time: 126s, Reward: -11.698057987933758\n",
      "Population Reward: min=-17.677055285302707, max=-10.601206690494934\n"
     ]
    },
    {
     "data": {
      "application/vnd.jupyter.widget-view+json": {
       "model_id": "93f33d1cdf994d7eaacd2416279590fa"
      }
     },
     "metadata": {},
     "output_type": "display_data"
    },
    {
     "name": "stdout",
     "output_type": "stream",
     "text": [
      "Epoch: 6, Time: 147s, Reward: -17.05017773427438\n",
      "Population Reward: min=-17.639723606644814, max=-11.8218571639182\n"
     ]
    },
    {
     "data": {
      "application/vnd.jupyter.widget-view+json": {
       "model_id": "967f0c1242fb46debf726570f324fd93"
      }
     },
     "metadata": {},
     "output_type": "display_data"
    },
    {
     "name": "stdout",
     "output_type": "stream",
     "text": [
      "Epoch: 7, Time: 168s, Reward: -17.00280298204866\n",
      "Population Reward: min=-17.58578263841422, max=-9.904892769711534\n"
     ]
    },
    {
     "data": {
      "application/vnd.jupyter.widget-view+json": {
       "model_id": "b9a90c56522143c9b4d515d74140384e"
      }
     },
     "metadata": {},
     "output_type": "display_data"
    }
   ],
   "source": [
    "if exists(DIR_OUTPUT + '/weights.h5'):\n",
    "    model.load_weights(DIR_OUTPUT + '/weights.h5')\n",
    "return_dict = evolve(model, 10, lr=1e-2, num_points=5, flags=['verbose', 'reward_list'])\n",
    "if exists(DIR_OUTPUT + '/weights.h5'):\n",
    "    model.load_weights(DIR_OUTPUT + '/weights.h5')"
   ]
  },
  {
   "cell_type": "code",
   "execution_count": 102,
   "metadata": {},
   "outputs": [
    {
     "data": {
      "text/plain": [
       "[<matplotlib.lines.Line2D at 0x7fe08ae317b8>]"
      ]
     },
     "execution_count": 102,
     "metadata": {},
     "output_type": "execute_result"
    },
    {
     "data": {
      "image/png": "[encoded data removed]",
      "text/plain": [
       "<matplotlib.figure.Figure at 0x7fe08b543da0>"
      ]
     },
     "metadata": {},
     "output_type": "display_data"
    }
   ],
   "source": [
    "plot(np.array(return_dict['reward_list'])[:, 2])"
   ]
  },
  {
   "cell_type": "code",
   "execution_count": 104,
   "metadata": {},
   "outputs": [
    {
     "name": "stdout",
     "output_type": "stream",
     "text": [
      "[ 0.02204714  1.19430029  1.24257946 -0.16077097 -0.44420281 -0.40516499\n",
      " -0.58168775  0.51342285  0.66896552  0.38573143 -0.39244476  0.1321023\n",
      "  0.33432677  0.33432677  0.33432677]\n"
     ]
    },
    {
     "data": {
      "text/plain": [
       "-17.505577205561778"
      ]
     },
     "execution_count": 104,
     "metadata": {},
     "output_type": "execute_result"
    }
   ],
   "source": [
    "print(get_weights(model))\n",
    "run_env(model, 5, flags=['render'])"
   ]
  }
 ],
 "metadata": {
  "kernelspec": {
   "display_name": "Python 3",
   "language": "python",
   "name": "python3"
  },
  "language_info": {
   "codemirror_mode": {
    "name": "ipython",
    "version": 3
   },
   "file_extension": ".py",
   "mimetype": "text/x-python",
   "name": "python",
   "nbconvert_exporter": "python",
   "pygments_lexer": "ipython3",
   "version": "3.6.1"
  }
 },
 "nbformat": 4,
 "nbformat_minor": 2
}
